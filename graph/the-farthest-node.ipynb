{
 "cells": [
  {
   "cell_type": "markdown",
   "id": "e2529c81-85da-4f54-84c3-ddf7334c2c6f",
   "metadata": {
    "tags": []
   },
   "source": [
    "# [**가장 먼 노드**](https://programmers.co.kr/learn/courses/30/lessons/49189)\n",
    "\n",
    "### **문제 설명**\n",
    "n개의 노드가 있는 그래프가 있습니다. 각 노드는 1부터 n까지 번호가 적혀있습니다. 1번 노드에서 가장 멀리 떨어진 노드의 갯수를 구하려고 합니다. 가장 멀리 떨어진 노드란 최단경로로 이동했을 때 간선의 개수가 가장 많은 노드들을 의미합니다.\n",
    "\n",
    "노드의 개수 n, 간선에 대한 정보가 담긴 2차원 배열 vertex가 매개변수로 주어질 때, 1번 노드로부터 가장 멀리 떨어진 노드가 몇 개인지를 return 하도록 solution 함수를 작성해주세요.\n",
    "\n",
    "\n",
    "\n",
    "<br>\n",
    "\n",
    "### **제한 사항**\n",
    "\n",
    "- 노드의 개수 n은 2 이상 20,000 이하입니다.\n",
    "- 간선은 양방향이며 총 1개 이상 50,000개 이하의 간선이 있습니다.\n",
    "- vertex 배열 각 행 [a, b]는 a번 노드와 b번 노드 사이에 간선이 있다는 의미입니다.\n",
    "   \n",
    "<br>\n",
    "\n",
    "#### **입출력 예**\n",
    "n | vertex | return\n",
    "-- | -- | --\n",
    "6 | [[3, 6], [4, 3], [3, 2], [1, 3], [1, 2], [2, 4], [5, 2]] | 3\n",
    "\n",
    "<br>\n",
    "\n",
    "#### **입출력 예 설명**\n",
    "예제의 그래프를 표현하면 아래 그림과 같고, 1번 노드에서 가장 멀리 떨어진 노드는 4,5,6번 노드입니다.\n",
    "\n",
    "<img width=\"400\" src=\"https://grepp-programmers.s3.amazonaws.com/files/ybm/fadbae38bb/dec85ab5-0273-47b3-ba73-fc0b5f6be28a.png\">\n",
    "\n"
   ]
  },
  {
   "cell_type": "markdown",
   "id": "cbf1a074-d38d-41b9-ad3f-7e2785a87e4d",
   "metadata": {},
   "source": [
    "---\n",
    "## **Solution.py**"
   ]
  },
  {
   "cell_type": "code",
   "execution_count": 1,
   "id": "290dfb34-c6a6-4c36-a410-7845f1909a25",
   "metadata": {},
   "outputs": [],
   "source": [
    "from pprint import pprint"
   ]
  },
  {
   "cell_type": "code",
   "execution_count": 2,
   "id": "7207a775-b05b-401b-82e4-f331b5dfb6c1",
   "metadata": {},
   "outputs": [],
   "source": [
    "from collections import defaultdict, deque\n",
    "\n",
    "def solution(n, edge):\n",
    "    graph = defaultdict(set)\n",
    "    for x, y in edge:\n",
    "        graph[x].add(y)\n",
    "        graph[y].add(x)\n",
    "    \n",
    "    queue = deque()\n",
    "    queue.append((1, 0))\n",
    "    visited = {1}\n",
    "    \n",
    "    max_depth = 0\n",
    "    ans = set()\n",
    "    while queue:\n",
    "        x, depth = queue.popleft()\n",
    "        if max_depth < depth:\n",
    "            max_depth = depth\n",
    "            ans = {x}\n",
    "        elif max_depth == depth:\n",
    "            ans.add(x)\n",
    "                   \n",
    "        nodes = graph[x] - visited\n",
    "        queue.extend([(n, depth+1) for n in nodes])\n",
    "        visited |= nodes\n",
    "    return len(ans)"
   ]
  },
  {
   "cell_type": "code",
   "execution_count": 3,
   "id": "12660412-f7aa-4de4-bd6f-d1d39e544380",
   "metadata": {},
   "outputs": [
    {
     "data": {
      "text/plain": [
       "defaultdict(set,\n",
       "            {3: {1, 2, 4, 6},\n",
       "             6: {3},\n",
       "             4: {2, 3},\n",
       "             2: {1, 3, 4, 5},\n",
       "             1: {2, 3},\n",
       "             5: {2}})"
      ]
     },
     "execution_count": 3,
     "metadata": {},
     "output_type": "execute_result"
    }
   ],
   "source": [
    "n, edge = 6, [[3, 6], [4, 3], [3, 2], [1, 3], [1, 2], [2, 4], [5, 2]]\n",
    "\n",
    "graph = defaultdict(set)\n",
    "for x, y in edge:\n",
    "    graph[x].add(y)\n",
    "    graph[y].add(x)\n",
    "graph"
   ]
  },
  {
   "cell_type": "code",
   "execution_count": 4,
   "id": "9978a789-1595-4f2d-8f59-a02f10ac323f",
   "metadata": {},
   "outputs": [],
   "source": [
    "inputs = [\n",
    "    (6, [[3, 6], [4, 3], [3, 2], [1, 3], [1, 2], [2, 4], [5, 2]])\n",
    "]\n",
    "outputs = [\n",
    "    3\n",
    "]"
   ]
  },
  {
   "cell_type": "code",
   "execution_count": 5,
   "id": "130d4ac4-e5ae-414f-9f19-90e29a023c61",
   "metadata": {},
   "outputs": [
    {
     "name": "stdout",
     "output_type": "stream",
     "text": [
      "True 3 3\n"
     ]
    }
   ],
   "source": [
    "for idx, (i, o) in enumerate(zip(inputs, outputs)):\n",
    "    print(solution(*i)==o, solution(*i), o)"
   ]
  },
  {
   "cell_type": "markdown",
   "id": "4303ebb7-2542-4a54-9bfe-08dab686ec34",
   "metadata": {},
   "source": [
    "<img width=\"400\" alt=\"image\" src=\"https://user-images.githubusercontent.com/42428487/148797075-e7032e00-2c83-4ad2-9ed3-e90be3af9a38.png\">\n"
   ]
  }
 ],
 "metadata": {
  "kernelspec": {
   "display_name": "Python 3 (ipykernel)",
   "language": "python",
   "name": "python3"
  },
  "language_info": {
   "codemirror_mode": {
    "name": "ipython",
    "version": 3
   },
   "file_extension": ".py",
   "mimetype": "text/x-python",
   "name": "python",
   "nbconvert_exporter": "python",
   "pygments_lexer": "ipython3",
   "version": "3.7.0"
  }
 },
 "nbformat": 4,
 "nbformat_minor": 5
}
