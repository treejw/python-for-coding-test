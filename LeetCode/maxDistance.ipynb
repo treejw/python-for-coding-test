{
 "cells": [
  {
   "cell_type": "markdown",
   "id": "a23d4808-6579-4a8a-b64c-e8a086c439b5",
   "metadata": {},
   "source": [
    "# [**1855. Maximum Distance Between a Pair of Values**](https://leetcode.com/problems/maximum-distance-between-a-pair-of-values/)\n",
    "<div><p>You are given two <strong>non-increasing 0-indexed </strong>integer arrays <code>nums1</code>​​​​​​ and <code>nums2</code>​​​​​​.</p>\n",
    "\n",
    "<p>A pair of indices <code>(i, j)</code>, where <code>0 &lt;= i &lt; nums1.length</code> and <code>0 &lt;= j &lt; nums2.length</code>, is <strong>valid</strong> if both <code>i &lt;= j</code> and <code>nums1[i] &lt;= nums2[j]</code>. The <strong>distance</strong> of the pair is <code>j - i</code>​​​​.</p>\n",
    "\n",
    "<p>Return <em>the <strong>maximum distance</strong> of any <strong>valid</strong> pair </em><code>(i, j)</code><em>. If there are no valid pairs, return </em><code>0</code>.</p>\n",
    "\n",
    "<p>An array <code>arr</code> is <strong>non-increasing</strong> if <code>arr[i-1] &gt;= arr[i]</code> for every <code>1 &lt;= i &lt; arr.length</code>.</p>\n",
    "\n",
    "<p>&nbsp;</p>\n",
    "<p><strong>Example 1:</strong></p>\n",
    "\n",
    "<pre><strong>Input:</strong> nums1 = [55,30,5,4,2], nums2 = [100,20,10,10,5]\n",
    "<strong>Output:</strong> 2\n",
    "<strong>Explanation:</strong> The valid pairs are (0,0), (2,2), (2,3), (2,4), (3,3), (3,4), and (4,4).\n",
    "The maximum distance is 2 with pair (2,4).\n",
    "</pre>\n",
    "\n",
    "<p><strong>Example 2:</strong></p>\n",
    "\n",
    "<pre><strong>Input:</strong> nums1 = [2,2,2], nums2 = [10,10,1]\n",
    "<strong>Output:</strong> 1\n",
    "<strong>Explanation:</strong> The valid pairs are (0,0), (0,1), and (1,1).\n",
    "The maximum distance is 1 with pair (0,1).\n",
    "</pre>\n",
    "\n",
    "<p><strong>Example 3:</strong></p>\n",
    "\n",
    "<pre><strong>Input:</strong> nums1 = [30,29,19,5], nums2 = [25,25,25,25,25]\n",
    "<strong>Output:</strong> 2\n",
    "<strong>Explanation:</strong> The valid pairs are (2,2), (2,3), (2,4), (3,3), and (3,4).\n",
    "The maximum distance is 2 with pair (2,4).\n",
    "</pre>\n",
    "\n",
    "<p>&nbsp;</p>\n",
    "<p><strong>Constraints:</strong></p>\n",
    "\n",
    "<ul>\n",
    "\t<li><code>1 &lt;= nums1.length, nums2.length &lt;= 10<sup>5</sup></code></li>\n",
    "\t<li><code>1 &lt;= nums1[i], nums2[j] &lt;= 10<sup>5</sup></code></li>\n",
    "\t<li>Both <code>nums1</code> and <code>nums2</code> are <strong>non-increasing</strong>.</li>\n",
    "</ul>\n",
    "</div>"
   ]
  },
  {
   "cell_type": "markdown",
   "id": "228417ad-ae23-49a6-908d-8281fc34aa3e",
   "metadata": {
    "tags": []
   },
   "source": [
    "## **Solution.py**"
   ]
  },
  {
   "cell_type": "code",
   "execution_count": 1,
   "id": "d84e589b-c4ae-4d8f-b894-c382986ff17f",
   "metadata": {},
   "outputs": [],
   "source": [
    "from typing import List, Dict, Tuple"
   ]
  },
  {
   "cell_type": "code",
   "execution_count": 2,
   "id": "558a119d-36d6-4b66-b4ba-dbc88639817f",
   "metadata": {},
   "outputs": [],
   "source": [
    "class Solution:\n",
    "    def maxDistance(self, nums1: List[int], nums2: List[int]) -> int:\n",
    "        \n",
    "        i, j = 0, 0\n",
    "        max_distance = 0\n",
    "        \n",
    "        while i < len(nums1):\n",
    "            if j == len(nums2):\n",
    "                return max_distance\n",
    "            if nums1[i] > nums2[j]:\n",
    "                i += 1\n",
    "                continue\n",
    "            max_distance = max(j-i, max_distance)\n",
    "            j += 1\n",
    "        return max_distance"
   ]
  },
  {
   "cell_type": "code",
   "execution_count": 3,
   "id": "5592d10f-b9a2-45fe-ae96-fed19a7362c9",
   "metadata": {},
   "outputs": [],
   "source": [
    "inputs = [\n",
    "    ([55,30,5,4,2],[100,20,10,10,5]),\n",
    "    ([2,2,2], [10,10,1]),\n",
    "    ([30,29,19,5], [25,25,25,25,25])\n",
    "]\n",
    "outputs = [\n",
    "    2,\n",
    "    1,\n",
    "    2\n",
    "]"
   ]
  },
  {
   "cell_type": "code",
   "execution_count": 4,
   "id": "c21c8467-79c2-4c8d-a328-3db51a84b734",
   "metadata": {},
   "outputs": [
    {
     "name": "stdout",
     "output_type": "stream",
     "text": [
      "True 2 2\n",
      "True 1 1\n",
      "True 2 2\n"
     ]
    }
   ],
   "source": [
    "solution = Solution().maxDistance\n",
    "\n",
    "for idx, (i, o) in enumerate(zip(inputs, outputs)):\n",
    "    sol_ = solution(*i)\n",
    "    print(sol_==o, sol_, o)"
   ]
  },
  {
   "cell_type": "markdown",
   "id": "84077b21-5601-4610-b7e9-c5c53f3feab3",
   "metadata": {},
   "source": [
    "<img width=\"330\" alt=\"image\" src=\"https://user-images.githubusercontent.com/42428487/159650149-b216f8b0-96c8-4294-a8f9-0ad35cdb9392.png\">\n"
   ]
  }
 ],
 "metadata": {
  "kernelspec": {
   "display_name": "Python 3 (ipykernel)",
   "language": "python",
   "name": "python3"
  },
  "language_info": {
   "codemirror_mode": {
    "name": "ipython",
    "version": 3
   },
   "file_extension": ".py",
   "mimetype": "text/x-python",
   "name": "python",
   "nbconvert_exporter": "python",
   "pygments_lexer": "ipython3",
   "version": "3.7.0"
  }
 },
 "nbformat": 4,
 "nbformat_minor": 5
}
