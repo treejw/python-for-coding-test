{
 "cells": [
  {
   "cell_type": "markdown",
   "id": "0739a073-2b06-4269-af78-ce8ac5542b64",
   "metadata": {
    "tags": []
   },
   "source": [
    "# [**947. Most Stones Removed with Same Row or Column**](https://leetcode.com/problems/most-stones-removed-with-same-row-or-column/)\n",
    "\n",
    "<div class=\"content__u3I1 question-content__JfgR\"><div><p>On a 2D plane, we place <code>n</code> stones at some integer coordinate points. Each coordinate point may have at most one stone.</p>\n",
    "\n",
    "<p>A stone can be removed if it shares either <strong>the same row or the same column</strong> as another stone that has not been removed.</p>\n",
    "\n",
    "<p>Given an array <code>stones</code> of length <code>n</code> where <code>stones[i] = [x<sub>i</sub>, y<sub>i</sub>]</code> represents the location of the <code>i<sup>th</sup></code> stone, return <em>the largest possible number of stones that can be removed</em>.</p>\n",
    "\n",
    "<p>&nbsp;</p>\n",
    "<p><strong>Example 1:</strong></p>\n",
    "\n",
    "<pre><strong>Input:</strong> stones = [[0,0],[0,1],[1,0],[1,2],[2,1],[2,2]]\n",
    "<strong>Output:</strong> 5\n",
    "<strong>Explanation:</strong> One way to remove 5 stones is as follows:\n",
    "1. Remove stone [2,2] because it shares the same row as [2,1].\n",
    "2. Remove stone [2,1] because it shares the same column as [0,1].\n",
    "3. Remove stone [1,2] because it shares the same row as [1,0].\n",
    "4. Remove stone [1,0] because it shares the same column as [0,0].\n",
    "5. Remove stone [0,1] because it shares the same row as [0,0].\n",
    "Stone [0,0] cannot be removed since it does not share a row/column with another stone still on the plane.\n",
    "</pre>\n",
    "\n",
    "<p><strong>Example 2:</strong></p>\n",
    "\n",
    "<pre><strong>Input:</strong> stones = [[0,0],[0,2],[1,1],[2,0],[2,2]]\n",
    "<strong>Output:</strong> 3\n",
    "<strong>Explanation:</strong> One way to make 3 moves is as follows:\n",
    "1. Remove stone [2,2] because it shares the same row as [2,0].\n",
    "2. Remove stone [2,0] because it shares the same column as [0,0].\n",
    "3. Remove stone [0,2] because it shares the same row as [0,0].\n",
    "Stones [0,0] and [1,1] cannot be removed since they do not share a row/column with another stone still on the plane.\n",
    "</pre>\n",
    "\n",
    "<p><strong>Example 3:</strong></p>\n",
    "\n",
    "<pre><strong>Input:</strong> stones = [[0,0]]\n",
    "<strong>Output:</strong> 0\n",
    "<strong>Explanation:</strong> [0,0] is the only stone on the plane, so you cannot remove it.\n",
    "</pre>\n",
    "\n",
    "<p>&nbsp;</p>\n",
    "<p><strong>Constraints:</strong></p>\n",
    "\n",
    "<ul>\n",
    "\t<li><code>1 &lt;= stones.length &lt;= 1000</code></li>\n",
    "\t<li><code>0 &lt;= x<sub>i</sub>, y<sub>i</sub> &lt;= 10<sup>4</sup></code></li>\n",
    "\t<li>No two stones are at the same coordinate point.</li>\n",
    "</ul>\n",
    "</div></div>"
   ]
  },
  {
   "cell_type": "markdown",
   "id": "2edde4b0-cb74-4cf9-9ef6-46a80223eb40",
   "metadata": {
    "tags": []
   },
   "source": [
    "## **Solution.py**"
   ]
  },
  {
   "cell_type": "code",
   "execution_count": 1,
   "id": "5718abbb-3957-4f03-8537-3334940c7a79",
   "metadata": {},
   "outputs": [],
   "source": [
    "from typing import List, Dict, Tuple"
   ]
  },
  {
   "cell_type": "code",
   "execution_count": 2,
   "id": "646a2f2c-8c61-43cb-96bb-281820a50e65",
   "metadata": {},
   "outputs": [],
   "source": [
    "from collections import defaultdict\n",
    "\n",
    "def dfs(node, graph, visited):\n",
    "    adjNodes = graph[node] - visited\n",
    "    if not adjNodes:\n",
    "        return 0, visited\n",
    "    \n",
    "    visited |= adjNodes\n",
    "    n_stones = len(adjNodes)\n",
    "    for adj in adjNodes:\n",
    "        visited.add(adj)\n",
    "        n, visited = dfs(adj, graph, visited)\n",
    "        n_stones += n\n",
    "    return n_stones, visited\n",
    "\n",
    "class Solution:\n",
    "    def removeStones(self, stones: List[List[int]]) -> int:\n",
    "        graph = defaultdict(set)\n",
    "        graph_row = defaultdict(set)\n",
    "        graph_col = defaultdict(set)\n",
    "        \n",
    "        for (r,c) in stones:\n",
    "            graph_row[r].add((r,c))\n",
    "            graph_col[c].add((r,c))\n",
    "        for (r,c) in stones:\n",
    "            graph[(r,c)] = (graph_row[r] | graph_col[c]) - {(r,c)}\n",
    "        \n",
    "        visited = set()\n",
    "        num_zip, num_stones = 0, 0\n",
    "        for node in graph:\n",
    "            if node not in visited:\n",
    "                visited.add(node)\n",
    "                n_stones, visited = dfs(node, graph, visited)\n",
    "                if n_stones > 0:\n",
    "                    num_zip += 1\n",
    "                    num_stones += n_stones\n",
    "        return num_stones"
   ]
  },
  {
   "cell_type": "code",
   "execution_count": 3,
   "id": "4876d841-673e-4c76-99ca-956aaed62011",
   "metadata": {},
   "outputs": [],
   "source": [
    "inputs = [\n",
    "    [[0,0],[0,1],[1,0],[1,2],[2,1],[2,2]],\n",
    "    [[0,0],[0,2],[1,1],[2,0],[2,2]],\n",
    "    [[0,0]],\n",
    "    [[3,2],[3,1],[4,4],[1,1],[0,2],[4,0]],\n",
    "    [[8,3],[6,8],[4,3],[8,0],[2,2],[2,1],[7,4],[8,7],[1,7],[3,7],[8,4]]\n",
    "]\n",
    "outputs = [\n",
    "    5,\n",
    "    3,\n",
    "    0,\n",
    "    4,\n",
    "    8\n",
    "]"
   ]
  },
  {
   "cell_type": "code",
   "execution_count": 4,
   "id": "a4e54389-cd8e-4cfe-bae2-e7980aac4925",
   "metadata": {
    "tags": []
   },
   "outputs": [
    {
     "name": "stdout",
     "output_type": "stream",
     "text": [
      "True 5 5\n",
      "True 3 3\n",
      "True 0 0\n",
      "True 4 4\n",
      "True 8 8\n"
     ]
    }
   ],
   "source": [
    "solution = Solution().removeStones\n",
    "\n",
    "for idx, (i, o) in enumerate(zip(inputs, outputs)):\n",
    "    sol_ = solution(i)\n",
    "    print(sol_==o, sol_, o)"
   ]
  },
  {
   "cell_type": "markdown",
   "id": "c25ee2bc-336a-4334-8326-5d2e1856f566",
   "metadata": {},
   "source": [
    "<img width=\"330\" alt=\"image\" src=\"https://user-images.githubusercontent.com/42428487/163137775-001d495d-9ef2-455c-9c96-5f41d3ca4047.png\">"
   ]
  }
 ],
 "metadata": {
  "kernelspec": {
   "display_name": "Python 3 (ipykernel)",
   "language": "python",
   "name": "python3"
  },
  "language_info": {
   "codemirror_mode": {
    "name": "ipython",
    "version": 3
   },
   "file_extension": ".py",
   "mimetype": "text/x-python",
   "name": "python",
   "nbconvert_exporter": "python",
   "pygments_lexer": "ipython3",
   "version": "3.7.0"
  }
 },
 "nbformat": 4,
 "nbformat_minor": 5
}
