{
 "cells": [
  {
   "cell_type": "markdown",
   "id": "851f3888-1ed6-418b-b35a-c820c16ec0df",
   "metadata": {},
   "source": [
    "# [**1710. Maximum Units on a Truck**](https://leetcode.com/problems/maximum-units-on-a-truck/)\n",
    "\n",
    "<div class=\"content__u3I1 question-content__JfgR\"><div><p>You are assigned to put some amount of boxes onto <strong>one truck</strong>. You are given a 2D array <code>boxTypes</code>, where <code>boxTypes[i] = [numberOfBoxes<sub>i</sub>, numberOfUnitsPerBox<sub>i</sub>]</code>:</p>\n",
    "\n",
    "<ul>\n",
    "\t<li><code>numberOfBoxes<sub>i</sub></code> is the number of boxes of type <code>i</code>.</li>\n",
    "\t<li><code>numberOfUnitsPerBox<sub>i</sub></code><sub> </sub>is the number of units in each box of the type <code>i</code>.</li>\n",
    "</ul>\n",
    "\n",
    "<p>You are also given an integer <code>truckSize</code>, which is the <strong>maximum</strong> number of <strong>boxes</strong> that can be put on the truck. You can choose any boxes to put on the truck as long as the number&nbsp;of boxes does not exceed <code>truckSize</code>.</p>\n",
    "\n",
    "<p>Return <em>the <strong>maximum</strong> total number of <strong>units</strong> that can be put on the truck.</em></p>\n",
    "\n",
    "<p>&nbsp;</p>\n",
    "<p><strong>Example 1:</strong></p>\n",
    "\n",
    "<pre><strong>Input:</strong> boxTypes = [[1,3],[2,2],[3,1]], truckSize = 4\n",
    "<strong>Output:</strong> 8\n",
    "<strong>Explanation:</strong> There are:\n",
    "- 1 box of the first type that contains 3 units.\n",
    "- 2 boxes of the second type that contain 2 units each.\n",
    "- 3 boxes of the third type that contain 1 unit each.\n",
    "You can take all the boxes of the first and second types, and one box of the third type.\n",
    "The total number of units will be = (1 * 3) + (2 * 2) + (1 * 1) = 8.\n",
    "</pre>\n",
    "\n",
    "<p><strong>Example 2:</strong></p>\n",
    "\n",
    "<pre><strong>Input:</strong> boxTypes = [[5,10],[2,5],[4,7],[3,9]], truckSize = 10\n",
    "<strong>Output:</strong> 91\n",
    "</pre>\n",
    "\n",
    "<p>&nbsp;</p>\n",
    "<p><strong>Constraints:</strong></p>\n",
    "\n",
    "<ul>\n",
    "\t<li><code>1 &lt;= boxTypes.length &lt;= 1000</code></li>\n",
    "\t<li><code>1 &lt;= numberOfBoxes<sub>i</sub>, numberOfUnitsPerBox<sub>i</sub> &lt;= 1000</code></li>\n",
    "\t<li><code>1 &lt;= truckSize &lt;= 10<sup>6</sup></code></li>\n",
    "</ul>\n",
    "</div></div>"
   ]
  },
  {
   "cell_type": "markdown",
   "id": "5bd0c198-ffc8-484a-8a18-1518b054d7bb",
   "metadata": {
    "tags": []
   },
   "source": [
    "---\n",
    "## **Solution.py**"
   ]
  },
  {
   "cell_type": "code",
   "execution_count": 1,
   "id": "699caf12-ee5c-4e76-bc7e-f0b4b5881811",
   "metadata": {},
   "outputs": [],
   "source": [
    "from pprint import pprint"
   ]
  },
  {
   "cell_type": "code",
   "execution_count": 2,
   "id": "a5729ab5-b6d2-48e4-8758-bef053db5f71",
   "metadata": {},
   "outputs": [],
   "source": [
    "from typing import List, Dict, Tuple"
   ]
  },
  {
   "cell_type": "code",
   "execution_count": 3,
   "id": "20c69ebe-3d59-4e81-b508-034aac98ccb1",
   "metadata": {},
   "outputs": [],
   "source": [
    "class Solution:\n",
    "    def maximumUnits(self, boxTypes: List[List[int]], truckSize: int) -> int:\n",
    "        boxTypes.sort(key=lambda x: x[1], reverse=True)\n",
    "        \n",
    "        cur_boxes, cur_units = 0, 0\n",
    "        for (n_box, n_unit) in boxTypes:\n",
    "            add_boxes = min(n_box, truckSize-cur_boxes)\n",
    "            \n",
    "            cur_boxes += add_boxes\n",
    "            cur_units += add_boxes*n_unit\n",
    "            \n",
    "            if cur_boxes == truckSize:\n",
    "                return cur_units"
   ]
  },
  {
   "cell_type": "code",
   "execution_count": 4,
   "id": "01d67551-eb25-4f3f-ab3b-16fd36348e75",
   "metadata": {},
   "outputs": [],
   "source": [
    "inputs = [\n",
    "    [ [[1,3],[2,2],[3,1]] , 4],\n",
    "    [ [[5,10],[2,5],[4,7],[3,9]], 10]\n",
    "]\n",
    "outputs = [\n",
    "    8,\n",
    "    91\n",
    "]"
   ]
  },
  {
   "cell_type": "code",
   "execution_count": 5,
   "id": "e3a9c721-9b28-4e73-9268-d56bd0d3b8ea",
   "metadata": {},
   "outputs": [
    {
     "name": "stdout",
     "output_type": "stream",
     "text": [
      "True 8 8\n",
      "True 91 91\n"
     ]
    }
   ],
   "source": [
    "solution = Solution().maximumUnits\n",
    "\n",
    "for idx, (i, o) in enumerate(zip(inputs, outputs)):\n",
    "    sol_ = solution(*i)\n",
    "    print(sol_==o, sol_, o)"
   ]
  },
  {
   "cell_type": "markdown",
   "id": "114d8a2e-b6e1-4c36-923c-5bd2c9361dfc",
   "metadata": {},
   "source": [
    "<img width=\"330\" alt=\"image\" src=\"https://user-images.githubusercontent.com/42428487/161910547-888828d9-ad70-491f-9a48-e6e0889e89d8.png\">\n"
   ]
  }
 ],
 "metadata": {
  "kernelspec": {
   "display_name": "Python 3 (ipykernel)",
   "language": "python",
   "name": "python3"
  },
  "language_info": {
   "codemirror_mode": {
    "name": "ipython",
    "version": 3
   },
   "file_extension": ".py",
   "mimetype": "text/x-python",
   "name": "python",
   "nbconvert_exporter": "python",
   "pygments_lexer": "ipython3",
   "version": "3.7.0"
  }
 },
 "nbformat": 4,
 "nbformat_minor": 5
}
