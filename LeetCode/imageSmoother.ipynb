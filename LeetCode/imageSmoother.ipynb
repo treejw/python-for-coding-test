{
 "cells": [
  {
   "cell_type": "markdown",
   "id": "9640b486-52fa-4f40-a080-91957d151be0",
   "metadata": {
    "tags": []
   },
   "source": [
    "# [**661. Image Smoother**](https://leetcode.com/problems/image-smoother/)\n",
    "\n",
    "<div class=\"content__u3I1 question-content__JfgR\"><div><p>An <strong>image smoother</strong> is a filter of the size <code>3 x 3</code> that can be applied to each cell of an image by rounding down the average of the cell and the eight surrounding cells (i.e., the average of the nine cells in the blue smoother). If one or more of the surrounding cells of a cell is not present, we do not consider it in the average (i.e., the average of the four cells in the red smoother).</p>\n",
    "<img alt=\"\" src=\"https://assets.leetcode.com/uploads/2021/05/03/smoother-grid.jpg\" style=\"width: 493px; height: 493px;\">\n",
    "<p>Given an <code>m x n</code> integer matrix <code>img</code> representing the grayscale of an image, return <em>the image after applying the smoother on each cell of it</em>.</p>\n",
    "\n",
    "<p>&nbsp;</p>\n",
    "<p><strong>Example 1:</strong></p>\n",
    "<img alt=\"\" src=\"https://assets.leetcode.com/uploads/2021/05/03/smooth-grid.jpg\" style=\"width: 613px; height: 253px;\">\n",
    "<pre><strong>Input:</strong> img = [[1,1,1],[1,0,1],[1,1,1]]\n",
    "<strong>Output:</strong> [[0,0,0],[0,0,0],[0,0,0]]\n",
    "<strong>Explanation:</strong>\n",
    "For the points (0,0), (0,2), (2,0), (2,2): floor(3/4) = floor(0.75) = 0\n",
    "For the points (0,1), (1,0), (1,2), (2,1): floor(5/6) = floor(0.83333333) = 0\n",
    "For the point (1,1): floor(8/9) = floor(0.88888889) = 0\n",
    "</pre>\n",
    "\n",
    "<p><strong>Example 2:</strong></p>\n",
    "<img alt=\"\" src=\"https://assets.leetcode.com/uploads/2021/05/03/smooth2-grid.jpg\" style=\"width: 613px; height: 253px;\">\n",
    "<pre><strong>Input:</strong> img = [[100,200,100],[200,50,200],[100,200,100]]\n",
    "<strong>Output:</strong> [[137,141,137],[141,138,141],[137,141,137]]\n",
    "<strong>Explanation:</strong>\n",
    "For the points (0,0), (0,2), (2,0), (2,2): floor((100+200+200+50)/4) = floor(137.5) = 137\n",
    "For the points (0,1), (1,0), (1,2), (2,1): floor((200+200+50+200+100+100)/6) = floor(141.666667) = 141\n",
    "For the point (1,1): floor((50+200+200+200+200+100+100+100+100)/9) = floor(138.888889) = 138\n",
    "</pre>\n",
    "\n",
    "<p>&nbsp;</p>\n",
    "<p><strong>Constraints:</strong></p>\n",
    "\n",
    "<ul>\n",
    "\t<li><code>m == img.length</code></li>\n",
    "\t<li><code>n == img[i].length</code></li>\n",
    "\t<li><code>1 &lt;= m, n &lt;= 200</code></li>\n",
    "\t<li><code>0 &lt;= img[i][j] &lt;= 255</code></li>\n",
    "</ul>\n",
    "</div></div>"
   ]
  },
  {
   "cell_type": "markdown",
   "id": "8b497c53-29ae-4e5f-b151-c3259071dfe5",
   "metadata": {
    "tags": []
   },
   "source": [
    "---\n",
    "## **Solution.py**"
   ]
  },
  {
   "cell_type": "code",
   "execution_count": 1,
   "id": "2db0fd91-c04e-44b5-8cf5-bfc39a171f08",
   "metadata": {},
   "outputs": [],
   "source": [
    "from pprint import pprint"
   ]
  },
  {
   "cell_type": "code",
   "execution_count": 2,
   "id": "00f12952-a27f-4e13-bbe8-87b090590f3e",
   "metadata": {},
   "outputs": [],
   "source": [
    "from typing import List, Dict, Tuple"
   ]
  },
  {
   "cell_type": "code",
   "execution_count": 3,
   "id": "0795a1da-009c-4092-922f-13e826a6fae1",
   "metadata": {},
   "outputs": [],
   "source": [
    "from math import floor\n",
    "\n",
    "class Solution:\n",
    "    def imageSmoother(self, img: List[List[int]]) -> List[List[int]]:\n",
    "        m, n = len(img), len(img[0])\n",
    "        ans = [[0]*n for _ in range(m)]\n",
    "        \n",
    "        for i in range(m):\n",
    "            for j in range(n):\n",
    "                adj_cells = [img[ii][max(0,j-1):min(j+2,n)] for ii in range(max(0,i-1),min(i+2,m))]\n",
    "                ans[i][j] = floor(sum([sum(a) for a in adj_cells])/(len(adj_cells)*len(adj_cells[0])))\n",
    "        return ans"
   ]
  },
  {
   "cell_type": "code",
   "execution_count": 4,
   "id": "0a67f731-4a9c-4908-9d7d-d0007489d870",
   "metadata": {},
   "outputs": [],
   "source": [
    "inputs = [\n",
    "    [[1,1,1],[1,0,1],[1,1,1]],\n",
    "    [[100,200,100],[200,50,200],[100,200,100]]\n",
    "]\n",
    "outputs = [\n",
    "    [[0,0,0],[0,0,0],[0,0,0]],\n",
    "    [[137,141,137],[141,138,141],[137,141,137]]\n",
    "]"
   ]
  },
  {
   "cell_type": "code",
   "execution_count": 5,
   "id": "92a0d789-cee6-483f-8e9b-8467dc2c1a5e",
   "metadata": {},
   "outputs": [
    {
     "name": "stdout",
     "output_type": "stream",
     "text": [
      "True [[0, 0, 0], [0, 0, 0], [0, 0, 0]] [[0, 0, 0], [0, 0, 0], [0, 0, 0]]\n",
      "True [[137, 141, 137], [141, 138, 141], [137, 141, 137]] [[137, 141, 137], [141, 138, 141], [137, 141, 137]]\n"
     ]
    }
   ],
   "source": [
    "solution = Solution().imageSmoother\n",
    "\n",
    "for idx, (i, o) in enumerate(zip(inputs, outputs)):\n",
    "    sol_ = solution(i)\n",
    "    print(sol_==o, sol_, o)"
   ]
  },
  {
   "cell_type": "markdown",
   "id": "56a1a0e6-404f-4463-b566-3cdf641b4c16",
   "metadata": {},
   "source": [
    "<img width=\"330\" alt=\"image\" src=\"https://user-images.githubusercontent.com/42428487/162021836-e075f6cb-1964-4f39-bdea-d14bc2cf382e.png\">\n"
   ]
  }
 ],
 "metadata": {
  "kernelspec": {
   "display_name": "Python 3 (ipykernel)",
   "language": "python",
   "name": "python3"
  },
  "language_info": {
   "codemirror_mode": {
    "name": "ipython",
    "version": 3
   },
   "file_extension": ".py",
   "mimetype": "text/x-python",
   "name": "python",
   "nbconvert_exporter": "python",
   "pygments_lexer": "ipython3",
   "version": "3.7.0"
  }
 },
 "nbformat": 4,
 "nbformat_minor": 5
}
