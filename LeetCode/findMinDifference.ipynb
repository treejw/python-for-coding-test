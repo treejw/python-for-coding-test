{
 "cells": [
  {
   "cell_type": "markdown",
   "id": "be9b1cec-aaaa-4f5d-9599-9342f3ae5b93",
   "metadata": {
    "tags": []
   },
   "source": [
    "# [**539. Minimum Time Difference**](https://leetcode.com/problems/minimum-time-difference/)\n",
    "\n",
    "<div>Given a list of 24-hour clock time points in <strong>\"HH:MM\"</strong> format, return <em>the minimum <b>minutes</b> difference between any two time-points in the list</em>.\n",
    "<p>&nbsp;</p>\n",
    "<p><strong>Example 1:</strong></p>\n",
    "<pre><strong>Input:</strong> timePoints = [\"23:59\",\"00:00\"]\n",
    "<strong>Output:</strong> 1\n",
    "</pre><p><strong>Example 2:</strong></p>\n",
    "<pre><strong>Input:</strong> timePoints = [\"00:00\",\"23:59\",\"00:00\"]\n",
    "<strong>Output:</strong> 0\n",
    "</pre>\n",
    "<p>&nbsp;</p>\n",
    "<p><strong>Constraints:</strong></p>\n",
    "\n",
    "<ul>\n",
    "\t<li><code>2 &lt;= timePoints.length &lt;= 2 * 10<sup>4</sup></code></li>\n",
    "\t<li><code>timePoints[i]</code> is in the format <strong>\"HH:MM\"</strong>.</li>\n",
    "</ul>\n",
    "</div>"
   ]
  },
  {
   "cell_type": "markdown",
   "id": "7cc5cd91-5a61-48e8-ac3f-15abf1d75d19",
   "metadata": {
    "tags": []
   },
   "source": [
    "## **Solution.py**"
   ]
  },
  {
   "cell_type": "code",
   "execution_count": 1,
   "id": "918ea9d6-047b-4cb8-a496-38283e1d6aba",
   "metadata": {},
   "outputs": [],
   "source": [
    "from typing import List, Dict, Tuple"
   ]
  },
  {
   "cell_type": "code",
   "execution_count": 2,
   "id": "080f2d17-652c-41aa-a94c-5b4ef4e90f53",
   "metadata": {},
   "outputs": [],
   "source": [
    "def time2minutes(timePoint):\n",
    "    return int(timePoint[:2])*60 + int(timePoint[3:])\n",
    "\n",
    "class Solution:\n",
    "    def findMinDifference(self, timePoints: List[str]) -> int:\n",
    "        timePoints = sorted(map(lambda x: time2minutes(x), timePoints))\n",
    "        diff = [timePoints[i+1]-timePoints[i] for i in range(len(timePoints)-1)] + [ 1440 - timePoints[-1] + timePoints[0] ]\n",
    "        return min(diff)"
   ]
  },
  {
   "cell_type": "code",
   "execution_count": 3,
   "id": "e866c6d8-7a65-4cd1-baf1-8fe87ddd153a",
   "metadata": {},
   "outputs": [],
   "source": [
    "inputs = [\n",
    "    [\"23:59\",\"00:00\"],\n",
    "    [\"00:00\",\"23:59\",\"00:00\"],\n",
    "    [\"05:31\",\"22:08\",\"00:35\"]\n",
    "]\n",
    "outputs = [\n",
    "    1,\n",
    "    0,\n",
    "    147\n",
    "]"
   ]
  },
  {
   "cell_type": "code",
   "execution_count": 4,
   "id": "1670c370-07d0-49e2-8651-0f70aaec7ae3",
   "metadata": {
    "tags": []
   },
   "outputs": [
    {
     "name": "stdout",
     "output_type": "stream",
     "text": [
      "True 1 1\n",
      "True 0 0\n",
      "True 147 147\n"
     ]
    }
   ],
   "source": [
    "solution = Solution().findMinDifference\n",
    "\n",
    "for idx, (i, o) in enumerate(zip(inputs, outputs)):\n",
    "    sol_ = solution(i)\n",
    "    print(sol_==o, sol_, o)"
   ]
  },
  {
   "cell_type": "markdown",
   "id": "2526056a-39a8-4c95-90a7-4b79d4055780",
   "metadata": {},
   "source": [
    "<img width=\"330\" alt=\"image\" src=\"https://user-images.githubusercontent.com/42428487/164086795-cb507c09-6843-4ae7-9759-b61065f0c015.png\">"
   ]
  }
 ],
 "metadata": {
  "kernelspec": {
   "display_name": "Python 3 (ipykernel)",
   "language": "python",
   "name": "python3"
  },
  "language_info": {
   "codemirror_mode": {
    "name": "ipython",
    "version": 3
   },
   "file_extension": ".py",
   "mimetype": "text/x-python",
   "name": "python",
   "nbconvert_exporter": "python",
   "pygments_lexer": "ipython3",
   "version": "3.7.0"
  }
 },
 "nbformat": 4,
 "nbformat_minor": 5
}
