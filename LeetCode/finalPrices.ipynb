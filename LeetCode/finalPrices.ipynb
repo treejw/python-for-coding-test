{
 "cells": [
  {
   "cell_type": "markdown",
   "id": "fd598287-afc6-4a26-a2ce-caf6e4d3c2c6",
   "metadata": {},
   "source": [
    "# [**1475. Final Prices With a Special Discount in a Shop**](https://leetcode.com/problems/final-prices-with-a-special-discount-in-a-shop/)\n",
    "\n",
    "<div class=\"content__u3I1 question-content__JfgR\"><div><p>Given the array <code>prices</code> where <code>prices[i]</code> is the price of the <code>ith</code> item in a shop. There is a special discount for items in the shop, if you buy the <code>ith</code> item, then you will receive a discount equivalent to <code>prices[j]</code> where <code>j</code> is the <strong>minimum</strong>&nbsp;index such that <code>j &gt; i</code> and <code>prices[j] &lt;= prices[i]</code>, otherwise, you will not receive any discount at all.</p>\n",
    "\n",
    "<p><em>Return an array where the <code>ith</code> element is the final price you will pay for the <code>ith</code> item of the shop considering the special discount.</em></p>\n",
    "\n",
    "<p>&nbsp;</p>\n",
    "<p><strong>Example 1:</strong></p>\n",
    "\n",
    "<pre><strong>Input:</strong> prices = [8,4,6,2,3]\n",
    "<strong>Output:</strong> [4,2,4,2,3]\n",
    "<strong>Explanation:</strong>&nbsp;\n",
    "For item 0 with price[0]=8 you will receive a discount equivalent to prices[1]=4, therefore, the final price you will pay is 8 - 4 = 4.&nbsp;\n",
    "For item 1 with price[1]=4 you will receive a discount equivalent to prices[3]=2, therefore, the final price you will pay is 4 - 2 = 2.&nbsp;\n",
    "For item 2 with price[2]=6 you will receive a discount equivalent to prices[3]=2, therefore, the final price you will pay is 6 - 2 = 4.&nbsp;\n",
    "For items 3 and 4 you will not receive any discount at all.\n",
    "</pre>\n",
    "\n",
    "<p><strong>Example 2:</strong></p>\n",
    "\n",
    "<pre><strong>Input:</strong> prices = [1,2,3,4,5]\n",
    "<strong>Output:</strong> [1,2,3,4,5]\n",
    "<strong>Explanation:</strong> In this case, for all items, you will not receive any discount at all.\n",
    "</pre>\n",
    "\n",
    "<p><strong>Example 3:</strong></p>\n",
    "\n",
    "<pre><strong>Input:</strong> prices = [10,1,1,6]\n",
    "<strong>Output:</strong> [9,0,1,6]\n",
    "</pre>\n",
    "\n",
    "<p>&nbsp;</p>\n",
    "<p><strong>Constraints:</strong></p>\n",
    "\n",
    "<ul>\n",
    "\t<li><code>1 &lt;= prices.length &lt;= 500</code></li>\n",
    "\t<li><code>1 &lt;= prices[i] &lt;= 10^3</code></li>\n",
    "</ul>\n",
    "</div></div>\n"
   ]
  },
  {
   "cell_type": "markdown",
   "id": "b2dbe24d-fc28-47a2-91b7-4a310fdd7018",
   "metadata": {},
   "source": [
    "---\n",
    "## **Solution.py**"
   ]
  },
  {
   "cell_type": "code",
   "execution_count": 1,
   "id": "e94f2686-5004-43e4-9daa-660d6cba225e",
   "metadata": {},
   "outputs": [],
   "source": [
    "from pprint import pprint"
   ]
  },
  {
   "cell_type": "code",
   "execution_count": 2,
   "id": "40cdfa4d-abf3-41a2-b9b3-301f814476b2",
   "metadata": {},
   "outputs": [],
   "source": [
    "from typing import List, Dict, Tuple"
   ]
  },
  {
   "cell_type": "code",
   "execution_count": 3,
   "id": "72d1425c-2c7e-4ec7-a8ac-081a78fa5373",
   "metadata": {},
   "outputs": [],
   "source": [
    "class Solution:\n",
    "    def finalPrices(self, prices: List[int]) -> List[int]:\n",
    "        ans = list()\n",
    "        for i in range(len(prices)):\n",
    "            for j in range(i+1, len(prices)):\n",
    "                if prices[j] <= prices[i]:\n",
    "                    ans.append(prices[i]-prices[j])\n",
    "                    break\n",
    "            else:\n",
    "                ans.append(prices[i])\n",
    "        return ans"
   ]
  },
  {
   "cell_type": "code",
   "execution_count": 4,
   "id": "18a5bdb9-f1c4-4ee5-be49-c1e74e8737b4",
   "metadata": {},
   "outputs": [],
   "source": [
    "inputs = [\n",
    "    [8,4,6,2,3],\n",
    "    [1,2,3,4,5],\n",
    "    [10,1,1,6]\n",
    "]\n",
    "outputs = [\n",
    "    [4,2,4,2,3],\n",
    "    [1,2,3,4,5],\n",
    "    [9,0,1,6]\n",
    "]"
   ]
  },
  {
   "cell_type": "code",
   "execution_count": 5,
   "id": "d381cddd-ca8d-4a20-8a44-406f7f8907c0",
   "metadata": {},
   "outputs": [
    {
     "name": "stdout",
     "output_type": "stream",
     "text": [
      "True [4, 2, 4, 2, 3] [4, 2, 4, 2, 3]\n",
      "True [1, 2, 3, 4, 5] [1, 2, 3, 4, 5]\n",
      "True [9, 0, 1, 6] [9, 0, 1, 6]\n"
     ]
    }
   ],
   "source": [
    "solution = Solution().finalPrices\n",
    "\n",
    "for idx, (i, o) in enumerate(zip(inputs, outputs)):\n",
    "    sol_ = solution(i)\n",
    "    print(sol_==o, sol_, o)"
   ]
  },
  {
   "cell_type": "markdown",
   "id": "08301a34-1e27-4281-87f9-ebd0086905ee",
   "metadata": {},
   "source": [
    "<img width=\"330\" alt=\"image\" src=\"https://user-images.githubusercontent.com/42428487/156738721-69f19661-7ed9-4c7d-bc1d-edeac1fd2cb3.png\">\n"
   ]
  }
 ],
 "metadata": {
  "kernelspec": {
   "display_name": "Python 3 (ipykernel)",
   "language": "python",
   "name": "python3"
  },
  "language_info": {
   "codemirror_mode": {
    "name": "ipython",
    "version": 3
   },
   "file_extension": ".py",
   "mimetype": "text/x-python",
   "name": "python",
   "nbconvert_exporter": "python",
   "pygments_lexer": "ipython3",
   "version": "3.7.0"
  }
 },
 "nbformat": 4,
 "nbformat_minor": 5
}
