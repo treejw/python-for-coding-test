{
 "cells": [
  {
   "cell_type": "markdown",
   "id": "9a0365c5-cf2c-4475-bfd0-45d6f18a316d",
   "metadata": {
    "tags": []
   },
   "source": [
    "# [**909. Snakes and Ladders**](https://leetcode.com/problems/snakes-and-ladders/)\n",
    "\n",
    "<p>You are given an <code>n x n</code> integer matrix <code>board</code> where the cells are labeled from <code>1</code> to <code>n<sup>2</sup></code> in a <a href=\"https://en.wikipedia.org/wiki/Boustrophedon\" target=\"_blank\"><strong>Boustrophedon style</strong></a> starting from the bottom left of the board (i.e. <code>board[n - 1][0]</code>) and alternating direction each row.</p>\n",
    "\n",
    "<p>You start on square <code>1</code> of the board. In each move, starting from square <code>curr</code>, do the following:</p>\n",
    "\n",
    "<ul>\n",
    "\t<li>Choose a destination square <code>next</code> with a label in the range <code>[curr + 1, min(curr + 6, n<sup>2</sup>)]</code>.\n",
    "\t<ul>\n",
    "\t\t<li>This choice simulates the result of a standard <strong>6-sided die roll</strong>: i.e., there are always at most 6 destinations, regardless of the size of the board.</li>\n",
    "\t</ul>\n",
    "\t</li>\n",
    "\t<li>If <code>next</code> has a snake or ladder, you <strong>must</strong> move to the destination of that snake or ladder. Otherwise, you move to <code>next</code>.</li>\n",
    "\t<li>The game ends when you reach the square <code>n<sup>2</sup></code>.</li>\n",
    "</ul>\n",
    "\n",
    "<p>A board square on row <code>r</code> and column <code>c</code> has a snake or ladder if <code>board[r][c] != -1</code>. The destination of that snake or ladder is <code>board[r][c]</code>. Squares <code>1</code> and <code>n<sup>2</sup></code> do not have a snake or ladder.</p>\n",
    "\n",
    "<p>Note that you only take a snake or ladder at most once per move. If the destination to a snake or ladder is the start of another snake or ladder, you do <strong>not</strong> follow the subsequent&nbsp;snake or ladder.</p>\n",
    "\n",
    "<ul>\n",
    "\t<li>For example, suppose the board is <code>[[-1,4],[-1,3]]</code>, and on the first move, your destination square is <code>2</code>. You follow the ladder to square <code>3</code>, but do <strong>not</strong> follow the subsequent ladder to <code>4</code>.</li>\n",
    "</ul>\n",
    "\n",
    "<p>Return <em>the least number of moves required to reach the square </em><code>n<sup>2</sup></code><em>. If it is not possible to reach the square, return </em><code>-1</code>.</p>\n",
    "\n",
    "<p>&nbsp;</p>\n",
    "<p><strong>Example 1:</strong></p>\n",
    "<img alt=\"\" src=\"https://assets.leetcode.com/uploads/2018/09/23/snakes.png\" style=\"width: 500px; height: 394px;\">\n",
    "<pre><strong>Input:</strong> board = [[-1,-1,-1,-1,-1,-1],[-1,-1,-1,-1,-1,-1],[-1,-1,-1,-1,-1,-1],[-1,35,-1,-1,13,-1],[-1,-1,-1,-1,-1,-1],[-1,15,-1,-1,-1,-1]]\n",
    "<strong>Output:</strong> 4\n",
    "<strong>Explanation:</strong> \n",
    "In the beginning, you start at square 1 (at row 5, column 0).\n",
    "You decide to move to square 2 and must take the ladder to square 15.\n",
    "You then decide to move to square 17 and must take the snake to square 13.\n",
    "You then decide to move to square 14 and must take the ladder to square 35.\n",
    "You then decide to move to square 36, ending the game.\n",
    "This is the lowest possible number of moves to reach the last square, so return 4.\n",
    "</pre>\n",
    "\n",
    "<p><strong>Example 2:</strong></p>\n",
    "\n",
    "<pre><strong>Input:</strong> board = [[-1,-1],[-1,3]]\n",
    "<strong>Output:</strong> 1\n",
    "</pre>\n",
    "\n",
    "<p>&nbsp;</p>\n",
    "<p><strong>Constraints:</strong></p>\n",
    "\n",
    "<ul>\n",
    "\t<li><code>n == board.length == board[i].length</code></li>\n",
    "\t<li><code>2 &lt;= n &lt;= 20</code></li>\n",
    "\t<li><code>grid[i][j]</code> is either <code>-1</code> or in the range <code>[1, n<sup>2</sup>]</code>.</li>\n",
    "\t<li>The squares labeled <code>1</code> and <code>n<sup>2</sup></code> do not have any ladders or snakes.</li>\n",
    "</ul>\n",
    "</div></div>"
   ]
  },
  {
   "cell_type": "markdown",
   "id": "ef87e5ab-8953-42f4-8467-ff742e7f3948",
   "metadata": {
    "tags": []
   },
   "source": [
    "## **Solution.py**"
   ]
  },
  {
   "cell_type": "code",
   "execution_count": 1,
   "id": "1618215c-3d3b-42fd-903d-9efaf00ae220",
   "metadata": {},
   "outputs": [],
   "source": [
    "from typing import List, Dict, Tuple"
   ]
  },
  {
   "cell_type": "code",
   "execution_count": 2,
   "id": "b71ae06e-7fa2-4a5c-acf3-31aa27635ae9",
   "metadata": {},
   "outputs": [],
   "source": [
    "# DFS\n",
    "\n",
    "def get_num(num, n, board):\n",
    "    r, c = (num-1)//n+1, (num-1)%n\n",
    "    c = c if r%2!=0 else -(c+1)\n",
    "    if board[-r][c] != -1:\n",
    "        return board[-r][c]\n",
    "    return num\n",
    "\n",
    "def getNodes(num, visited, n, board):\n",
    "    nodes = set()\n",
    "    for new in range(num+1, num+7):\n",
    "        if new == n*n:\n",
    "            return {n*n}\n",
    "        new = get_num(new, n, board)\n",
    "        if new not in visited:\n",
    "            nodes.add(new)\n",
    "    return nodes\n",
    "\n",
    "def dfs(curNum, count, visited, min_count, n, board):\n",
    "    if curNum == n*n:      return count\n",
    "    if count >= min_count: return min_count\n",
    "    \n",
    "    nodes = getNodes(curNum, visited, n, board)\n",
    "    if not nodes: return -1\n",
    "    \n",
    "    for node in sorted(nodes, reverse=True):\n",
    "        cnt = dfs(node, count+1, visited|{node}, min_count, n, board)\n",
    "        min_count = min(cnt, min_count) if cnt != -1 else min_count\n",
    "    return min_count\n",
    "\n",
    "class Solution:\n",
    "    def snakesAndLadders(self, board: List[List[int]]) -> int:\n",
    "        n = len(board)\n",
    "        ans = dfs(curNum=1, count=0, visited=set(), min_count=n*n, n=n, board=board)\n",
    "        return ans if ans!=n*n else -1\n"
   ]
  },
  {
   "cell_type": "markdown",
   "id": "d4335305-01f3-4970-9e31-dfe4e19ba4b0",
   "metadata": {},
   "source": [
    "![image](https://user-images.githubusercontent.com/42428487/159660144-fd733ade-26c2-4993-ac32-7874f66eb9e1.png)"
   ]
  },
  {
   "cell_type": "code",
   "execution_count": 3,
   "id": "d8eca6f6-1cb1-4bdb-b08d-86b3290be41b",
   "metadata": {},
   "outputs": [],
   "source": [
    "# BFS\n",
    "\n",
    "from collections import deque\n",
    "\n",
    "def get_num(num, n, board):\n",
    "    r, c = (num-1)//n+1, (num-1)%n\n",
    "    c = c if r%2!=0 else -(c+1)\n",
    "    if board[-r][c] != -1:\n",
    "        return board[-r][c]\n",
    "    return num\n",
    "\n",
    "class Solution:\n",
    "    def snakesAndLadders(self, board: List[List[int]]) -> int:\n",
    "        n = len(board)\n",
    "        queue = deque([(1,0)])\n",
    "        visited = set()\n",
    "        while queue:\n",
    "            num, depth = queue.popleft()\n",
    "            visited.add(num)\n",
    "            if num == n*n:\n",
    "                return depth\n",
    "            for i in range(1, 7):\n",
    "                if num+i > n*n: break\n",
    "                next_num = get_num(num+i, n, board)\n",
    "                if next_num in visited: continue\n",
    "                queue.append((next_num, depth+1))\n",
    "        return -1"
   ]
  },
  {
   "cell_type": "markdown",
   "id": "14613316-1013-4e3d-a65d-c65ed04cf1b7",
   "metadata": {},
   "source": [
    "<img width=\"330\" alt=\"image\" src=\"https://user-images.githubusercontent.com/42428487/159659700-96be065b-b214-4436-9d80-a8336652e56d.png\">\n"
   ]
  },
  {
   "cell_type": "code",
   "execution_count": 4,
   "id": "d9dde022-43fa-4d23-b122-dee9a14d4eb3",
   "metadata": {},
   "outputs": [],
   "source": [
    "inputs = [\n",
    "    [[-1,-1,-1,-1,-1,-1],[-1,-1,-1,-1,-1,-1],[-1,-1,-1,-1,-1,-1],[-1,35,-1,-1,13,-1],[-1,-1,-1,-1,-1,-1],[-1,15,-1,-1,-1,-1]],\n",
    "    [[-1,-1],[-1,3]],\n",
    "    [[-1,11,6,-1],[-1,15,16,-1],[-1,7,-1,8],[-1,-1,-1,8]],\n",
    "    [[-1,-1,-1,-1,33,-1,-1,-1,-1,37,-1,-1],[-1,-1,-1,17,128,113,11,5,-1,99,-1,-1],[10,-1,72,112,72,31,-1,-1,62,-1,-1,-1],[-1,-1,-1,-1,-1,6,21,122,-1,1,-1,39],[-1,-1,-1,-1,-1,-1,-1,79,-1,128,81,-1],[-1,16,-1,120,-1,-1,11,62,-1,-1,-1,-1],[101,88,87,-1,-1,-1,-1,-1,-1,-1,-1,40],[-1,-1,90,80,-1,-1,-1,-1,-1,-1,-1,35],[-1,78,-1,-1,-1,62,-1,-1,-1,-1,-1,-1],[-1,3,-1,-1,-1,-1,-1,-1,89,-1,-1,-1],[-1,44,-1,-1,-1,103,134,-1,69,-1,-1,123],[-1,24,-1,-1,-1,-1,-1,-1,-1,-1,-1,-1]]\n",
    "]\n",
    "outputs = [\n",
    "    4,\n",
    "    1,\n",
    "    2,\n",
    "    5\n",
    "]"
   ]
  },
  {
   "cell_type": "code",
   "execution_count": 5,
   "id": "cb2c5ee8-db27-40a3-aefa-6de9d85eef00",
   "metadata": {},
   "outputs": [
    {
     "name": "stdout",
     "output_type": "stream",
     "text": [
      "True 4 4\n",
      "True 1 1\n",
      "True 2 2\n",
      "True 5 5\n"
     ]
    }
   ],
   "source": [
    "solution = Solution().snakesAndLadders\n",
    "\n",
    "for idx, (i, o) in enumerate(zip(inputs, outputs)):\n",
    "    sol_ = solution(i)\n",
    "    print(sol_==o, sol_, o)"
   ]
  }
 ],
 "metadata": {
  "kernelspec": {
   "display_name": "Python 3 (ipykernel)",
   "language": "python",
   "name": "python3"
  },
  "language_info": {
   "codemirror_mode": {
    "name": "ipython",
    "version": 3
   },
   "file_extension": ".py",
   "mimetype": "text/x-python",
   "name": "python",
   "nbconvert_exporter": "python",
   "pygments_lexer": "ipython3",
   "version": "3.7.0"
  }
 },
 "nbformat": 4,
 "nbformat_minor": 5
}
