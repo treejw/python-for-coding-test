{
 "cells": [
  {
   "cell_type": "markdown",
   "id": "8152b7cc-841b-4734-8646-4860af66434f",
   "metadata": {
    "tags": []
   },
   "source": [
    "# [**152. Maximum Product Subarray**](https://leetcode.com/problems/maximum-product-subarray/)\n",
    "<div class=\"content__u3I1 question-content__JfgR\"><div><p>Given an integer array <code>nums</code>, find a contiguous non-empty subarray within the array that has the largest product, and return <em>the product</em>.</p>\n",
    "\n",
    "<p>The test cases are generated so that the answer will fit in a <strong>32-bit</strong> integer.</p>\n",
    "\n",
    "<p>A <strong>subarray</strong> is a contiguous subsequence of the array.</p>\n",
    "\n",
    "<p>&nbsp;</p>\n",
    "<p><strong>Example 1:</strong></p>\n",
    "\n",
    "<pre><strong>Input:</strong> nums = [2,3,-2,4]\n",
    "<strong>Output:</strong> 6\n",
    "<strong>Explanation:</strong> [2,3] has the largest product 6.\n",
    "</pre>\n",
    "\n",
    "<p><strong>Example 2:</strong></p>\n",
    "\n",
    "<pre><strong>Input:</strong> nums = [-2,0,-1]\n",
    "<strong>Output:</strong> 0\n",
    "<strong>Explanation:</strong> The result cannot be 2, because [-2,-1] is not a subarray.\n",
    "</pre>\n",
    "\n",
    "<p>&nbsp;</p>\n",
    "<p><strong>Constraints:</strong></p>\n",
    "\n",
    "<ul>\n",
    "\t<li><code>1 &lt;= nums.length &lt;= 2 * 10<sup>4</sup></code></li>\n",
    "\t<li><code>-10 &lt;= nums[i] &lt;= 10</code></li>\n",
    "\t<li>The product of any prefix or suffix of <code>nums</code> is <strong>guaranteed</strong> to fit in a <strong>32-bit</strong> integer.</li>\n",
    "</ul>\n",
    "</div></div>"
   ]
  },
  {
   "cell_type": "markdown",
   "id": "b7c9636e-dc12-4c42-8412-9439706b81df",
   "metadata": {
    "tags": []
   },
   "source": [
    "## **Solution.py**"
   ]
  },
  {
   "cell_type": "code",
   "execution_count": 6,
   "id": "23cb6dda-9341-4415-9452-11a52db0ae84",
   "metadata": {},
   "outputs": [],
   "source": [
    "from typing import List, Dict, Tuple"
   ]
  },
  {
   "cell_type": "code",
   "execution_count": 7,
   "id": "6d7a1a1d-5f8c-4e42-a417-a735cd7d4c61",
   "metadata": {},
   "outputs": [],
   "source": [
    "class Solution:\n",
    "    def maxProduct(self, nums: List[int]) -> int:\n",
    "        \n",
    "        cur_max = cur_min = nums[0]\n",
    "        max_prod = cur_max\n",
    "        \n",
    "        for n in nums[1:]: \n",
    "            tmp_max, tmp_min = cur_max*n, cur_min*n\n",
    "            cur_max = max(n, tmp_max, tmp_min)\n",
    "            cur_min = min(n, tmp_max, tmp_min)\n",
    "            max_prod = max(cur_max, max_prod)\n",
    "        return max_prod"
   ]
  },
  {
   "cell_type": "code",
   "execution_count": 8,
   "id": "98fc8ab0-d2b7-469f-afe8-25df95515a07",
   "metadata": {},
   "outputs": [],
   "source": [
    "inputs = [\n",
    "    [2,3,-2,4],\n",
    "    [-2,0,-1],\n",
    "    [0,2],\n",
    "    [-2,3,-4],\n",
    "    [-4,-3,-2]\n",
    "]\n",
    "outputs = [\n",
    "    6,\n",
    "    0,\n",
    "    2,\n",
    "    24,\n",
    "    12\n",
    "]"
   ]
  },
  {
   "cell_type": "code",
   "execution_count": 9,
   "id": "64694d65-9b8f-4872-9fa8-32de7ed6f634",
   "metadata": {
    "tags": []
   },
   "outputs": [
    {
     "name": "stdout",
     "output_type": "stream",
     "text": [
      "True 6 6\n",
      "True 0 0\n",
      "True 2 2\n",
      "True 24 24\n",
      "True 12 12\n"
     ]
    }
   ],
   "source": [
    "solution = Solution().maxProduct\n",
    "\n",
    "for idx, (i, o) in enumerate(zip(inputs, outputs)):\n",
    "    sol_ = solution(i)\n",
    "    print(sol_==o, sol_, o)"
   ]
  },
  {
   "cell_type": "markdown",
   "id": "e7250f33-133f-4f7f-a7af-2a2e5cadd114",
   "metadata": {},
   "source": [
    "<img width=\"330\" alt=\"image\" src=\"https://user-images.githubusercontent.com/42428487/161936093-c8b19caa-6ec8-47af-bebf-fe79537b3f0b.png\">"
   ]
  }
 ],
 "metadata": {
  "kernelspec": {
   "display_name": "Python 3 (ipykernel)",
   "language": "python",
   "name": "python3"
  },
  "language_info": {
   "codemirror_mode": {
    "name": "ipython",
    "version": 3
   },
   "file_extension": ".py",
   "mimetype": "text/x-python",
   "name": "python",
   "nbconvert_exporter": "python",
   "pygments_lexer": "ipython3",
   "version": "3.7.0"
  }
 },
 "nbformat": 4,
 "nbformat_minor": 5
}
