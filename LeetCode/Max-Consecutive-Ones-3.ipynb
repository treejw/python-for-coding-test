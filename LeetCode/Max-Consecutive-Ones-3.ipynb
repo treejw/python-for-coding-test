{
 "cells": [
  {
   "cell_type": "markdown",
   "id": "deeeda8e-d666-4835-8ce5-1ce7d66dd92f",
   "metadata": {
    "tags": []
   },
   "source": [
    "# [**1004. Max Consecutive Ones III**](https://leetcode.com/problems/max-consecutive-ones-iii/)\n",
    "\n",
    "<div><p>Given a binary array <code>nums</code> and an integer <code>k</code>, return <em>the maximum number of consecutive </em><code>1</code><em>'s in the array if you can flip at most</em> <code>k</code> <code>0</code>'s.</p>\n",
    "\n",
    "<p>&nbsp;</p>\n",
    "<p><strong>Example 1:</strong></p>\n",
    "\n",
    "<pre><strong>Input:</strong> nums = [1,1,1,0,0,0,1,1,1,1,0], k = 2\n",
    "<strong>Output:</strong> 6\n",
    "<strong>Explanation:</strong> [1,1,1,0,0,<u><strong>1</strong>,1,1,1,1,<strong>1</strong></u>]\n",
    "Bolded numbers were flipped from 0 to 1. The longest subarray is underlined.</pre>\n",
    "\n",
    "<br>\n",
    "\n",
    "<p><strong>Example 2:</strong></p>\n",
    "\n",
    "<pre><strong>Input:</strong> nums = [0,0,1,1,0,0,1,1,1,0,1,1,0,0,0,1,1,1,1], k = 3\n",
    "<strong>Output:</strong> 10\n",
    "<strong>Explanation:</strong> [0,0,<u>1,1,<strong>1</strong>,<strong>1</strong>,1,1,1,<strong>1</strong>,1,1</u>,0,0,0,1,1,1,1]\n",
    "Bolded numbers were flipped from 0 to 1. The longest subarray is underlined.\n",
    "</pre>\n",
    "\n",
    "<p>&nbsp;</p>\n",
    "<p><strong>Constraints:</strong></p>\n",
    "\n",
    "<ul>\n",
    "\t<li><code>1 &lt;= nums.length &lt;= 10<sup>5</sup></code></li>\n",
    "\t<li><code>nums[i]</code> is either <code>0</code> or <code>1</code>.</li>\n",
    "\t<li><code>0 &lt;= k &lt;= nums.length</code></li>\n",
    "</ul>\n",
    "</div>"
   ]
  },
  {
   "cell_type": "markdown",
   "id": "627a173a-feed-4c51-a938-e6fe9384cae9",
   "metadata": {
    "tags": []
   },
   "source": [
    "## **Solution.py**"
   ]
  },
  {
   "cell_type": "code",
   "execution_count": 1,
   "id": "c5495b60-d4ce-4dbc-b7fb-074f149ae523",
   "metadata": {},
   "outputs": [],
   "source": [
    "from typing import List, Dict, Tuple"
   ]
  },
  {
   "cell_type": "code",
   "execution_count": 2,
   "id": "3a11bea0-80fa-4b5d-8384-e4e853c2a43f",
   "metadata": {},
   "outputs": [],
   "source": [
    "class Solution:\n",
    "    def longestOnes(self, nums: List[int], k: int) -> int:\n",
    "        s = 0\n",
    "        max_len = 0\n",
    "        for i in range(len(nums)):\n",
    "            if nums[i] == 0:\n",
    "                k -= 1\n",
    "            if k < 0:\n",
    "                if nums[s] == 0: k += 1\n",
    "                s += 1\n",
    "            else:\n",
    "                max_len = max(max_len, i-s+1)\n",
    "        return max_len"
   ]
  },
  {
   "cell_type": "code",
   "execution_count": 3,
   "id": "bd7aa781-2776-4674-8401-0aaca6a3b944",
   "metadata": {},
   "outputs": [],
   "source": [
    "inputs = [\n",
    "    ([1,1,1,0,0,0,1,1,1,1,0], 2),\n",
    "    ([0,0,1,1,0,0,1,1,1,0,1,1,0,0,0,1,1,1,1], 3),\n",
    "    ([1,1,1,0,0,0,1,1,1,1], 0),\n",
    "    ([0,0,0,1], 4),\n",
    "    ([1,0,0,1,0,0,1,0,1,1,1,1,0,1,1,1,1,0,1,1,1,1,1,1,0,1,1,1,0,0,1,1,1,0,0,1,0,1,0,0,1,0,0,1,1], 9)\n",
    "]\n",
    "outputs = [\n",
    "    6,\n",
    "    10,\n",
    "    4,\n",
    "    4,\n",
    "    32\n",
    "]"
   ]
  },
  {
   "cell_type": "code",
   "execution_count": 4,
   "id": "4fc1d6c5-8cc2-4263-915e-d4cfa8e4911f",
   "metadata": {},
   "outputs": [
    {
     "name": "stdout",
     "output_type": "stream",
     "text": [
      "True 6 6\n",
      "True 10 10\n",
      "True 4 4\n",
      "True 4 4\n",
      "True 32 32\n"
     ]
    }
   ],
   "source": [
    "solution = Solution().longestOnes\n",
    "\n",
    "for idx, (i, o) in enumerate(zip(inputs, outputs)):\n",
    "    sol_ = solution(*i)\n",
    "    print(sol_==o, sol_, o)"
   ]
  },
  {
   "cell_type": "markdown",
   "id": "43ee86b3-be39-48a6-8fcc-3fca3aee79d5",
   "metadata": {},
   "source": [
    "<img width=\"330\" alt=\"image\" src=\"https://user-images.githubusercontent.com/42428487/156733875-accde1d4-246a-4f52-b152-8ab854500bfb.png\">\n"
   ]
  }
 ],
 "metadata": {
  "kernelspec": {
   "display_name": "Python 3 (ipykernel)",
   "language": "python",
   "name": "python3"
  },
  "language_info": {
   "codemirror_mode": {
    "name": "ipython",
    "version": 3
   },
   "file_extension": ".py",
   "mimetype": "text/x-python",
   "name": "python",
   "nbconvert_exporter": "python",
   "pygments_lexer": "ipython3",
   "version": "3.7.0"
  }
 },
 "nbformat": 4,
 "nbformat_minor": 5
}
