{
 "cells": [
  {
   "cell_type": "markdown",
   "id": "840f0eb9-45d1-41b2-87f8-cd13f9d36abc",
   "metadata": {},
   "source": [
    "# [**495. Teemo Attacking**](https://leetcode.com/problems/teemo-attacking/)\n",
    "\n",
    "<div><p>Our hero Teemo is attacking an enemy Ashe with poison attacks! When Teemo attacks Ashe, Ashe gets poisoned for a exactly <code>duration</code> seconds. More formally, an attack at second <code>t</code> will mean Ashe is poisoned during the <strong>inclusive</strong> time interval <code>[t, t + duration - 1]</code>. If Teemo attacks again <strong>before</strong> the poison effect ends, the timer for it is <strong>reset</strong>, and the poison effect will end <code>duration</code> seconds after the new attack.</p>\n",
    "\n",
    "<p>You are given a <strong>non-decreasing</strong> integer array <code>timeSeries</code>, where <code>timeSeries[i]</code> denotes that Teemo attacks Ashe at second <code>timeSeries[i]</code>, and an integer <code>duration</code>.</p>\n",
    "\n",
    "<p>Return <em>the <strong>total</strong> number of seconds that Ashe is poisoned</em>.</p>\n",
    "\n",
    "---\n",
    "\n",
    "우리의 영웅 티모가 적의 아셰를 독극물로 공격하고 있습니다! 티모가 애쉬를 공격했을 때, 애쉬는 정확히 `duration`초 동안 중독된다. 즉, 두 번째 `t`에서의 공격은 Ashe가 포함 시간 간격 `[t, t + duration - 1]` 동안 중독됨을 의미한다. \n",
    "독극물 효과가 끝나기 전에 티모가 다시 공격하면 독극물 타이머가 초기화되며, 새로운 공격 후 `duration`초 후에 독극물 효과가 종료된다.\n",
    "\n",
    "감소하지 않는 정수 배열 `timeSeries`가 주어지며, 여기서 `timeSeries[i]`는 Teemo가 두 번째 `timeSeries[i]`에서 Ashe를 공격하고 정수 `duration`을 나타낸다.\n",
    "\n",
    "Ashe가 중독된 총 시간(초)을 반환해라.\n",
    "\n",
    "\n",
    "\n",
    "<p>&nbsp;</p>\n",
    "<p><strong>Example 1:</strong></p>\n",
    "\n",
    "<pre><strong>Input:</strong> timeSeries = [1,4], duration = 2\n",
    "<strong>Output:</strong> 4\n",
    "<strong>Explanation:</strong> Teemo's attacks on Ashe go as follows:\n",
    "- At second 1, Teemo attacks, and Ashe is poisoned for seconds 1 and 2.\n",
    "- At second 4, Teemo attacks, and Ashe is poisoned for seconds 4 and 5.\n",
    "Ashe is poisoned for seconds 1, 2, 4, and 5, which is 4 seconds in total.\n",
    "</pre>\n",
    "\n",
    "<br><p><strong>Example 2:</strong></p>\n",
    "\n",
    "<pre><strong>Input:</strong> timeSeries = [1,2], duration = 2\n",
    "<strong>Output:</strong> 3\n",
    "<strong>Explanation:</strong> Teemo's attacks on Ashe go as follows:\n",
    "- At second 1, Teemo attacks, and Ashe is poisoned for seconds 1 and 2.\n",
    "- At second 2 however, Teemo attacks again and resets the poison timer. Ashe is poisoned for seconds 2 and 3.\n",
    "Ashe is poisoned for seconds 1, 2, and 3, which is 3 seconds in total.</pre>\n",
    "\n",
    "<p>&nbsp;</p>\n",
    "<p><strong>Constraints:</strong></p>\n",
    "\n",
    "<ul>\n",
    "\t<li><code>1 &lt;= timeSeries.length &lt;= 10<sup>4</sup></code></li>\n",
    "\t<li><code>0 &lt;= timeSeries[i], duration &lt;= 10<sup>7</sup></code></li>\n",
    "\t<li><code>timeSeries</code> is sorted in <strong>non-decreasing</strong> order.</li>\n",
    "</ul>\n",
    "</div>\n"
   ]
  },
  {
   "cell_type": "markdown",
   "id": "30ca5908-e73a-4583-948d-fdee838980b8",
   "metadata": {},
   "source": [
    "---\n",
    "## **Solution.py**"
   ]
  },
  {
   "cell_type": "code",
   "execution_count": 1,
   "id": "2c84ce83-0032-46fb-9c58-0c3eafb2403c",
   "metadata": {},
   "outputs": [],
   "source": [
    "from pprint import pprint"
   ]
  },
  {
   "cell_type": "code",
   "execution_count": 2,
   "id": "735f5f02-8e9e-48d3-b280-df00be54ec56",
   "metadata": {},
   "outputs": [],
   "source": [
    "from typing import List, Dict, Tuple"
   ]
  },
  {
   "cell_type": "code",
   "execution_count": 3,
   "id": "8c1a4488-8398-4ae5-aa99-f0eb3badd4b7",
   "metadata": {},
   "outputs": [],
   "source": [
    "import numpy as np\n",
    "\n",
    "class Solution:\n",
    "    def findPoisonedDuration(self, timeSeries: List[int], duration: int) -> int:\n",
    "        total = duration\n",
    "        for i in range(1, len(timeSeries)):\n",
    "            total += duration if timeSeries[i]-timeSeries[i-1] >= duration else timeSeries[i]-timeSeries[i-1]\n",
    "        return total"
   ]
  },
  {
   "cell_type": "code",
   "execution_count": 4,
   "id": "1b505b32-4c1a-4802-b911-b32bcd85a01d",
   "metadata": {},
   "outputs": [],
   "source": [
    "inputs = [\n",
    "    ([1,4], 2),\n",
    "    ([1,2], 2)\n",
    "]\n",
    "outputs = [\n",
    "    4,\n",
    "    3\n",
    "]"
   ]
  },
  {
   "cell_type": "code",
   "execution_count": 5,
   "id": "2645b1d0-6670-47fc-9a04-681b68656c1a",
   "metadata": {},
   "outputs": [
    {
     "name": "stdout",
     "output_type": "stream",
     "text": [
      "True 4 4\n",
      "True 3 3\n"
     ]
    }
   ],
   "source": [
    "solution = Solution().findPoisonedDuration\n",
    "\n",
    "for idx, (i, o) in enumerate(zip(inputs, outputs)):\n",
    "    sol_ = solution(*i)\n",
    "    print(sol_==o, sol_, o)"
   ]
  },
  {
   "cell_type": "markdown",
   "id": "e0435eaf-2066-4679-b9bc-acf54223bded",
   "metadata": {},
   "source": [
    "<img width=\"330\" alt=\"image\" src=\"https://user-images.githubusercontent.com/42428487/156733964-697e922f-7d1e-472c-be66-76eedb308ade.png\">\n"
   ]
  }
 ],
 "metadata": {
  "kernelspec": {
   "display_name": "Python 3 (ipykernel)",
   "language": "python",
   "name": "python3"
  },
  "language_info": {
   "codemirror_mode": {
    "name": "ipython",
    "version": 3
   },
   "file_extension": ".py",
   "mimetype": "text/x-python",
   "name": "python",
   "nbconvert_exporter": "python",
   "pygments_lexer": "ipython3",
   "version": "3.7.0"
  }
 },
 "nbformat": 4,
 "nbformat_minor": 5
}
