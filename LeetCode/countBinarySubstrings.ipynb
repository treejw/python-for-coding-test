{
 "cells": [
  {
   "cell_type": "markdown",
   "id": "d898ba53-5e61-4f0f-aca4-3e7d610d723b",
   "metadata": {
    "tags": []
   },
   "source": [
    "# [**696. Count Binary Substrings**](https://leetcode.com/problems/count-binary-substrings/)\n",
    "\n",
    "<div class=\"content__u3I1 question-content__JfgR\"><div><p>Give a binary string <code>s</code>, return the number of non-empty substrings that have the same number of <code>0</code>'s and <code>1</code>'s, and all the <code>0</code>'s and all the <code>1</code>'s in these substrings are grouped consecutively.</p>\n",
    "\n",
    "<p>Substrings that occur multiple times are counted the number of times they occur.</p>\n",
    "\n",
    "<p>&nbsp;</p>\n",
    "<p><strong>Example 1:</strong></p>\n",
    "\n",
    "<pre><strong>Input:</strong> s = \"00110011\"\n",
    "<strong>Output:</strong> 6\n",
    "<strong>Explanation:</strong> There are 6 substrings that have equal number of consecutive 1's and 0's: \"0011\", \"01\", \"1100\", \"10\", \"0011\", and \"01\".\n",
    "Notice that some of these substrings repeat and are counted the number of times they occur.\n",
    "Also, \"00110011\" is not a valid substring because all the 0's (and 1's) are not grouped together.\n",
    "</pre>\n",
    "\n",
    "<p><strong>Example 2:</strong></p>\n",
    "\n",
    "<pre><strong>Input:</strong> s = \"10101\"\n",
    "<strong>Output:</strong> 4\n",
    "<strong>Explanation:</strong> There are 4 substrings: \"10\", \"01\", \"10\", \"01\" that have equal number of consecutive 1's and 0's.\n",
    "</pre>\n",
    "\n",
    "<p>&nbsp;</p>\n",
    "<p><strong>Constraints:</strong></p>\n",
    "\n",
    "<ul>\n",
    "\t<li><code>1 &lt;= s.length &lt;= 10<sup>5</sup></code></li>\n",
    "\t<li><code>s[i]</code> is either <code>'0'</code> or <code>'1'</code>.</li>\n",
    "</ul>\n",
    "</div></div>"
   ]
  },
  {
   "cell_type": "markdown",
   "id": "08559776-dcf8-473d-aafb-0eda3f508c70",
   "metadata": {
    "tags": []
   },
   "source": [
    "---\n",
    "## **Solution.py**"
   ]
  },
  {
   "cell_type": "code",
   "execution_count": 1,
   "id": "b7fe6024-a359-4a0d-97b6-05761756e2ac",
   "metadata": {},
   "outputs": [],
   "source": [
    "from pprint import pprint"
   ]
  },
  {
   "cell_type": "code",
   "execution_count": 2,
   "id": "9ffd1735-3964-40d1-b499-4ca2a0ef3fde",
   "metadata": {},
   "outputs": [],
   "source": [
    "from typing import List, Dict, Tuple"
   ]
  },
  {
   "cell_type": "code",
   "execution_count": 3,
   "id": "1b8a3174-14f1-4d91-bbb3-35e77f1afe0c",
   "metadata": {},
   "outputs": [],
   "source": [
    "class Solution:\n",
    "    def countBinarySubstrings(self, s: str) -> int:\n",
    "        ans = 0\n",
    "        cnt, prev_cnt = 1, 0\n",
    "        for i in range(1, len(s)):\n",
    "            if s[i-1] == s[i]:\n",
    "                cnt += 1\n",
    "            else:\n",
    "                ans += min( cnt, prev_cnt )\n",
    "                prev_cnt, cnt = cnt, 1\n",
    "        ans += min( cnt, prev_cnt )\n",
    "        return ans"
   ]
  },
  {
   "cell_type": "code",
   "execution_count": 4,
   "id": "387c55aa-e20f-4557-a9dc-f39527d1ed3c",
   "metadata": {},
   "outputs": [],
   "source": [
    "inputs = [\n",
    "    \"00110011\",\n",
    "    \"10101\"\n",
    "]\n",
    "outputs = [\n",
    "    6,\n",
    "    4\n",
    "]"
   ]
  },
  {
   "cell_type": "code",
   "execution_count": 5,
   "id": "762121a2-bccf-4346-b111-2f59f8ae929e",
   "metadata": {},
   "outputs": [
    {
     "name": "stdout",
     "output_type": "stream",
     "text": [
      "True 6 6\n",
      "True 4 4\n"
     ]
    }
   ],
   "source": [
    "solution = Solution().countBinarySubstrings\n",
    "\n",
    "for idx, (i, o) in enumerate(zip(inputs, outputs)):\n",
    "    sol_ = solution(i)\n",
    "    print(sol_==o, sol_, o)"
   ]
  },
  {
   "cell_type": "markdown",
   "id": "7d51f7a1-9f5d-4373-961a-296a3add3032",
   "metadata": {},
   "source": [
    "<img width=\"330\" alt=\"image\" src=\"https://user-images.githubusercontent.com/42428487/165085315-3ae1f18e-3d99-42b5-b7dd-f6e9d18d2457.png\">\n"
   ]
  }
 ],
 "metadata": {
  "kernelspec": {
   "display_name": "Python 3 (ipykernel)",
   "language": "python",
   "name": "python3"
  },
  "language_info": {
   "codemirror_mode": {
    "name": "ipython",
    "version": 3
   },
   "file_extension": ".py",
   "mimetype": "text/x-python",
   "name": "python",
   "nbconvert_exporter": "python",
   "pygments_lexer": "ipython3",
   "version": "3.7.0"
  }
 },
 "nbformat": 4,
 "nbformat_minor": 5
}
