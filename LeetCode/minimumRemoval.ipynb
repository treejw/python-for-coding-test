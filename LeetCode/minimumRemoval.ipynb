{
 "cells": [
  {
   "cell_type": "markdown",
   "id": "11a14fe8-8d9f-481b-b351-fc2cff5eaaab",
   "metadata": {
    "tags": []
   },
   "source": [
    "# [**2171. Removing Minimum Number of Magic Beans**](https://leetcode.com/problems/removing-minimum-number-of-magic-beans/)\n",
    "\n",
    "<div class=\"content__u3I1 question-content__JfgR\"><div><p>You are given an array of <strong>positive</strong> integers <code>beans</code>, where each integer represents the number of magic beans found in a particular magic bag.</p>\n",
    "\n",
    "<p><strong>Remove</strong> any number of beans (<strong>possibly none</strong>) from each bag such that the number of beans in each remaining <strong>non-empty</strong> bag (still containing <strong>at least one</strong> bean) is <strong>equal</strong>. Once a bean has been removed from a bag, you are <strong>not</strong> allowed to return it to any of the bags.</p>\n",
    "\n",
    "<p>Return <em>the <strong>minimum</strong> number of magic beans that you have to remove</em>.</p>\n",
    "\n",
    "<p>&nbsp;</p>\n",
    "<p><strong>Example 1:</strong></p>\n",
    "\n",
    "<pre><strong>Input:</strong> beans = [4,<u><strong>1</strong></u>,6,5]\n",
    "<strong>Output:</strong> 4\n",
    "<strong>Explanation:</strong> \n",
    "- We remove 1 bean from the bag with only 1 bean.\n",
    "  This results in the remaining bags: [4,<b><u>0</u></b>,6,5]\n",
    "- Then we remove 2 beans from the bag with 6 beans.\n",
    "  This results in the remaining bags: [4,0,<strong><u>4</u></strong>,5]\n",
    "- Then we remove 1 bean from the bag with 5 beans.\n",
    "  This results in the remaining bags: [4,0,4,<b><u>4</u></b>]\n",
    "We removed a total of 1 + 2 + 1 = 4 beans to make the remaining non-empty bags have an equal number of beans.\n",
    "There are no other solutions that remove 4 beans or fewer.\n",
    "</pre>\n",
    "\n",
    "<p><strong>Example 2:</strong></p>\n",
    "\n",
    "<pre><strong>Input:</strong> beans = [<strong><u>2</u></strong>,10,<u><strong>3</strong></u>,<strong><u>2</u></strong>]\n",
    "<strong>Output:</strong> 7\n",
    "<strong>Explanation:</strong>\n",
    "- We remove 2 beans from one of the bags with 2 beans.\n",
    "  This results in the remaining bags: [<u><strong>0</strong></u>,10,3,2]\n",
    "- Then we remove 2 beans from the other bag with 2 beans.\n",
    "  This results in the remaining bags: [0,10,3,<u><strong>0</strong></u>]\n",
    "- Then we remove 3 beans from the bag with 3 beans. \n",
    "  This results in the remaining bags: [0,10,<u><strong>0</strong></u>,0]\n",
    "We removed a total of 2 + 2 + 3 = 7 beans to make the remaining non-empty bags have an equal number of beans.\n",
    "There are no other solutions that removes 7 beans or fewer.\n",
    "</pre>\n",
    "\n",
    "<p>&nbsp;</p>\n",
    "<p><strong>Constraints:</strong></p>\n",
    "\n",
    "<ul>\n",
    "\t<li><code>1 &lt;= beans.length &lt;= 10<sup>5</sup></code></li>\n",
    "\t<li><code>1 &lt;= beans[i] &lt;= 10<sup>5</sup></code></li>\n",
    "</ul>\n",
    "</div></div>"
   ]
  },
  {
   "cell_type": "markdown",
   "id": "0b8de033-6a3f-4ec5-837c-87c22eb55e5d",
   "metadata": {
    "tags": []
   },
   "source": [
    "## **Solution.py**"
   ]
  },
  {
   "cell_type": "code",
   "execution_count": 1,
   "id": "e79e4b0f-2eed-472c-b731-6dc81171b66e",
   "metadata": {},
   "outputs": [],
   "source": [
    "from typing import List, Dict, Tuple"
   ]
  },
  {
   "cell_type": "code",
   "execution_count": 2,
   "id": "e6b013c9-a8eb-4e4a-a4ad-c1695eadc360",
   "metadata": {},
   "outputs": [],
   "source": [
    "class Solution:\n",
    "    def minimumRemoval(self, beans: List[int]) -> int:\n",
    "        beans.sort()\n",
    "        \n",
    "        total_beans = sum(beans)\n",
    "        prev = beans.pop()\n",
    "        more, less = 0, total_beans - prev\n",
    "        min_rm = less\n",
    "        \n",
    "        i = 1\n",
    "        while beans:\n",
    "            cur = beans.pop()\n",
    "            less -= cur\n",
    "            more += (prev-cur)*i\n",
    "            min_rm = min( more + less , min_rm )\n",
    "            i += 1\n",
    "            prev = cur\n",
    "        return min_rm"
   ]
  },
  {
   "cell_type": "code",
   "execution_count": 3,
   "id": "82c01eef-9f59-45a0-a4eb-b123d5ad10cd",
   "metadata": {},
   "outputs": [],
   "source": [
    "inputs = [\n",
    "    [4,1,6,5],\n",
    "    [2,10,3,2]\n",
    "]\n",
    "outputs = [\n",
    "    4,\n",
    "    7\n",
    "]"
   ]
  },
  {
   "cell_type": "code",
   "execution_count": 4,
   "id": "5ea0746e-4de2-4cb3-9d7c-be9e25428420",
   "metadata": {
    "tags": []
   },
   "outputs": [
    {
     "name": "stdout",
     "output_type": "stream",
     "text": [
      "True 4 4\n",
      "True 7 7\n"
     ]
    }
   ],
   "source": [
    "solution = Solution().minimumRemoval\n",
    "\n",
    "for idx, (i, o) in enumerate(zip(inputs, outputs)):\n",
    "    sol_ = solution(i)\n",
    "    print(sol_==o, sol_, o)"
   ]
  },
  {
   "cell_type": "markdown",
   "id": "fc0d700b-d32c-4cb3-a931-03b438b64ff6",
   "metadata": {},
   "source": [
    "<img width=\"330\" alt=\"image\" src=\"https://user-images.githubusercontent.com/42428487/165091725-9116626d-7e42-4491-8d67-eb591dc2db04.png\">"
   ]
  }
 ],
 "metadata": {
  "kernelspec": {
   "display_name": "Python 3 (ipykernel)",
   "language": "python",
   "name": "python3"
  },
  "language_info": {
   "codemirror_mode": {
    "name": "ipython",
    "version": 3
   },
   "file_extension": ".py",
   "mimetype": "text/x-python",
   "name": "python",
   "nbconvert_exporter": "python",
   "pygments_lexer": "ipython3",
   "version": "3.7.0"
  }
 },
 "nbformat": 4,
 "nbformat_minor": 5
}
