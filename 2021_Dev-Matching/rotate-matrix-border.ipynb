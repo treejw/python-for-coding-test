{
 "cells": [
  {
   "cell_type": "markdown",
   "id": "27399ddb-f6db-4e2c-96cc-a4a126247a4f",
   "metadata": {},
   "source": [
    "# [**행렬 테두리 회전하기**](https://programmers.co.kr/learn/courses/30/lessons/77485?language=python3)\n",
    "\n",
    "### **문제 설명**\n",
    "\n",
    "rows x columns 크기인 행렬이 있습니다. 행렬에는 1부터 rows x columns까지의 숫자가 한 줄씩 순서대로 적혀있습니다. 이 행렬에서 직사각형 모양의 범위를 여러 번 선택해, 테두리 부분에 있는 숫자들을 시계방향으로 회전시키려 합니다. 각 회전은 (x1, y1, x2, y2)인 정수 4개로 표현하며, 그 의미는 다음과 같습니다.\n",
    "\n",
    "- x1 행 y1 열부터 x2 행 y2 열까지의 영역에 해당하는 직사각형에서 테두리에 있는 숫자들을 한 칸씩 시계방향으로 회전합니다.\n",
    "\n",
    "다음은 6 x 6 크기 행렬의 예시입니다.\n",
    "\n",
    "<img width=\"400\" src=\"https://grepp-programmers.s3.ap-northeast-2.amazonaws.com/files/ybm/4c3c0fab-11f4-43b6-b290-6f4017e9379f/grid_example.png\">\n",
    "\n",
    "이 행렬에 (2, 2, 5, 4) 회전을 적용하면, 아래 그림과 같이 2행 2열부터 5행 4열까지 영역의 테두리가 시계방향으로 회전합니다. 이때, 중앙의 15와 21이 있는 영역은 회전하지 않는 것을 주의하세요.\n",
    "\n",
    "<img width=\"400\" src=\"https://grepp-programmers.s3.ap-northeast-2.amazonaws.com/files/ybm/962df137-5c71-4091-ad9f-8e322910c1ab/rotation_example.png\">\n",
    "\n",
    "행렬의 세로 길이(행 개수) rows, 가로 길이(열 개수) columns, 그리고 회전들의 목록 queries가 주어질 때, 각 회전들을 배열에 적용한 뒤, 그 회전에 의해 위치가 바뀐 숫자들 중 **<u>가장 작은 숫자들을 순서대로 배열에 담아</u>** return 하도록 solution 함수를 완성해주세요.\n",
    "\n",
    "\n",
    "\n",
    "<br>\n",
    "\n",
    "### **제한 조건**\n",
    "\n",
    "- rows는 2 이상 100 이하인 자연수입니다.\n",
    "- columns는 2 이상 100 이하인 자연수입니다.\n",
    "- 처음에 행렬에는 가로 방향으로 숫자가 1부터 하나씩 증가하면서 적혀있습니다.\n",
    "   - 즉, 아무 회전도 하지 않았을 때, i 행 j 열에 있는 숫자는 ((i-1) x columns + j)입니다.\n",
    "- queries의 행의 개수(회전의 개수)는 1 이상 10,000 이하입니다.\n",
    "- queries의 각 행은 4개의 정수 [x1, y1, x2, y2]입니다.\n",
    "   - x1 행 y1 열부터 x2 행 y2 열까지 영역의 테두리를 시계방향으로 회전한다는 뜻입니다.\n",
    "   - 1 ≤ x1 < x2 ≤ rows, 1 ≤ y1 < y2 ≤ columns입니다.\n",
    "   - 모든 회전은 순서대로 이루어집니다.\n",
    "   - 예를 들어, 두 번째 회전에 대한 답은 첫 번째 회전을 실행한 다음, 그 상태에서 두 번째 회전을 실행했을 때 이동한 숫자 중 최솟값을 구하면 됩니다.\n",
    "   \n",
    "<br>\n",
    "\n",
    "#### **입출력 예**\n",
    "rows | columns | queries | result\n",
    "-- | -- | -- | --\n",
    "6 | 6 | [[2,2,5,4],[3,3,6,6],[5,1,6,3]] | [8, 10, 25]\n",
    "3 | 3 | [[1,1,2,2],[1,2,2,3],[2,1,3,2],[2,2,3,3]] | [1, 1, 5, 3]\n",
    "100 | 97 | [[1,1,100,97]] | [1]\n",
    "\n",
    "\n",
    "<br>\n",
    "\n",
    "#### **입출력 예 설명**\n",
    "##### **입출력 예 #1**\n",
    "\n",
    "- 회전을 수행하는 과정을 그림으로 표현하면 다음과 같습니다.\n",
    "<img width=\"700\" src=\"https://grepp-programmers.s3.ap-northeast-2.amazonaws.com/files/ybm/8c8cdd84-d0ec-4b9d-bdf7-f100d0098c5e/example1.png\">\n",
    "\n",
    "\n",
    "##### **입출력 예 #2**\n",
    "- 회전을 수행하는 과정을 그림으로 표현하면 다음과 같습니다.\n",
    "<img width=\"700\" src=\"https://grepp-programmers.s3.ap-northeast-2.amazonaws.com/files/ybm/e3fce2bf-9da9-41e4-926a-5d19b4f31188/example2.png\">\n",
    "\n",
    "\n",
    "##### **입출력 예 #3**\n",
    "- 이 예시에서는 행렬의 테두리에 위치한 모든 칸들이 움직입니다. 따라서, 행렬의 테두리에 있는 수 중 가장 작은 숫자인 1이 바로 답이 됩니다.\n",
    "\n"
   ]
  },
  {
   "cell_type": "markdown",
   "id": "b17687d5-da28-4e9d-be63-0b1edaa4b441",
   "metadata": {},
   "source": [
    "---\n",
    "## **Solution.py**"
   ]
  },
  {
   "cell_type": "code",
   "execution_count": 1,
   "id": "23923273-b98f-40fa-bb46-a7abe380482d",
   "metadata": {},
   "outputs": [],
   "source": [
    "from pprint import pprint"
   ]
  },
  {
   "cell_type": "code",
   "execution_count": 2,
   "id": "28c02355-f0d4-46e5-b487-0f95460bd9e0",
   "metadata": {},
   "outputs": [],
   "source": [
    "import numpy as np\n",
    "\n",
    "def rotate(arr, query):\n",
    "    x1, y1, x2, y2 = map(lambda q: q-1, query) \n",
    "    tmp = arr[x1:x2+1, y1:y2+1].copy()\n",
    "\n",
    "    tmp[0, 1:] = arr[x1, y1:y2]\n",
    "    tmp[1:, -1] = arr[x1:x2, y2]\n",
    "    tmp[-1, :-1] = arr[x2, (y1+1):(y2+1)]\n",
    "    tmp[:-1, 0] =  arr[(x1+1):(x2+1), y1]\n",
    "    \n",
    "    arr[x1:x2+1, y1:y2+1] = tmp\n",
    "    min_values = [min(tmp[0, 1:]), min(tmp[1:, -1]), min(tmp[-1, :-1]), min(tmp[:-1, 0])]\n",
    "    return arr, int(min(min_values))\n",
    "\n",
    "\n",
    "def solution(rows, columns, queries):\n",
    "    arr = np.arange(1, rows*columns+1).reshape(rows, columns)\n",
    "    \n",
    "    ans = list()\n",
    "    for query in queries:\n",
    "        arr, min_ = rotate(arr, query)\n",
    "        ans.append(min_)\n",
    "    \n",
    "    return ans\n"
   ]
  },
  {
   "cell_type": "code",
   "execution_count": 3,
   "id": "f1a3c49a-6881-41ac-bcd6-2e984719d413",
   "metadata": {},
   "outputs": [],
   "source": [
    "inputs = [\n",
    "    (6, 6, [[2,2,5,4],[3,3,6,6],[5,1,6,3]]),\n",
    "    (3, 3, [[1,1,2,2],[1,2,2,3],[2,1,3,2],[2,2,3,3]]),\n",
    "    (100, 97, [[1,1,100,97]])\n",
    "]\n",
    "outputs = [\n",
    "    [8, 10, 25],\n",
    "    [1, 1, 5, 3],\n",
    "    [1]\n",
    "]"
   ]
  },
  {
   "cell_type": "code",
   "execution_count": 4,
   "id": "f66556ac-d25e-4c6f-9340-06527c670b3c",
   "metadata": {},
   "outputs": [
    {
     "name": "stdout",
     "output_type": "stream",
     "text": [
      "True [8, 10, 25] [8, 10, 25]\n",
      "True [1, 1, 5, 3] [1, 1, 5, 3]\n",
      "True [1] [1]\n"
     ]
    }
   ],
   "source": [
    "for idx, (i, o) in enumerate(zip(inputs, outputs)):\n",
    "    print(solution(*i)==o, solution(*i), o)"
   ]
  },
  {
   "cell_type": "markdown",
   "id": "5e38ac3f-9887-4ede-b456-e98cb801d4f6",
   "metadata": {},
   "source": [
    "<img width=\"800\" src=\"https://user-images.githubusercontent.com/42428487/148080391-5cb1562c-ed3f-4f02-b256-22ce1b72a575.png\">"
   ]
  }
 ],
 "metadata": {
  "kernelspec": {
   "display_name": "Python 3 (ipykernel)",
   "language": "python",
   "name": "python3"
  },
  "language_info": {
   "codemirror_mode": {
    "name": "ipython",
    "version": 3
   },
   "file_extension": ".py",
   "mimetype": "text/x-python",
   "name": "python",
   "nbconvert_exporter": "python",
   "pygments_lexer": "ipython3",
   "version": "3.7.0"
  }
 },
 "nbformat": 4,
 "nbformat_minor": 5
}
