{
 "cells": [
  {
   "cell_type": "markdown",
   "id": "d96e2f19-f882-4c03-a29c-13e07aacb116",
   "metadata": {},
   "source": [
    "# [**로또의 최고 순위와 최저 순위**](https://programmers.co.kr/learn/courses/30/lessons/77484)\n",
    "\n",
    "### **문제 설명**\n",
    "\n",
    "`로또 6/45` (이하 '로또'로 표기)는 1부터 45까지의 숫자 중 6개를 찍어서 맞히는 대표적인 복권입니다. 아래는 로또의 순위를 정하는 방식입니다. \n",
    "\n",
    "순위 | 당첨 내용\n",
    "-- | --\n",
    "1 | 6개 번호가 모두 일치\n",
    "2 | 5개 번호가 일치\n",
    "3 | 4개 번호가 일치\n",
    "4 | 3개 번호가 일치\n",
    "5 | 2개 번호가 일치\n",
    "6(낙첨) | 그 외\n",
    "\n",
    "\n",
    "로또를 구매한 민우는 당첨 번호 발표일을 학수고대하고 있었습니다. 하지만, 민우의 동생이 로또에 낙서를 하여, 일부 번호를 알아볼 수 없게 되었습니다. 당첨 번호 발표 후, 민우는 자신이 구매했던 로또로 당첨이 가능했던 최고 순위와 최저 순위를 알아보고 싶어 졌습니다.\n",
    "알아볼 수 없는 번호를 `0`으로 표기하기로 하고, 민우가 구매한 로또 번호 6개가 `44, 1, 0, 0, 31 25`라고 가정해보겠습니다. 당첨 번호 6개가 `31, 10, 45, 1, 6, 19`라면, 당첨 가능한 최고 순위와 최저 순위의 한 예는 아래와 같습니다.\n",
    "\n",
    "당첨 번호 | 31 | 10 | 45 | 1 | 6 | 19 | 결과\n",
    "-- | -- | -- | -- | -- | -- | -- | --\n",
    "최고 순위 번호 | 31 | 0→10 | 44 | 1 | 0→6 | 25 | 4개 번호 일치, 3등\n",
    "최저 순위 번호 | 31 | 0→11 | 44 | 1 | 0→7 | 25 | 2개 번호 일치, 5등\n",
    "\n",
    "- 순서와 상관없이, 구매한 로또에 당첨 번호와 일치하는 번호가 있으면 맞힌 걸로 인정됩니다.\n",
    "- 알아볼 수 없는 두 개의 번호를 각각 10, 6이라고 가정하면 3등에 당첨될 수 있습니다.\n",
    "   - 3등을 만드는 다른 방법들도 존재합니다. 하지만, 2등 이상으로 만드는 것은 불가능합니다.\n",
    "- 알아볼 수 없는 두 개의 번호를 각각 11, 7이라고 가정하면 5등에 당첨될 수 있습니다.\n",
    "   - 5등을 만드는 다른 방법들도 존재합니다. 하지만, 6등(낙첨)으로 만드는 것은 불가능합니다.\n",
    "\n",
    "\n",
    "민우가 구매한 로또 번호를 담은 배열 lottos, 당첨 번호를 담은 배열 win_nums가 매개변수로 주어집니다. 이때, 당첨 가능한 최고 순위와 최저 순위를 차례대로 배열에 담아서 return 하도록 solution 함수를 완성해주세요.\n",
    "\n",
    "<br>\n",
    "\n",
    "### **제한 조건**\n",
    "\n",
    "- lottos는 길이 6인 정수 배열입니다.\n",
    "- lottos의 모든 원소는 0 이상 45 이하인 정수입니다.\n",
    "   - 0은 알아볼 수 없는 숫자를 의미합니다.\n",
    "   - 0을 제외한 다른 숫자들은 lottos에 2개 이상 담겨있지 않습니다.\n",
    "   - lottos의 원소들은 정렬되어 있지 않을 수도 있습니다.\n",
    "- win_nums은 길이 6인 정수 배열입니다.\n",
    "- win_nums의 모든 원소는 1 이상 45 이하인 정수입니다.\n",
    "   - win_nums에는 같은 숫자가 2개 이상 담겨있지 않습니다.\n",
    "   - win_nums의 원소들은 정렬되어 있지 않을 수도 있습니다.\n",
    "\n",
    "<br>\n",
    "\n",
    "#### **입출력 예**\n",
    "lottos | win_nums | result\n",
    "-- | -- | --\n",
    "[44, 1, 0, 0, 31, 25] | [31, 10, 45, 1, 6, 19] | [3, 5]\n",
    "[0, 0, 0, 0, 0, 0] | [38, 19, 20, 40, 15, 25] | [1, 6]\n",
    "[45, 4, 35, 20, 3, 9] | [20, 9, 3, 45, 4, 35] | [1, 1]\n",
    "\n",
    "<br>\n",
    "\n",
    "#### **입출력 예 설명**\n",
    "##### **입출력 예 #1**\n",
    "문제 예시와 같습니다.\n",
    "\n",
    "##### **입출력 예 #2**\n",
    "알아볼 수 없는 번호들이 아래와 같았다면, 1등과 6등에 당첨될 수 있습니다.\n",
    "\n",
    "당첨 번호 | 38 | 19 | 20 | 40 | 15 | 25 | 결과\n",
    "-- | -- | -- | -- | -- | -- | -- | --\n",
    "최고 순위 번호 | 0→38 | 0→19 | 0→20 | 0→40 | 0→15 | 0→25 | 6개 번호 일치, 1등\n",
    "최저 순위 번호 | 0→21 | 0→22 | 0→23 | 0→24 | 0→26 | 0→27 | 0개 번호 일치, 6등\n",
    "\n",
    "##### **입출력 예 #3**\n",
    "민우가 구매한 로또의 번호와 당첨 번호가 모두 일치하므로, 최고 순위와 최저 순위는 모두 1등입니다."
   ]
  },
  {
   "cell_type": "markdown",
   "id": "cdfc6612-8454-4a4c-8da9-642f148dd9d4",
   "metadata": {},
   "source": [
    "---\n",
    "## **Solution.py**"
   ]
  },
  {
   "cell_type": "code",
   "execution_count": 1,
   "id": "a7040a28-aefe-4788-a603-129bc4a77bc1",
   "metadata": {},
   "outputs": [],
   "source": [
    "from pprint import pprint"
   ]
  },
  {
   "cell_type": "code",
   "execution_count": 2,
   "id": "3432973c-ac4b-4c5d-842f-a8ce7ca7807c",
   "metadata": {},
   "outputs": [],
   "source": [
    "def solution(lottos, win_nums):\n",
    "    ranking = {6:1, 5:2, 4:3, 3:4, 2:5, 1:6, 0:6}\n",
    "    \n",
    "    lottos = set(lottos) - set([0])\n",
    "    win_nums = set(win_nums)\n",
    "    num_match = len(lottos & win_nums)\n",
    "    \n",
    "    lowest = ranking[num_match]\n",
    "    highest = ranking[num_match + (6-len(lottos))]\n",
    "    return [highest, lowest]"
   ]
  },
  {
   "cell_type": "code",
   "execution_count": 3,
   "id": "8ea3a5b8-df73-4b2c-9b0d-bb9077fa87a1",
   "metadata": {},
   "outputs": [],
   "source": [
    "inputs = [\n",
    "    ([44, 1, 0, 0, 31, 25], [31, 10, 45, 1, 6, 19]),\n",
    "    ([0, 0, 0, 0, 0, 0], [38, 19, 20, 40, 15, 25]),\n",
    "    ([45, 4, 35, 20, 3, 9], [20, 9, 3, 45, 4, 35])\n",
    "]\n",
    "outputs = [\n",
    "    [3, 5],\n",
    "    [1, 6],\n",
    "    [1, 1]\n",
    "]"
   ]
  },
  {
   "cell_type": "code",
   "execution_count": 4,
   "id": "b5740463-7289-4424-a751-abe5b779a59b",
   "metadata": {},
   "outputs": [
    {
     "name": "stdout",
     "output_type": "stream",
     "text": [
      "True [3, 5] [3, 5]\n",
      "True [1, 6] [1, 6]\n",
      "True [1, 1] [1, 1]\n"
     ]
    }
   ],
   "source": [
    "for idx, (i, o) in enumerate(zip(inputs, outputs)):\n",
    "    print(solution(*i)==o, solution(*i), o)"
   ]
  },
  {
   "cell_type": "markdown",
   "id": "43b0270a-9b5d-4e11-84b9-4f183443ac42",
   "metadata": {},
   "source": [
    "<img width=\"600\" src=\"https://user-images.githubusercontent.com/42428487/147671094-0abe8d0d-91bc-4c3f-8351-b7ca8c238fa6.png\">"
   ]
  }
 ],
 "metadata": {
  "kernelspec": {
   "display_name": "Python 3 (ipykernel)",
   "language": "python",
   "name": "python3"
  },
  "language_info": {
   "codemirror_mode": {
    "name": "ipython",
    "version": 3
   },
   "file_extension": ".py",
   "mimetype": "text/x-python",
   "name": "python",
   "nbconvert_exporter": "python",
   "pygments_lexer": "ipython3",
   "version": "3.7.0"
  }
 },
 "nbformat": 4,
 "nbformat_minor": 5
}
