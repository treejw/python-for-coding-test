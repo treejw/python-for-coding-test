{
 "cells": [
  {
   "cell_type": "markdown",
   "id": "a3e49536-9a6a-4c06-93de-7165a1b18cdd",
   "metadata": {},
   "source": [
    "# [**k진수에서 소수 개수 구하기**](https://programmers.co.kr/learn/courses/30/lessons/92335)\n",
    "\n",
    "### **문제 설명**\n",
    "\n",
    "\n",
    "\n",
    "<p>양의 정수 <code>n</code>이 주어집니다. 이 숫자를 <code>k</code>진수로 바꿨을 때, 변환된 수 안에 아래 조건에 맞는 소수(Prime number)가 몇 개인지 알아보려 합니다.</p>\n",
    "\n",
    "<ul>\n",
    "<li><code>0P0</code>처럼 소수 양쪽에 0이 있는 경우</li>\n",
    "<li><code>P0</code>처럼 소수 오른쪽에만 0이 있고 왼쪽에는 아무것도 없는 경우</li>\n",
    "<li><code>0P</code>처럼 소수 왼쪽에만 0이 있고 오른쪽에는 아무것도 없는 경우</li>\n",
    "<li><code>P</code>처럼 소수 양쪽에 아무것도 없는 경우</li>\n",
    "<li>단, <code>P</code>는 각 자릿수에 0을 포함하지 않는 소수입니다.\n",
    "\n",
    "<ul>\n",
    "<li>예를 들어, 101은 <code>P</code>가 될 수 없습니다.</li>\n",
    "</ul></li>\n",
    "</ul>\n",
    "\n",
    "<p>예를 들어, 437674을 3진수로 바꾸면 <code>211</code>0<code>2</code>01010<code>11</code>입니다. 여기서 찾을 수 있는 조건에 맞는 소수는 왼쪽부터 순서대로 211, 2, 11이 있으며, 총 3개입니다. (211, 2, 11을 <code>k</code>진법으로 보았을 때가 아닌, 10진법으로 보았을 때 소수여야 한다는 점에 주의합니다.) 211은 <code>P0</code> 형태에서 찾을 수 있으며, 2는 <code>0P0</code>에서, 11은 <code>0P</code>에서 찾을 수 있습니다.</p>\n",
    "\n",
    "<p>정수 <code>n</code>과 <code>k</code>가 매개변수로 주어집니다. <code>n</code>을 <code>k</code>진수로 바꿨을 때, 변환된 수 안에서 찾을 수 있는 <strong>위 조건에 맞는 소수</strong>의 개수를 return 하도록 solution 함수를 완성해 주세요.</p>\n",
    "\n",
    "<hr>\n",
    "\n",
    "<h5>제한사항</h5>\n",
    "\n",
    "<ul>\n",
    "<li>1 ≤ <code>n</code> ≤ 1,000,000</li>\n",
    "<li>3 ≤ <code>k</code> ≤ 10</li>\n",
    "</ul>\n",
    "\n",
    "<hr>\n",
    "\n",
    "<h5>입출력 예</h5>\n",
    "<table class=\"table\">\n",
    "        <thead><tr>\n",
    "<th>n</th>\n",
    "<th>k</th>\n",
    "<th>result</th>\n",
    "</tr>\n",
    "</thead>\n",
    "        <tbody><tr>\n",
    "<td>437674</td>\n",
    "<td>3</td>\n",
    "<td>3</td>\n",
    "</tr>\n",
    "<tr>\n",
    "<td>110011</td>\n",
    "<td>10</td>\n",
    "<td>2</td>\n",
    "</tr>\n",
    "</tbody>\n",
    "      </table>\n",
    "<hr>\n",
    "\n",
    "<h5>입출력 예 설명</h5>\n",
    "\n",
    "<p><strong>입출력 예 #1</strong></p>\n",
    "\n",
    "<p>문제 예시와 같습니다. </p>\n",
    "\n",
    "<p><strong>입출력 예 #2</strong></p>\n",
    "\n",
    "<p>110011을 10진수로 바꾸면 110011입니다. 여기서 찾을 수 있는 조건에 맞는 소수는 11, 11 2개입니다. 이와 같이, 중복되는 소수를 발견하더라도 모두 따로 세어야 합니다.</p>\n",
    "\n",
    "<hr>\n",
    "\n",
    "<h5>제한시간 안내</h5>\n",
    "\n",
    "<ul>\n",
    "<li>정확성 테스트 : 10초</li>\n",
    "</ul>\n"
   ]
  },
  {
   "cell_type": "markdown",
   "id": "8c479dc7-16dc-4185-9ccd-699978b5c4df",
   "metadata": {},
   "source": [
    "---\n",
    "## **Solution.py**"
   ]
  },
  {
   "cell_type": "code",
   "execution_count": 1,
   "id": "bd9ce3f1-576a-4995-a927-c025bf634084",
   "metadata": {},
   "outputs": [],
   "source": [
    "from pprint import pprint"
   ]
  },
  {
   "cell_type": "code",
   "execution_count": 2,
   "id": "4cd24c8a-4060-4a22-9650-6806e71c6c28",
   "metadata": {},
   "outputs": [],
   "source": [
    "from collections import Counter\n",
    "\n",
    "def convert_k(num, k):\n",
    "    if k == 10:  \n",
    "        return str(num)\n",
    "    tmp = ''\n",
    "    while num:\n",
    "        tmp = str(num%k) + tmp\n",
    "        num = num//k\n",
    "    return tmp\n",
    "\n",
    "def check_primeN(n: str):\n",
    "    if n in ['1', '']: return False\n",
    "    n = int(n)\n",
    "    for i in range(2, int(n**(0.5))+1):\n",
    "        if n % i == 0:\n",
    "            return False\n",
    "    return True\n",
    "\n",
    "def solution(n, k):\n",
    "    x = convert_k(n, k)\n",
    "    cnt = Counter(x.split('0'))  # {'1': 2, '211': 1, '2': 1, '11': 1}\n",
    "    ans = 0\n",
    "    for k, v in cnt.items():\n",
    "        if check_primeN(k): ans += v\n",
    "    return ans"
   ]
  },
  {
   "cell_type": "code",
   "execution_count": 3,
   "id": "76a52bd7-cec0-4157-aa81-3f540812088b",
   "metadata": {},
   "outputs": [],
   "source": [
    "inputs = [\n",
    "    (437674, 3),\n",
    "    (110011, 10)\n",
    "]\n",
    "outputs = [\n",
    "    3,\n",
    "    2\n",
    "]"
   ]
  },
  {
   "cell_type": "code",
   "execution_count": 4,
   "id": "1f214569-dc0f-4a1e-8910-082b0cd48629",
   "metadata": {},
   "outputs": [
    {
     "name": "stdout",
     "output_type": "stream",
     "text": [
      "True 3 3\n",
      "True 2 2\n"
     ]
    }
   ],
   "source": [
    "for idx, (i, o) in enumerate(zip(inputs, outputs)):\n",
    "    sol_ = solution(*i)\n",
    "    print(sol_==o, sol_, o)"
   ]
  },
  {
   "cell_type": "markdown",
   "id": "e5d9a3a7-e255-417e-b795-8b3bbf279a12",
   "metadata": {},
   "source": [
    "<img width=\"400\" alt=\"image\" src=\"https://user-images.githubusercontent.com/42428487/154833015-dd78f968-a8f5-41ab-8335-854f2009cd54.png\">\n"
   ]
  }
 ],
 "metadata": {
  "kernelspec": {
   "display_name": "Python 3 (ipykernel)",
   "language": "python",
   "name": "python3"
  },
  "language_info": {
   "codemirror_mode": {
    "name": "ipython",
    "version": 3
   },
   "file_extension": ".py",
   "mimetype": "text/x-python",
   "name": "python",
   "nbconvert_exporter": "python",
   "pygments_lexer": "ipython3",
   "version": "3.7.0"
  }
 },
 "nbformat": 4,
 "nbformat_minor": 5
}
