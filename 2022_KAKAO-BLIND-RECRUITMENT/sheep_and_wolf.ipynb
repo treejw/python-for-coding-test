{
 "cells": [
  {
   "cell_type": "markdown",
   "id": "6e1221e6-074e-4b8e-a3f3-0a84465bd917",
   "metadata": {
    "tags": []
   },
   "source": [
    "# [**양과 늑대**](https://programmers.co.kr/learn/courses/30/lessons/92343)\n",
    "\n",
    "### **문제 설명**\n",
    "<p>2진 트리 모양 초원의 각 노드에 늑대와 양이 한 마리씩 놓여 있습니다. 이 초원의 루트 노드에서 출발하여 각 노드를 돌아다니며 양을 모으려 합니다. 각 노드를 방문할 때 마다 해당 노드에 있던 양과 늑대가 당신을 따라오게 됩니다. 이때, 늑대는 양을 잡아먹을 기회를 노리고 있으며, 당신이 모은 양의 수보다 늑대의 수가 같거나 더 많아지면 바로 모든 양을 잡아먹어 버립니다. 당신은 중간에 양이 늑대에게 잡아먹히지 않도록 하면서 최대한 많은 수의 양을 모아서 다시 루트 노드로 돌아오려 합니다.</p>\n",
    "\n",
    "<p><img width=\"500\" src=\"https://grepp-programmers.s3.ap-northeast-2.amazonaws.com/files/production/ed7118a9-a99b-4f3a-9779-a94816529e78/03_2022_%E1%84%80%E1%85%A9%E1%86%BC%E1%84%8E%E1%85%A2%E1%84%86%E1%85%AE%E1%86%AB%E1%84%8C%E1%85%A6_%E1%84%8B%E1%85%A3%E1%86%BC%E1%84%80%E1%85%AA%E1%84%82%E1%85%B3%E1%86%A8%E1%84%83%E1%85%A2_01.png\" title=\"\" alt=\"03_2022_공채문제_양과늑대_01.png\"></p>\n",
    "\n",
    "<p>예를 들어, 위 그림의 경우(루트 노드에는 항상 양이 있습니다) 0번 노드(루트 노드)에서 출발하면 양을 한마리 모을 수 있습니다. 다음으로 1번 노드로 이동하면 당신이 모은 양은 두 마리가 됩니다. 이때, 바로 4번 노드로 이동하면 늑대 한 마리가 당신을 따라오게 됩니다. 아직은 양 2마리, 늑대 1마리로 양이 잡아먹히지 않지만, 이후에 갈 수 있는 아직 방문하지 않은 모든 노드(2, 3, 6, 8번)에는 늑대가 있습니다. 이어서 늑대가 있는 노드로 이동한다면(예를 들어 바로 6번 노드로 이동한다면) 양 2마리, 늑대 2마리가 되어 양이 모두 잡아먹힙니다. 여기서는 0번, 1번 노드를 방문하여 양을 2마리 모은 후, 8번 노드로 이동한 후(양 2마리 늑대 1마리) 이어서 7번, 9번 노드를 방문하면 양 4마리 늑대 1마리가 됩니다. 이제 4번, 6번 노드로 이동하면 양 4마리, 늑대 3마리가 되며, 이제 5번 노드로 이동할 수 있게 됩니다. 따라서 양을 최대 5마리 모을 수 있습니다. </p>\n",
    "\n",
    "<p>각 노드에 있는 양 또는 늑대에 대한 정보가 담긴 배열 <code>info</code>, 2진 트리의 각 노드들의 연결 관계를 담은 2차원 배열 <code>edges</code>가 매개변수로 주어질 때, 문제에 제시된 조건에 따라 각 노드를 방문하면서 모을 수 있는 양은 최대 몇 마리인지 return 하도록 solution 함수를 완성해주세요.</p>\n",
    "\n",
    "<hr>\n",
    "\n",
    "<h4><strong>제한사항</strong></h4>\n",
    "\n",
    "<ul>\n",
    "<li>2 ≤ <code>info</code>의 길이 ≤ 17\n",
    "\n",
    "<ul>\n",
    "<li><code>info</code>의 원소는 0 또는 1 입니다.</li>\n",
    "<li>info[i]는 i번 노드에 있는 양 또는 늑대를 나타냅니다.</li>\n",
    "<li>0은 양, 1은 늑대를 의미합니다.</li>\n",
    "<li>info[0]의 값은 항상 0입니다. 즉, 0번 노드(루트 노드)에는 항상 양이 있습니다.</li>\n",
    "</ul></li>\n",
    "<li><code>edges</code>의 세로(행) 길이 = <code>info</code>의 길이 - 1\n",
    "\n",
    "<ul>\n",
    "<li><code>edges</code>의 가로(열) 길이 = 2</li>\n",
    "<li><code>edges</code>의 각 행은 [부모 노드 번호, 자식 노드 번호] 형태로, 서로 연결된 두 노드를 나타냅니다.</li>\n",
    "<li>동일한 간선에 대한 정보가 중복해서 주어지지 않습니다.</li>\n",
    "<li>항상 하나의 이진 트리 형태로 입력이 주어지며, 잘못된 데이터가 주어지는 경우는 없습니다.</li>\n",
    "<li>0번 노드는 항상 루트 노드입니다.</li>\n",
    "</ul></li>\n",
    "</ul>\n",
    "\n",
    "<hr>\n",
    "\n",
    "<h4><strong>입출력 예</strong></h4>\n",
    "<table class=\"table\">\n",
    "        <thead><tr>\n",
    "<th>info</th>\n",
    "<th>edges</th>\n",
    "<th>result</th>\n",
    "</tr>\n",
    "</thead>\n",
    "        <tbody><tr>\n",
    "<td>[0,0,1,1,1,0,1,0,1,0,1,1]</td>\n",
    "<td>[[0,1],[1,2],[1,4],[0,8],[8,7],[9,10],[9,11],[4,3],[6,5],[4,6],[8,9]]</td>\n",
    "<td>5</td>\n",
    "</tr>\n",
    "<tr>\n",
    "<td>[0,1,0,1,1,0,1,0,0,1,0]</td>\n",
    "<td>[[0,1],[0,2],[1,3],[1,4],[2,5],[2,6],[3,7],[4,8],[6,9],[9,10]]</td>\n",
    "<td>5</td>\n",
    "</tr>\n",
    "</tbody>\n",
    "      </table>\n",
    "<hr>\n",
    "\n",
    "<h4><strong>입출력 예 설명</strong></h4>\n",
    "\n",
    "<p><strong>입출력 예 #1</strong></p>\n",
    "\n",
    "<p>문제의 예시와 같습니다.</p>\n",
    "\n",
    "<p><strong>입출력 예 #2</strong></p>\n",
    "\n",
    "<p>주어진 입력은 다음 그림과 같습니다.</p>\n",
    "\n",
    "<p><img width=\"500\" src=\"https://grepp-programmers.s3.ap-northeast-2.amazonaws.com/files/production/32656ee0-814e-4dd9-93a3-abed1ce31ec1/03_2022_%E1%84%80%E1%85%A9%E1%86%BC%E1%84%8E%E1%85%A2%E1%84%86%E1%85%AE%E1%86%AB%E1%84%8C%E1%85%A6_%E1%84%8B%E1%85%A3%E1%86%BC%E1%84%80%E1%85%AA%E1%84%82%E1%85%B3%E1%86%A8%E1%84%83%E1%85%A2_02.png\" title=\"\" alt=\"03_2022_공채문제_양과늑대_02.png\"></p>\n",
    "\n",
    "<p>0번 - 2번 - 5번 - 1번 - 4번 - 8번 - 3번 - 7번 노드 순으로 이동하면 양 5마리 늑대 3마리가 됩니다. 여기서 6번, 9번 노드로 이동하면 양 5마리, 늑대 5마리가 되어 양이 모두 잡아먹히게 됩니다. 따라서 늑대에게 잡아먹히지 않도록 하면서 최대로 모을 수 있는 양은 5마리입니다.</p>\n",
    "\n",
    "<hr>\n",
    "\n",
    "<h5>제한시간 안내</h5>\n",
    "\n",
    "<ul>\n",
    "<li>정확성 테스트 : 10초</li>\n",
    "</ul>"
   ]
  },
  {
   "cell_type": "markdown",
   "id": "061d777a-50bc-4125-9403-acc4e4a13cd9",
   "metadata": {
    "tags": []
   },
   "source": [
    "---\n",
    "## **Solution.py**"
   ]
  },
  {
   "cell_type": "code",
   "execution_count": null,
   "id": "641c511e-882f-4e34-acb6-6f9e0a73b493",
   "metadata": {},
   "outputs": [],
   "source": [
    "from collections import defaultdict\n",
    "from copy import deepcopy\n",
    "\n",
    "def dfs(nexts, graph, info, sheep, wolf, max_sheep=0):\n",
    "    if sheep <= wolf:\n",
    "        return max_sheep\n",
    "    max_sheep = max(max_sheep, sheep)\n",
    "    for i, n in enumerate(nexts):\n",
    "        sum_sheep = dfs(nexts[:i]+nexts[i+1:]+graph[n], graph, info, sheep+(1-info[n]), wolf+info[n], max_sheep)\n",
    "        max_sheep = max(sum_sheep, max_sheep)\n",
    "    return max_sheep\n",
    "\n",
    "def solution(info, edges):\n",
    "    graph = defaultdict(list)\n",
    "    for n1, n2 in edges:\n",
    "        graph[n1].append(n2)\n",
    "    return dfs(graph[0], graph, info, sheep=1, wolf=0)"
   ]
  },
  {
   "cell_type": "code",
   "execution_count": null,
   "id": "2f40a63d-e36e-4e42-a799-d05335c8e9f1",
   "metadata": {},
   "outputs": [],
   "source": [
    "inputs = [\n",
    "    ([0,0,1,1,1,0,1,0,1,0,1,1],[[0,1],[1,2],[1,4],[0,8],[8,7],[9,10],[9,11],[4,3],[6,5],[4,6],[8,9]]),\n",
    "    ([0,1,0,1,1,0,1,0,0,1,0],[[0,1],[0,2],[1,3],[1,4],[2,5],[2,6],[3,7],[4,8],[6,9],[9,10]])\n",
    "]\n",
    "outputs = [\n",
    "    5,\n",
    "    5\n",
    "]"
   ]
  },
  {
   "cell_type": "code",
   "execution_count": null,
   "id": "a07efe09-9d77-443c-9105-3b206e574d87",
   "metadata": {},
   "outputs": [],
   "source": [
    "for idx, (i, o) in enumerate(zip(inputs, outputs)):\n",
    "    sol_ = solution(*i)\n",
    "    print(sol_==o, sol_, o)"
   ]
  },
  {
   "cell_type": "markdown",
   "id": "4419a602-b95f-47d9-aba7-0b88404cb64e",
   "metadata": {},
   "source": [
    "<img width=\"400\" alt=\"image\" src=\"https://user-images.githubusercontent.com/42428487/153229108-3889f7ce-04f4-4350-b412-f774eb6374f0.png\">\n"
   ]
  }
 ],
 "metadata": {
  "kernelspec": {
   "display_name": "Python 3 (ipykernel)",
   "language": "python",
   "name": "python3"
  },
  "language_info": {
   "codemirror_mode": {
    "name": "ipython",
    "version": 3
   },
   "file_extension": ".py",
   "mimetype": "text/x-python",
   "name": "python",
   "nbconvert_exporter": "python",
   "pygments_lexer": "ipython3",
   "version": "3.7.0"
  }
 },
 "nbformat": 4,
 "nbformat_minor": 5
}
