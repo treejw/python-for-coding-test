{
 "cells": [
  {
   "cell_type": "markdown",
   "id": "cba2420c-7c80-4602-b6f6-9e5fce8e16ee",
   "metadata": {
    "tags": []
   },
   "source": [
    "# [위장](https://programmers.co.kr/learn/courses/30/lessons/42578)\n",
    "\n",
    "<p>스파이들은 매일 다른 옷을 조합하여 입어 자신을 위장합니다.</p>\n",
    "\n",
    "<p>예를 들어 스파이가 가진 옷이 아래와 같고 오늘 스파이가 동그란 안경, 긴 코트, 파란색 티셔츠를 입었다면 다음날은 청바지를 추가로 입거나 동그란 안경 대신 검정 선글라스를 착용하거나 해야 합니다.</p>\n",
    "<table class=\"table\">\n",
    "        <thead><tr>\n",
    "<th>종류</th>\n",
    "<th>이름</th>\n",
    "</tr>\n",
    "</thead>\n",
    "        <tbody><tr>\n",
    "<td>얼굴</td>\n",
    "<td>동그란 안경, 검정 선글라스</td>\n",
    "</tr>\n",
    "<tr>\n",
    "<td>상의</td>\n",
    "<td>파란색 티셔츠</td>\n",
    "</tr>\n",
    "<tr>\n",
    "<td>하의</td>\n",
    "<td>청바지</td>\n",
    "</tr>\n",
    "<tr>\n",
    "<td>겉옷</td>\n",
    "<td>긴 코트</td>\n",
    "</tr>\n",
    "</tbody>\n",
    "      </table>\n",
    "<p>스파이가 가진 의상들이 담긴 2차원 배열 clothes가 주어질 때 서로 다른 옷의 조합의 수를 return 하도록 solution 함수를 작성해주세요.</p><br>\n",
    "\n",
    "<h4>제한사항</h4>\n",
    "\n",
    "<ul>\n",
    "<li>clothes의 각 행은 [의상의 이름, 의상의 종류]로 이루어져 있습니다.</li>\n",
    "<li>스파이가 가진 의상의 수는 1개 이상 30개 이하입니다.</li>\n",
    "<li>같은 이름을 가진 의상은 존재하지 않습니다.</li>\n",
    "<li>clothes의 모든 원소는 문자열로 이루어져 있습니다.</li>\n",
    "<li>모든 문자열의 길이는 1 이상 20 이하인 자연수이고 알파벳 소문자 또는 '_' 로만 이루어져 있습니다.</li>\n",
    "<li>스파이는 하루에 최소 한 개의 의상은 입습니다.</li>\n",
    "</ul><br>\n",
    "\n",
    "<h4>입출력 예</h4>\n",
    "<table class=\"table\">\n",
    "        <thead><tr>\n",
    "<th>clothes</th>\n",
    "<th>return</th>\n",
    "</tr>\n",
    "</thead>\n",
    "        <tbody><tr>\n",
    "<td>[[\"yellow<u>hat\", \"headgear\"], [\"blue</u>sunglasses\", \"eyewear\"], [\"green_turban\", \"headgear\"]]</td>\n",
    "<td>5</td>\n",
    "</tr>\n",
    "<tr>\n",
    "<td>[[\"crow<u>mask\", \"face\"], [\"blue</u>sunglasses\", \"face\"], [\"smoky_makeup\", \"face\"]]</td>\n",
    "<td>3</td>\n",
    "</tr>\n",
    "</tbody>\n",
    "      </table><br>\n",
    "<h4>입출력 예 설명</h4>\n",
    "\n",
    "<p>예제 #1<br>\n",
    "headgear에 해당하는 의상이 yellow_hat, green_turban이고 eyewear에 해당하는 의상이 blue_sunglasses이므로 아래와 같이 5개의 조합이 가능합니다.</p>\n",
    "<div class=\"highlight\"><pre class=\"codehilite\"><code>1. yellow_hat\n",
    "2. blue_sunglasses\n",
    "3. green_turban\n",
    "4. yellow_hat + blue_sunglasses\n",
    "5. green_turban + blue_sunglasses\n",
    "</code></pre></div><br>\n",
    "<p>예제 #2<br>\n",
    "face에 해당하는 의상이 crow_mask, blue_sunglasses, smoky_makeup이므로 아래와 같이 3개의 조합이 가능합니다.</p>\n",
    "<div class=\"highlight\"><pre class=\"codehilite\"><code>1. crow_mask\n",
    "2. blue_sunglasses\n",
    "3. smoky_makeup\n",
    "</code></pre></div>\n"
   ]
  },
  {
   "cell_type": "markdown",
   "id": "d5769c67-0058-4d5d-a6b6-c2aae998c204",
   "metadata": {},
   "source": [
    "# Solution.py"
   ]
  },
  {
   "cell_type": "code",
   "execution_count": 1,
   "id": "fd6fa282-fefa-4c9b-9422-95d2120dbc65",
   "metadata": {},
   "outputs": [],
   "source": [
    "from pprint import pprint"
   ]
  },
  {
   "cell_type": "code",
   "execution_count": 2,
   "id": "c95362f8-5e5a-47e3-a2ea-0b80c058cfa1",
   "metadata": {},
   "outputs": [],
   "source": [
    "# clothes = [[\"yellowhat\", \"headgear\"], [\"bluesunglasses\", \"eyewear\"], [\"green_turban\", \"headgear\"]]\n",
    "\n",
    "def solution(clothes):\n",
    "    c_dict = dict()                    # c_dict = {'eyewear': 1, 'headgear': 2}\n",
    "    for c_name, c_type in clothes:\n",
    "        if c_type in c_dict:\n",
    "            c_dict[c_type] += 1\n",
    "        else:\n",
    "            c_dict[c_type] = 1\n",
    "    \n",
    "    c_list = list(c_dict.values())     # c_list = [1, 2]\n",
    "    \n",
    "    len_ctype = len(c_dict)\n",
    "    if len_ctype == 1:\n",
    "        return c_list[0]\n",
    "    \n",
    "    answer = c_list[0]+1               # answer = (1+1) * (2+1) - 1\n",
    "    for c in c_list[1:]:\n",
    "        answer *= (c+1)\n",
    "    return answer - 1"
   ]
  },
  {
   "cell_type": "code",
   "execution_count": 3,
   "id": "5ecdd486-95fd-434e-ae1e-db98cb39f1ba",
   "metadata": {},
   "outputs": [],
   "source": [
    "inputs = [\n",
    "    [[\"yellowhat\", \"headgear\"], [\"bluesunglasses\", \"eyewear\"], [\"green_turban\", \"headgear\"]],\n",
    "    [[\"crowmask\", \"face\"], [\"bluesunglasses\", \"face\"], [\"smoky_makeup\", \"face\"]]\n",
    "]\n",
    "outputs = [\n",
    "    5,\n",
    "    3\n",
    "]"
   ]
  },
  {
   "cell_type": "code",
   "execution_count": 4,
   "id": "b1f6cb5f-3c46-42f5-91c2-2eda6ec3cf53",
   "metadata": {},
   "outputs": [
    {
     "name": "stdout",
     "output_type": "stream",
     "text": [
      "5 5\n",
      "3 3\n"
     ]
    }
   ],
   "source": [
    "for idx, (i, o) in enumerate(zip(inputs, outputs)):\n",
    "    print(solution(i), o)"
   ]
  },
  {
   "cell_type": "markdown",
   "id": "590dc257-fd41-43f7-8fc3-f10b013b4ef5",
   "metadata": {},
   "source": [
    "<img src=\"https://user-images.githubusercontent.com/42428487/143057082-7d2687a8-08dd-4f03-8702-759c64d73436.png\" width=\"400;\">"
   ]
  }
 ],
 "metadata": {
  "kernelspec": {
   "display_name": "Python 3 (ipykernel)",
   "language": "python",
   "name": "python3"
  },
  "language_info": {
   "codemirror_mode": {
    "name": "ipython",
    "version": 3
   },
   "file_extension": ".py",
   "mimetype": "text/x-python",
   "name": "python",
   "nbconvert_exporter": "python",
   "pygments_lexer": "ipython3",
   "version": "3.7.0"
  }
 },
 "nbformat": 4,
 "nbformat_minor": 5
}
