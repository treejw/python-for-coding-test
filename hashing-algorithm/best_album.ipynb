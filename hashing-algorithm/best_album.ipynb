{
 "cells": [
  {
   "cell_type": "markdown",
   "id": "6cb5eef1-9be8-43db-b7fc-dd4a3a590344",
   "metadata": {},
   "source": [
    "# [베스트앨범](https://programmers.co.kr/learn/courses/30/lessons/42579)\n",
    "\n",
    "\n",
    "#### 문제 설명\n",
    "\n",
    "스트리밍 사이트에서 장르 별로 가장 많이 재생된 노래를 두 개씩 모아 베스트 앨범을 출시하려 합니다. 노래는 고유 번호로 구분하며, 노래를 수록하는 기준은 다음과 같습니다.\n",
    "\n",
    "1. 속한 노래가 많이 재생된 장르를 먼저 수록합니다.\n",
    "2. 장르 내에서 많이 재생된 노래를 먼저 수록합니다.\n",
    "3. 장르 내에서 재생 횟수가 같은 노래 중에서는 고유 번호가 낮은 노래를 먼저 수록합니다.\n",
    "\n",
    "노래의 장르를 나타내는 문자열 배열 genres와 노래별 재생 횟수를 나타내는 정수 배열 plays가 주어질 때, 베스트 앨범에 들어갈 노래의 고유 번호를 순서대로 return 하도록 solution 함수를 완성하세요.\n",
    "\n",
    "<br>\n",
    "\n",
    "#### 제한사항\n",
    "- genres[i]는 고유번호가 i인 노래의 장르입니다.\n",
    "- plays[i]는 고유번호가 i인 노래가 재생된 횟수입니다.\n",
    "- genres와 plays의 길이는 같으며, 이는 1 이상 10,000 이하입니다.\n",
    "- 장르 종류는 100개 미만입니다.\n",
    "- 장르에 속한 곡이 하나라면, 하나의 곡만 선택합니다.\n",
    "- 모든 장르는 재생된 횟수가 다릅니다.\n",
    "\n",
    "<br>\n",
    "\n",
    "#### 입출력 예\n",
    "\n",
    "|genres|plays|return|\n",
    "|:--:|:--:|:--:|\n",
    "|[\"classic\", \"pop\", \"classic\", \"classic\", \"pop\"]|[500, 600, 150, 800, 2500]|[4, 1, 3, 0]|\n",
    "\n",
    "<br>\n",
    "\n",
    "#### 입출력 예 설명\n",
    "classic 장르는 1,450회 재생되었으며, classic 노래는 다음과 같습니다.\n",
    "- 고유 번호 3: 800회 재생\n",
    "- 고유 번호 0: 500회 재생\n",
    "-고유 번호 2: 150회 재생\n",
    "\n",
    "<br>\n",
    "\n",
    "pop 장르는 3,100회 재생되었으며, pop 노래는 다음과 같습니다.\n",
    "- 고유 번호 4: 2,500회 재생\n",
    "- 고유 번호 1: 600회 재생\n",
    "- 따라서 pop 장르의 [4, 1]번 노래를 먼저, classic 장르의 [3, 0]번 노래를 그다음에 수록합니다."
   ]
  },
  {
   "cell_type": "markdown",
   "id": "2fe489a8-309b-46b1-9ba2-e95ef9995e2b",
   "metadata": {
    "tags": []
   },
   "source": [
    "# Solution.py"
   ]
  },
  {
   "cell_type": "code",
   "execution_count": 2,
   "id": "8fb1e6b7-091b-4291-bd29-c87dbc68228d",
   "metadata": {},
   "outputs": [],
   "source": [
    "from pprint import pprint"
   ]
  },
  {
   "cell_type": "code",
   "execution_count": 98,
   "id": "a78d48f0-4e10-4116-87af-f7d514eb24c5",
   "metadata": {},
   "outputs": [],
   "source": [
    "# genres = [\"classic\", \"pop\", \"classic\", \"classic\", \"pop\"]\n",
    "# plays = [500, 600, 150, 800, 2500]\n",
    "\n",
    "from collections import defaultdict\n",
    "\n",
    "def solution(genres, plays):\n",
    "    g_total_dict = defaultdict(int)                    # {'classic': 1450, 'pop': 3100}) \n",
    "    \n",
    "    idx2ply = defaultdict(int)                         # {0: 500, 1: 600, 2: 150, 3: 800, 4: 2500}\n",
    "    g_idx_dict = defaultdict(list)                     # {'classic': [3, 0], 'pop': [4, 1]}\n",
    "    \n",
    "    for idx, (g, p) in enumerate(zip(genres, plays)):\n",
    "        g_total_dict[g] += p\n",
    "        idx2ply[idx] = p\n",
    "        g_idx_dict[g].append(idx)\n",
    "        g_idx_dict[g] = sorted(g_idx_dict[g], key = lambda x : idx2ply[x], reverse=True)[:2]\n",
    "        \n",
    "    answer = list()\n",
    "    for g, _ in sorted(g_total_dict.items(), key=lambda x: x[1], reverse=True): \n",
    "        answer += g_idx_dict[g]\n",
    "    return answer"
   ]
  },
  {
   "cell_type": "code",
   "execution_count": 76,
   "id": "cfc75bb7-bdfc-42ce-98d9-23eb7deece7a",
   "metadata": {},
   "outputs": [],
   "source": [
    "inputs = [\n",
    "    ([\"classic\", \"pop\", \"classic\", \"classic\", \"pop\"], [500, 600, 150, 800, 2500]),\n",
    "    ([\"classic\", \"pop\", \"classic\", \"classic\", \"pop\"], [800, 600, 150, 800, 2500]),\n",
    "    ([\"classic\", \"pop\", \"classic\", \"classic\"], [800, 600, 150, 800])\n",
    "]\n",
    "outputs = [\n",
    "    [4, 1, 3, 0],\n",
    "    [4, 1, 0, 3],\n",
    "    [0, 3, 1],\n",
    "]"
   ]
  },
  {
   "cell_type": "code",
   "execution_count": null,
   "id": "b83ba8d0-3c79-4ab0-9879-83aba8e5534d",
   "metadata": {},
   "outputs": [
    {
     "name": "stdout",
     "output_type": "stream",
     "text": [
      "[4, 1, 3, 0] [4, 1, 3, 0]\n",
      "[4, 1, 0, 3] [4, 1, 0, 3]\n",
      "[0, 3, 1] [0, 3, 1]\n"
     ]
    }
   ],
   "source": [
    "for idx, (i, o) in enumerate(zip(inputs, outputs)):\n",
    "    print(solution(*i), o)"
   ]
  },
  {
   "cell_type": "markdown",
   "id": "e636ca32-106a-48e4-9867-d465cf0cb014",
   "metadata": {},
   "source": [
    "<img src=\"https://user-images.githubusercontent.com/42428487/143079199-6dd23c09-1547-4473-86b7-6ba766011e7b.png\" width=\"600;\">"
   ]
  }
 ],
 "metadata": {
  "kernelspec": {
   "display_name": "Python 3 (ipykernel)",
   "language": "python",
   "name": "python3"
  },
  "language_info": {
   "codemirror_mode": {
    "name": "ipython",
    "version": 3
   },
   "file_extension": ".py",
   "mimetype": "text/x-python",
   "name": "python",
   "nbconvert_exporter": "python",
   "pygments_lexer": "ipython3",
   "version": "3.7.0"
  }
 },
 "nbformat": 4,
 "nbformat_minor": 5
}
