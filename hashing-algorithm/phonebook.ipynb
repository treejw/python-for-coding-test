{
 "cells": [
  {
   "cell_type": "markdown",
   "id": "ff5e57ac-6394-4e95-ba0b-e7180c23f3e9",
   "metadata": {},
   "source": [
    "# [전화번호 목록](https://programmers.co.kr/learn/courses/30/lessons/42577?language=python3)\n",
    "## 문제 설명\n",
    "전화번호부에 적힌 전화번호 중, 한 번호가 다른 번호의 접두어인 경우가 있는지 확인하려 합니다.\n",
    "\n",
    "전화번호가 다음과 같을 경우, 구조대 전화번호는 영석이의 전화번호의 접두사입니다.\n",
    "\n",
    "```\n",
    "구조대 : 119\n",
    "박준영 : 97 674 223\n",
    "지영석 : 11 9552 4421\n",
    "```\n",
    "전화번호부에 적힌 전화번호를 담은 배열 phone_book 이 solution 함수의 매개변수로 주어질 때, 어떤 번호가 다른 번호의 접두어인 경우가 있으면 false를 그렇지 않으면 true를 return 하도록 solution 함수를 작성해주세요.\n",
    "\n",
    "### 제한 사항\n",
    "- phone_book의 길이는 1 이상 1,000,000 이하입니다.\n",
    "- 각 전화번호의 길이는 1 이상 20 이하입니다.\n",
    "- 같은 전화번호가 중복해서 들어있지 않습니다.\n",
    "\n",
    "### 입출력 예제\n",
    "| phone_book | return |\n",
    "|:--:|:--:|\n",
    "|[\"119\", \"97674223\", \"1195524421\"]\t| false |\n",
    "|[\"123\",\"456\",\"789\"]\t| true |\n",
    "|[\"12\",\"123\",\"1235\",\"567\",\"88\"]\t| false |\n",
    "\n",
    "### 입출력 예 설명\n",
    "#### 입출력 예 #1\n",
    "앞에서 설명한 예와 같습니다.\n",
    "\n",
    "#### 입출력 예 #2\n",
    "한 번호가 다른 번호의 접두사인 경우가 없으므로, 답은 true입니다.\n",
    "\n",
    "#### 입출력 예 #3\n",
    "첫 번째 전화번호, “12”가 두 번째 전화번호 “123”의 접두사입니다. 따라서 답은 false입니다.\n"
   ]
  },
  {
   "cell_type": "markdown",
   "id": "9ae82f51-5b4c-4c02-b390-3fd1d5273c86",
   "metadata": {},
   "source": [
    "# Solution.py"
   ]
  },
  {
   "cell_type": "code",
   "execution_count": 2,
   "id": "133b18ae-5c6c-4a44-9c73-ad069b591e18",
   "metadata": {},
   "outputs": [],
   "source": [
    "# phone_book = [\"88\", \"1235\", \"567\",\"124\", \"12\"]\n",
    "\n",
    "def solution(phone_book):\n",
    "    phone_book = sorted(phone_book)                 # ['12', '1235', '124', '567', '88']\n",
    "    for idx, phone in enumerate(phone_book[:-1]):\n",
    "        len_p = len(phone)\n",
    "        if len_p > len(phone_book[idx+1]):\n",
    "            continue\n",
    "        if phone == phone_book[idx+1][:len_p]:\n",
    "            return False\n",
    "    return True"
   ]
  },
  {
   "cell_type": "code",
   "execution_count": 5,
   "id": "cb9fd76a-3a81-47a7-a2c6-6133b8e04804",
   "metadata": {},
   "outputs": [],
   "source": [
    "inputs = [\n",
    "    [\"119\", \"97674223\", \"1195524421\"],\n",
    "    [\"123\",\"456\",\"789\"],\n",
    "    [\"12\",\"123\",\"1235\",\"567\",\"88\"]\n",
    "]\n",
    "outputs = [\n",
    "    False,\n",
    "    True,\n",
    "    False\n",
    "]"
   ]
  },
  {
   "cell_type": "code",
   "execution_count": 6,
   "id": "42c6594d-6644-4017-85e4-096b0832b6c8",
   "metadata": {},
   "outputs": [
    {
     "name": "stdout",
     "output_type": "stream",
     "text": [
      "False False\n",
      "True True\n",
      "False False\n"
     ]
    }
   ],
   "source": [
    "for idx, (i, o) in enumerate(zip(inputs, outputs)):\n",
    "    print(solution(i), o)"
   ]
  }
 ],
 "metadata": {
  "kernelspec": {
   "display_name": "Python 3 (ipykernel)",
   "language": "python",
   "name": "python3"
  },
  "language_info": {
   "codemirror_mode": {
    "name": "ipython",
    "version": 3
   },
   "file_extension": ".py",
   "mimetype": "text/x-python",
   "name": "python",
   "nbconvert_exporter": "python",
   "pygments_lexer": "ipython3",
   "version": "3.7.0"
  }
 },
 "nbformat": 4,
 "nbformat_minor": 5
}
