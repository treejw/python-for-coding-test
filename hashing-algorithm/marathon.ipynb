{
 "cells": [
  {
   "cell_type": "markdown",
   "id": "e7b5bd06-6f49-42df-9d96-f982e7e48dcd",
   "metadata": {},
   "source": [
    "# [완주하지 못한 선수](https://programmers.co.kr/learn/courses/30/lessons/42576)\n",
    "\n",
    "## 문제 설명\n",
    "수많은 마라톤 선수들이 마라톤에 참여하였습니다. 단 한 명의 선수를 제외하고는 모든 선수가 마라톤을 완주하였습니다.\n",
    "\n",
    "마라톤에 참여한 선수들의 이름이 담긴 배열 participant와 완주한 선수들의 이름이 담긴 배열 completion이 주어질 때, 완주하지 못한 선수의 이름을 return 하도록 solution 함수를 작성해주세요.\n",
    "\n",
    "### 제한사항\n",
    "- 마라톤 경기에 참여한 선수의 수는 1명 이상 100,000명 이하입니다.\n",
    "- completion의 길이는 participant의 길이보다 1 작습니다.\n",
    "- 참가자의 이름은 1개 이상 20개 이하의 알파벳 소문자로 이루어져 있습니다.\n",
    "- 참가자 중에는 동명이인이 있을 수 있습니다.\n",
    "\n",
    "### 입출력 예\n",
    "| participant |\tcompletion\t| return |\n",
    "|:--:|:--:|:--:|\n",
    "| [\"leo\", \"kiki\", \"eden\"] |\t[\"eden\", \"kiki\"] |\t\"leo\" |\n",
    "| [\"marina\", \"josipa\", \"nikola\", \"vinko\", \"filipa\"] |\t[\"josipa\", \"filipa\", \"marina\", \"nikola\"] |\t\"vinko\" |\n",
    "| [\"mislav\", \"stanko\", \"mislav\", \"ana\"] |\t[\"stanko\", \"ana\", \"mislav\"] |\t\"mislav\" |\n",
    "\n",
    "\n",
    "### 입출력 예 설명\n",
    "#### 예제 #1\n",
    "\"leo\"는 참여자 명단에는 있지만, 완주자 명단에는 없기 때문에 완주하지 못했습니다.\n",
    "\n",
    "#### 예제 #2\n",
    "\"vinko\"는 참여자 명단에는 있지만, 완주자 명단에는 없기 때문에 완주하지 못했습니다.\n",
    "\n",
    "#### 예제 #3\n",
    "\"mislav\"는 참여자 명단에는 두 명이 있지만, 완주자 명단에는 한 명밖에 없기 때문에 한명은 완주하지 못했습니다.\n"
   ]
  },
  {
   "cell_type": "markdown",
   "id": "0ae6da41-7a9f-45e8-849c-f16c5dc0822d",
   "metadata": {},
   "source": [
    "# Solution.py"
   ]
  },
  {
   "cell_type": "code",
   "execution_count": 1,
   "id": "e170b6b4-102a-49d0-8e4e-a9cedaedf9d2",
   "metadata": {},
   "outputs": [],
   "source": [
    "# participant = [\"mislav\", \"stanko\", \"mislav\", \"ana\"]\n",
    "# completion = [\"stanko\", \"ana\", \"mislav\"]\n",
    "\n",
    "def solution(participant, completion):\n",
    "    count_dict = dict()\n",
    "    for c in completion:\n",
    "        if c in count_dict: count_dict[c] += 1\n",
    "        else:               count_dict[c] = 1\n",
    "    \n",
    "    for p in participant:\n",
    "        if p not in count_dict:     return p\n",
    "        count_dict[p] -= 1\n",
    "        if count_dict[p] == -1:     return p"
   ]
  },
  {
   "cell_type": "code",
   "execution_count": 3,
   "id": "a5fad63d-8e5f-480f-ba2e-5c25e789e8a4",
   "metadata": {},
   "outputs": [],
   "source": [
    "inputs = [\n",
    "    ([\"leo\", \"kiki\", \"eden\"], [\"eden\", \"kiki\"]),\n",
    "    ([\"marina\", \"josipa\", \"nikola\", \"vinko\", \"filipa\"], [\"josipa\", \"filipa\", \"marina\", \"nikola\"]),\n",
    "    ([\"mislav\", \"stanko\", \"mislav\", \"ana\"], [\"stanko\", \"ana\", \"mislav\"])\n",
    "]\n",
    "outputs = [\n",
    "    \"leo\",\n",
    "    \"leo\",\n",
    "    \"mislav\"\n",
    "]"
   ]
  },
  {
   "cell_type": "code",
   "execution_count": 4,
   "id": "a68a5de5-c7f2-4a3f-83d0-572de03722ff",
   "metadata": {},
   "outputs": [
    {
     "name": "stdout",
     "output_type": "stream",
     "text": [
      "leo leo\n",
      "vinko leo\n",
      "mislav mislav\n"
     ]
    }
   ],
   "source": [
    "for idx, (i, o) in enumerate(zip(inputs, outputs)):\n",
    "    print(solution(*i), o)"
   ]
  }
 ],
 "metadata": {
  "kernelspec": {
   "display_name": "Python 3 (ipykernel)",
   "language": "python",
   "name": "python3"
  },
  "language_info": {
   "codemirror_mode": {
    "name": "ipython",
    "version": 3
   },
   "file_extension": ".py",
   "mimetype": "text/x-python",
   "name": "python",
   "nbconvert_exporter": "python",
   "pygments_lexer": "ipython3",
   "version": "3.7.0"
  }
 },
 "nbformat": 4,
 "nbformat_minor": 5
}
