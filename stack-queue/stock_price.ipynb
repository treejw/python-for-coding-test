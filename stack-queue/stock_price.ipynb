{
 "cells": [
  {
   "cell_type": "markdown",
   "id": "e2529c81-85da-4f54-84c3-ddf7334c2c6f",
   "metadata": {
    "tags": []
   },
   "source": [
    "# [**주식가격**](https://programmers.co.kr/learn/courses/30/lessons/42584)\n",
    "\n",
    "### **문제 설명**\n",
    "\n",
    "초 단위로 기록된 주식가격이 담긴 배열 prices가 매개변수로 주어질 때, 가격이 떨어지지 않은 기간은 몇 초인지를 return 하도록 solution 함수를 완성하세요.\n",
    "<br>\n",
    "\n",
    "### **제한 조건**\n",
    "\n",
    "- prices의 각 가격은 1 이상 10,000 이하인 자연수입니다.\n",
    "- prices의 길이는 2 이상 100,000 이하입니다.\n",
    "\n",
    "<br>\n",
    "\n",
    "#### **입출력 예**\n",
    "prices | return\n",
    "-- | --\n",
    "[1, 2, 3, 2, 3] | [4, 3, 1, 1, 0]\n",
    "\n",
    "<br>\n",
    "\n",
    "#### **입출력 예 설명**\n",
    "- 1초 시점의 ₩1은 끝까지 가격이 떨어지지 않았습니다.\n",
    "- 2초 시점의 ₩2은 끝까지 가격이 떨어지지 않았습니다.\n",
    "- 3초 시점의 ₩3은 1초뒤에 가격이 떨어집니다. 따라서 1초간 가격이 떨어지지 않은 것으로 봅니다.\n",
    "- 4초 시점의 ₩2은 1초간 가격이 떨어지지 않았습니다.\n",
    "- 5초 시점의 ₩3은 0초간 가격이 떨어지지 않았습니다.\n",
    "\n"
   ]
  },
  {
   "cell_type": "markdown",
   "id": "cbf1a074-d38d-41b9-ad3f-7e2785a87e4d",
   "metadata": {},
   "source": [
    "---\n",
    "## **Solution.py**"
   ]
  },
  {
   "cell_type": "code",
   "execution_count": 1,
   "id": "290dfb34-c6a6-4c36-a410-7845f1909a25",
   "metadata": {},
   "outputs": [],
   "source": [
    "from pprint import pprint"
   ]
  },
  {
   "cell_type": "code",
   "execution_count": 17,
   "id": "13bf4a7d-03c3-4b2d-88ef-64ccf056e5c4",
   "metadata": {},
   "outputs": [],
   "source": [
    "from collections import deque\n",
    "\n",
    "def solution(prices):                                      # [1, 2, 3, 2, 3]\n",
    "    ans = list(range(len(prices)-1, -1, -1))               # [4, 3, 2, 1, 0]\n",
    "    prices = deque([(i, p) for i, p in enumerate(prices)]) # [(0, 1), (1, 2), (2, 3), (3, 2), (4, 3)]\n",
    "    while prices:\n",
    "        target_i, target_p = prices.popleft()\n",
    "        for i, p in prices:\n",
    "            if target_p > p:\n",
    "                ans[target_i] = i - target_i\n",
    "                break\n",
    "    return ans"
   ]
  },
  {
   "cell_type": "code",
   "execution_count": 12,
   "id": "9978a789-1595-4f2d-8f59-a02f10ac323f",
   "metadata": {},
   "outputs": [],
   "source": [
    "inputs = [\n",
    "    [1, 2, 3, 2, 3],\n",
    "    [1, 2, 3, 2, 3, 1],\n",
    "    [2, 1, 2, 3, 2],\n",
    "    [2, 2, 1, 2, 2, 1],\n",
    "    [3, 1]\n",
    "]\n",
    "outputs = [\n",
    "    [4, 3, 1, 1, 0],\n",
    "    [5, 4, 1, 2, 1, 0],\n",
    "    [1, 3, 2, 1, 0],\n",
    "    [2, 1, 3, 2, 1, 0],\n",
    "    [1, 0]\n",
    "]"
   ]
  },
  {
   "cell_type": "code",
   "execution_count": 18,
   "id": "130d4ac4-e5ae-414f-9f19-90e29a023c61",
   "metadata": {},
   "outputs": [
    {
     "name": "stdout",
     "output_type": "stream",
     "text": [
      "True [4, 3, 1, 1, 0] [4, 3, 1, 1, 0]\n",
      "True [5, 4, 1, 2, 1, 0] [5, 4, 1, 2, 1, 0]\n",
      "True [1, 3, 2, 1, 0] [1, 3, 2, 1, 0]\n",
      "True [2, 1, 3, 2, 1, 0] [2, 1, 3, 2, 1, 0]\n",
      "True [1, 0] [1, 0]\n"
     ]
    }
   ],
   "source": [
    "for idx, (i, o) in enumerate(zip(inputs, outputs)):\n",
    "    print(solution(i)==o, solution(i), o)"
   ]
  },
  {
   "cell_type": "markdown",
   "id": "4303ebb7-2542-4a54-9bfe-08dab686ec34",
   "metadata": {},
   "source": [
    "<img src=\"https://user-images.githubusercontent.com/42428487/146741065-8b8c1fc5-17a4-457f-8f66-21442679d9fd.png\">"
   ]
  }
 ],
 "metadata": {
  "kernelspec": {
   "display_name": "Python 3 (ipykernel)",
   "language": "python",
   "name": "python3"
  },
  "language_info": {
   "codemirror_mode": {
    "name": "ipython",
    "version": 3
   },
   "file_extension": ".py",
   "mimetype": "text/x-python",
   "name": "python",
   "nbconvert_exporter": "python",
   "pygments_lexer": "ipython3",
   "version": "3.7.0"
  }
 },
 "nbformat": 4,
 "nbformat_minor": 5
}
