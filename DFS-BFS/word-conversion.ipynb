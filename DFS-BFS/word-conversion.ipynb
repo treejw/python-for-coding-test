{
 "cells": [
  {
   "cell_type": "markdown",
   "id": "e2529c81-85da-4f54-84c3-ddf7334c2c6f",
   "metadata": {},
   "source": [
    "# [**단어 변환**](https://programmers.co.kr/learn/courses/30/lessons/43163)\n",
    "\n",
    "### **문제 설명**\n",
    "\n",
    "두 개의 단어 begin, target과 단어의 집합 words가 있습니다. 아래와 같은 규칙을 이용하여 begin에서 target으로 변환하는 가장 짧은 변환 과정을 찾으려고 합니다.\n",
    "```\n",
    "1. 한 번에 한 개의 알파벳만 바꿀 수 있습니다.\n",
    "2. words에 있는 단어로만 변환할 수 있습니다.\n",
    "```\n",
    "예를 들어 begin이 \"hit\", target가 \"cog\", words가 [\"hot\",\"dot\",\"dog\",\"lot\",\"log\",\"cog\"]라면 \"hit\" -> \"hot\" -> \"dot\" -> \"dog\" -> \"cog\"와 같이 4단계를 거쳐 변환할 수 있습니다.\n",
    "\n",
    "두 개의 단어 begin, target과 단어의 집합 words가 매개변수로 주어질 때, 최소 몇 단계의 과정을 거쳐 begin을 target으로 변환할 수 있는지 return 하도록 solution 함수를 작성해주세요.\n",
    "\n",
    "<br>\n",
    "\n",
    "### **제한 조건**\n",
    "\n",
    "- 각 단어는 알파벳 소문자로만 이루어져 있습니다.\n",
    "- 각 단어의 길이는 3 이상 10 이하이며 모든 단어의 길이는 같습니다.\n",
    "- words에는 3개 이상 50개 이하의 단어가 있으며 중복되는 단어는 없습니다.\n",
    "- begin과 target은 같지 않습니다.\n",
    "- 변환할 수 없는 경우에는 0를 return 합니다.\n",
    "\n",
    "<br>\n",
    "\n",
    "#### **입출력 예**\n",
    "begin | target | words | return\n",
    "-- | -- | -- | --\n",
    "\"hit\" | \"cog\" | [\"hot\", \"dot\", \"dog\", \"lot\", \"log\", \"cog\"] | 4\n",
    "\"hit\" | \"cog\" | [\"hot\", \"dot\", \"dog\", \"lot\", \"log\"] | 0\n",
    "\n",
    "<br>\n",
    "\n",
    "#### **입출력 예 설명**\n",
    "##### **예제 #1**\n",
    "\n",
    "문제에 나온 예와 같습니다.\n",
    "\n",
    "\n",
    "##### **예제 #2**\n",
    "target인 \"cog\"는 words 안에 없기 때문에 변환할 수 없습니다"
   ]
  },
  {
   "cell_type": "markdown",
   "id": "cbf1a074-d38d-41b9-ad3f-7e2785a87e4d",
   "metadata": {},
   "source": [
    "---\n",
    "## **Solution.py**"
   ]
  },
  {
   "cell_type": "code",
   "execution_count": 1,
   "id": "290dfb34-c6a6-4c36-a410-7845f1909a25",
   "metadata": {},
   "outputs": [],
   "source": [
    "from pprint import pprint"
   ]
  },
  {
   "cell_type": "code",
   "execution_count": 69,
   "id": "7207a775-b05b-401b-82e4-f331b5dfb6c1",
   "metadata": {},
   "outputs": [],
   "source": [
    "from collections import defaultdict, deque\n",
    "\n",
    "def bfs(graph, begin, target):\n",
    "    queue = deque()\n",
    "    visited = set()\n",
    "    count = defaultdict(int)\n",
    "    \n",
    "    queue.append(begin)\n",
    "    count[begin] = 0\n",
    "    \n",
    "    while queue:\n",
    "        w = queue.popleft()\n",
    "        visited.add(w)\n",
    "        connected = graph[w] - visited\n",
    "        for c in connected:\n",
    "            count[c] = count[w] + 1\n",
    "        if target in connected:\n",
    "            break\n",
    "        queue.extend(list(connected))\n",
    "        visited = visited | connected\n",
    "    return count[target]\n",
    "    \n",
    "def check_str(string_1, string_2):\n",
    "    count = 0\n",
    "    for s1, s2 in zip(string_1, string_2):\n",
    "        if s1 != s2:\n",
    "            count += 1\n",
    "    res = True if count == 1 else False\n",
    "    return res\n",
    "\n",
    "def solution(begin, target, words):\n",
    "    if target not in words:\n",
    "        return 0\n",
    "    # mk graph\n",
    "    graph = defaultdict(set)\n",
    "    graph[begin] = set([x for x in words if check_str(begin, x)])\n",
    "    for i, w1 in enumerate(words):\n",
    "        tmp = set([x for x in words[i+1:] if check_str(w1, x)])\n",
    "        graph[w1] |= tmp\n",
    "        for w in tmp:\n",
    "            graph[w].add(w1)\n",
    "    # bfs\n",
    "    return bfs(graph, begin, target)"
   ]
  },
  {
   "cell_type": "code",
   "execution_count": 51,
   "id": "8bf47abb-1b7b-4397-86c5-4abdbc280d61",
   "metadata": {},
   "outputs": [
    {
     "data": {
      "text/plain": [
       "defaultdict(set,\n",
       "            {'hit': {'hot'},\n",
       "             'hot': {'dot', 'lot'},\n",
       "             'dot': {'dog', 'hot', 'lot'},\n",
       "             'lot': {'dot', 'hot', 'log'},\n",
       "             'dog': {'cog', 'dot', 'log'},\n",
       "             'log': {'cog', 'dog', 'lot'},\n",
       "             'cog': {'dog', 'log'}})"
      ]
     },
     "execution_count": 51,
     "metadata": {},
     "output_type": "execute_result"
    }
   ],
   "source": [
    "begin, target, words = \"hit\" , \"cog\" , [\"hot\", \"dot\", \"dog\", \"lot\", \"log\", \"cog\"]\n",
    "\n",
    "graph = defaultdict(set)\n",
    "graph[begin] = set([x for x in words if check_str(begin, x)])\n",
    "for i, w1 in enumerate(words):\n",
    "    tmp = set([x for x in words[i+1:] if check_str(w1, x)])\n",
    "    graph[w1] |= tmp\n",
    "    for w in tmp:\n",
    "        graph[w].add(w1)\n",
    "graph"
   ]
  },
  {
   "cell_type": "code",
   "execution_count": 70,
   "id": "9978a789-1595-4f2d-8f59-a02f10ac323f",
   "metadata": {},
   "outputs": [],
   "source": [
    "inputs = [\n",
    "    (\"hit\" , \"cog\" , [\"hot\", \"dot\", \"dog\", \"lot\", \"log\", \"cog\"]),\n",
    "    (\"hit\" , \"cog\" , [\"hot\", \"dot\", \"dog\", \"lot\", \"log\"])\n",
    "]\n",
    "outputs = [\n",
    "    4,\n",
    "    0\n",
    "]"
   ]
  },
  {
   "cell_type": "code",
   "execution_count": 71,
   "id": "130d4ac4-e5ae-414f-9f19-90e29a023c61",
   "metadata": {},
   "outputs": [
    {
     "name": "stdout",
     "output_type": "stream",
     "text": [
      "4 4\n",
      "0 0\n"
     ]
    }
   ],
   "source": [
    "for idx, (i, o) in enumerate(zip(inputs, outputs)):\n",
    "    print(solution(*i), o)"
   ]
  },
  {
   "cell_type": "markdown",
   "id": "4303ebb7-2542-4a54-9bfe-08dab686ec34",
   "metadata": {},
   "source": [
    "<img src=\"https://user-images.githubusercontent.com/42428487/146060282-c1452fcb-4314-4d3b-a83f-749ce410fbf7.png\" width=\"600;\">"
   ]
  }
 ],
 "metadata": {
  "kernelspec": {
   "display_name": "Python 3 (ipykernel)",
   "language": "python",
   "name": "python3"
  },
  "language_info": {
   "codemirror_mode": {
    "name": "ipython",
    "version": 3
   },
   "file_extension": ".py",
   "mimetype": "text/x-python",
   "name": "python",
   "nbconvert_exporter": "python",
   "pygments_lexer": "ipython3",
   "version": "3.7.0"
  }
 },
 "nbformat": 4,
 "nbformat_minor": 5
}
