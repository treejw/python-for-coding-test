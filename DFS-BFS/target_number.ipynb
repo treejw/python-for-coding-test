{
 "cells": [
  {
   "cell_type": "markdown",
   "id": "fa09e953-4301-4d41-a7df-e45342dbc638",
   "metadata": {
    "tags": []
   },
   "source": [
    "## [타겟 넘버](https://programmers.co.kr/learn/courses/30/lessons/43165)\n",
    "\n",
    "### **문제 설명**\n",
    "n개의 음이 아닌 정수가 있습니다. 이 수를 적절히 더하거나 빼서 타겟 넘버를 만들려고 합니다. 예를 들어 [1, 1, 1, 1, 1]로 숫자 3을 만들려면 다음 다섯 방법을 쓸 수 있습니다.\n",
    "\n",
    "```\n",
    "-1+1+1+1+1 = 3\n",
    "+1-1+1+1+1 = 3\n",
    "+1+1-1+1+1 = 3\n",
    "+1+1+1-1+1 = 3\n",
    "+1+1+1+1-1 = 3\n",
    "```\n",
    "\n",
    "사용할 수 있는 숫자가 담긴 배열 numbers, 타겟 넘버 target이 매개변수로 주어질 때 숫자를 적절히 더하고 빼서 타겟 넘버를 만드는 방법의 수를 return 하도록 solution 함수를 작성해주세요.\n",
    "\n",
    "<br>\n",
    "\n",
    "#### **제한사항**\n",
    "- 주어지는 숫자의 개수는 2개 이상 20개 이하입니다.\n",
    "- 각 숫자는 1 이상 50 이하인 자연수입니다.\n",
    "- 타겟 넘버는 1 이상 1000 이하인 자연수입니다.\n",
    "\n",
    "<br>\n",
    "\n",
    "#### **입출력 예**\n",
    "|numbers|target|return|\n",
    "|:--:|:--:|:--:|\n",
    "|[1, 1, 1, 1, 1]|3|5|from pprint import pprint\n",
    "\n",
    "#### **입출력 예 설명**\n",
    "문제에 나온 예와 같습니다."
   ]
  },
  {
   "cell_type": "markdown",
   "id": "f4fc4554-897b-41b3-8b2b-e0a2d65d508c",
   "metadata": {},
   "source": [
    "---\n",
    "## **Solution.py**"
   ]
  },
  {
   "cell_type": "markdown",
   "id": "78a7da9b-8361-4e1b-ad18-05e347bb9690",
   "metadata": {},
   "source": [
    "##### DFS  | 재귀함수 이용"
   ]
  },
  {
   "cell_type": "code",
   "execution_count": 1,
   "id": "1a09c1d0-60ea-4b61-a49b-4fb01ed5b915",
   "metadata": {},
   "outputs": [],
   "source": [
    "from pprint import pprint"
   ]
  },
  {
   "cell_type": "code",
   "execution_count": 2,
   "id": "4f56e631-a793-4309-94ed-6edaf81634be",
   "metadata": {},
   "outputs": [],
   "source": [
    "def dfs(numbers, idx):\n",
    "    ans = 0\n",
    "    if idx == len(numbers)-1:\n",
    "        # print(numbers)\n",
    "        if sum(numbers) == 0:\n",
    "            return 1\n",
    "        return 0\n",
    "    \n",
    "    ans += dfs(numbers, idx+1)\n",
    "    ans += dfs(numbers[:idx+1] + [(-1)*numbers[idx+1]] + numbers[idx+2:], idx+1)\n",
    "    return ans\n",
    "    \n",
    "\n",
    "def solution(numbers, target):\n",
    "    numbers=[target]+numbers\n",
    "    answer = dfs(numbers, 0)\n",
    "    return answer"
   ]
  },
  {
   "cell_type": "markdown",
   "id": "0ae7e6d2-aebb-41b1-ac52-40f166872707",
   "metadata": {},
   "source": [
    "```\n",
    "[3, 1, 1, 1, 1, 1]\n",
    "[3, 1, 1, 1, 1, -1]\n",
    "[3, 1, 1, 1, -1, 1]\n",
    "[3, 1, 1, 1, -1, -1]\n",
    "[3, 1, 1, -1, 1, 1]\n",
    "[3, 1, 1, -1, 1, -1]\n",
    "[3, 1, 1, -1, -1, 1]\n",
    "[3, 1, 1, -1, -1, -1]\n",
    "[3, 1, -1, 1, 1, 1]\n",
    "...\n",
    "```"
   ]
  },
  {
   "cell_type": "code",
   "execution_count": 3,
   "id": "d950bff0-d450-4d07-8602-519afb96341f",
   "metadata": {},
   "outputs": [],
   "source": [
    "inputs = [\n",
    "    ([1, 1, 1, 1, 1], 3)\n",
    "]\n",
    "outputs = [\n",
    "    5\n",
    "]"
   ]
  },
  {
   "cell_type": "code",
   "execution_count": 4,
   "id": "2116b4c6-9fa3-4a6f-95df-33d207f62c9f",
   "metadata": {},
   "outputs": [
    {
     "name": "stdout",
     "output_type": "stream",
     "text": [
      "5 5\n"
     ]
    }
   ],
   "source": [
    "for idx, (i, o) in enumerate(zip(inputs, outputs)):\n",
    "    print(solution(*i), o)"
   ]
  },
  {
   "cell_type": "markdown",
   "id": "29a7d985-b706-45d4-93d4-0ef1e56a0d0f",
   "metadata": {},
   "source": [
    "<img src=\"https://user-images.githubusercontent.com/42428487/144084643-1620d12d-d956-43e0-88d8-b6bca5fa4209.png\" width=\"600;\">"
   ]
  }
 ],
 "metadata": {
  "kernelspec": {
   "display_name": "Python 3 (ipykernel)",
   "language": "python",
   "name": "python3"
  },
  "language_info": {
   "codemirror_mode": {
    "name": "ipython",
    "version": 3
   },
   "file_extension": ".py",
   "mimetype": "text/x-python",
   "name": "python",
   "nbconvert_exporter": "python",
   "pygments_lexer": "ipython3",
   "version": "3.7.0"
  }
 },
 "nbformat": 4,
 "nbformat_minor": 5
}
