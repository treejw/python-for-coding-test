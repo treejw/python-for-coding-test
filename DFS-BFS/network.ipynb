{
 "cells": [
  {
   "cell_type": "markdown",
   "id": "78c4f5d7-1440-4f8f-9f98-82f012ba3aaf",
   "metadata": {},
   "source": [
    "## [네트워크](https://programmers.co.kr/learn/courses/30/lessons/43162)\n",
    "\n",
    "#### **문제 설명**\n",
    "네트워크란 컴퓨터 상호 간에 정보를 교환할 수 있도록 연결된 형태를 의미합니다. 예를 들어, 컴퓨터 A와 컴퓨터 B가 직접적으로 연결되어있고, 컴퓨터 B와 컴퓨터 C가 직접적으로 연결되어 있을 때 컴퓨터 A와 컴퓨터 C도 간접적으로 연결되어 정보를 교환할 수 있습니다. 따라서 컴퓨터 A, B, C는 모두 같은 네트워크 상에 있다고 할 수 있습니다.\n",
    "\n",
    "컴퓨터의 개수 n, 연결에 대한 정보가 담긴 2차원 배열 computers가 매개변수로 주어질 때, 네트워크의 개수를 return 하도록 solution 함수를 작성하시오.\n",
    "\n",
    "<br>\n",
    "\n",
    "#### **제한사항**\n",
    "- 컴퓨터의 개수 n은 1 이상 200 이하인 자연수입니다.\n",
    "- 각 컴퓨터는 0부터 n-1인 정수로 표현합니다.\n",
    "- i번 컴퓨터와 j번 컴퓨터가 연결되어 있으면 `computers[i][j]`를 1로 표현합니다.\n",
    "- `computer[i][i]`는 항상 1입니다.\n",
    "\n",
    "<br>\n",
    "\n",
    "#### **입출력 예**\n",
    "|n|computers|return|\n",
    "|:-:|:-:|:-:|\n",
    "|3|[[1, 1, 0], [1, 1, 0], [0, 0, 1]]|2|\n",
    "|3|[[1, 1, 0], [1, 1, 1], [0, 1, 1]]|1|\n",
    "\n",
    "<br>\n",
    "\n",
    "#### **입출력 예 설명**\n",
    "##### **예제 #1**\n",
    "아래와 같이 2개의 네트워크가 있습니다.\n",
    "\n",
    "<img width=\"300\" src=\"https://grepp-programmers.s3.amazonaws.com/files/ybm/5b61d6ca97/cc1e7816-b6d7-4649-98e0-e95ea2007fd7.png\" title=\"\" alt=\"image0.png\">\n",
    "\n",
    "\n",
    "\n",
    "##### **예제 #2**\n",
    "아래와 같이 1개의 네트워크가 있습니다.\n",
    "\n",
    "<img width=\"300\" src=\"https://grepp-programmers.s3.amazonaws.com/files/ybm/7554746da2/edb61632-59f4-4799-9154-de9ca98c9e55.png\" title=\"\" alt=\"image1.png\">"
   ]
  },
  {
   "cell_type": "markdown",
   "id": "ab1bca71-de74-43e8-96fd-d0f09b6b814b",
   "metadata": {},
   "source": [
    "---\n",
    "## **Solution.py**"
   ]
  },
  {
   "cell_type": "markdown",
   "id": "9cb1a8b9-6ad5-49d4-8193-490bf9729146",
   "metadata": {},
   "source": [
    "##### BFS | Queue 이용"
   ]
  },
  {
   "cell_type": "code",
   "execution_count": 1,
   "id": "2767eb97-6991-4b4f-8195-486fa67d7cf3",
   "metadata": {},
   "outputs": [],
   "source": [
    "from pprint import pprint"
   ]
  },
  {
   "cell_type": "code",
   "execution_count": 2,
   "id": "2033d610-8196-4df5-9938-b25161b88a83",
   "metadata": {},
   "outputs": [],
   "source": [
    "from collections import deque, defaultdict\n",
    "\n",
    "\n",
    "def bfs(n, graph):\n",
    "    queue = deque()\n",
    "    visited = set()\n",
    "    \n",
    "    ans = 0\n",
    "    while len(visited) < n:\n",
    "        queue.append(list( set(range(n)) - visited )[0])\n",
    "        ans += 1\n",
    "        while queue:\n",
    "            node = queue.popleft()\n",
    "            visited.add(node)\n",
    "            connected = set(graph[node]) - set(visited)\n",
    "            queue.extend(list(connected))\n",
    "            visited = visited | connected\n",
    "    return ans\n",
    "\n",
    "\n",
    "def solution(n, computers):     # [[1, 1, 0], [1, 1, 0], [0, 0, 1]]\n",
    "    graph = defaultdict(set)    # {0: {1}, 1: {0}, 2: set()}\n",
    "    for i, connections in enumerate(computers):\n",
    "        graph[i] = set([idx for idx, c in enumerate(connections) if i!=idx and c==1])\n",
    "    \n",
    "    return bfs(n, graph)"
   ]
  },
  {
   "cell_type": "code",
   "execution_count": 3,
   "id": "ec9fc9e8-0c32-4857-b174-51af5cf725b9",
   "metadata": {},
   "outputs": [],
   "source": [
    "inputs = [\n",
    "    (3, [[1, 1, 0], [1, 1, 0], [0, 0, 1]]),\n",
    "    (3, [[1, 1, 0], [1, 1, 1], [0, 1, 1]])\n",
    "]\n",
    "outputs = [\n",
    "    2,\n",
    "    1\n",
    "]"
   ]
  },
  {
   "cell_type": "code",
   "execution_count": 4,
   "id": "bf8cf338-8873-4ca4-8761-66049d57aae6",
   "metadata": {},
   "outputs": [
    {
     "name": "stdout",
     "output_type": "stream",
     "text": [
      "2 2\n",
      "1 1\n"
     ]
    }
   ],
   "source": [
    "for idx, (i, o) in enumerate(zip(inputs, outputs)):\n",
    "    print(solution(*i), o)"
   ]
  },
  {
   "cell_type": "markdown",
   "id": "733dd04f-2549-42c3-8161-011e1a82c04f",
   "metadata": {},
   "source": [
    "<img src=\"https://user-images.githubusercontent.com/42428487/144100379-91af78d0-0786-4b13-ac99-5184d3472d89.png\" width=\"600;\">\n"
   ]
  }
 ],
 "metadata": {
  "kernelspec": {
   "display_name": "Python 3 (ipykernel)",
   "language": "python",
   "name": "python3"
  },
  "language_info": {
   "codemirror_mode": {
    "name": "ipython",
    "version": 3
   },
   "file_extension": ".py",
   "mimetype": "text/x-python",
   "name": "python",
   "nbconvert_exporter": "python",
   "pygments_lexer": "ipython3",
   "version": "3.7.0"
  }
 },
 "nbformat": 4,
 "nbformat_minor": 5
}
