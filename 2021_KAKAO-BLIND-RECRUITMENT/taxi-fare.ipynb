{
 "cells": [
  {
   "cell_type": "markdown",
   "id": "9047063a-94be-4e87-a5f8-49b9c2c3d621",
   "metadata": {},
   "source": [
    "# [**합승 택시 요금**](https://programmers.co.kr/learn/courses/30/lessons/72413)\n",
    "\n",
    "### **문제 설명**\n",
    "\n",
    "**[본 문제는 정확성과 효율성 테스트 각각 점수가 있는 문제입니다.]**\n",
    "\n",
    "밤늦게 귀가할 때 안전을 위해 항상 택시를 이용하던 `무지`는 최근 야근이 잦아져 택시를 더 많이 이용하게 되어 택시비를 아낄 수 있는 방법을 고민하고 있습니다. \"무지\"는 자신이 택시를 이용할 때 동료인 `어피치` 역시 자신과 비슷한 방향으로 가는 택시를 종종 이용하는 것을 알게 되었습니다. \"무지\"는 \"어피치\"와 귀가 방향이 비슷하여 택시 합승을 적절히 이용하면 택시요금을 얼마나 아낄 수 있을 지 계산해 보고 \"어피치\"에게 합승을 제안해 보려고 합니다.\n",
    "\n",
    "<img width=\"400\" src=\"https://grepp-programmers.s3.ap-northeast-2.amazonaws.com/files/production/715ff493-d1a0-44d8-9273-a785280b3f1e/2021_kakao_taxi_01.png\">\n",
    "\n",
    "위 예시 그림은 택시가 이동 가능한 반경에 있는 6개 지점 사이의 이동 가능한 택시노선과 예상요금을 보여주고 있습니다.\n",
    "그림에서 `A`와 `B` 두 사람은 출발지점인 4번 지점에서 출발해서 택시를 타고 귀가하려고 합니다. `A`의 집은 6번 지점에 있으며 `B`의 집은 2번 지점에 있고 두 사람이 모두 귀가하는 데 소요되는 예상 최저 택시요금이 얼마인 지 계산하려고 합니다.\n",
    "\n",
    "- 그림의 원은 지점을 나타내며 원 안의 숫자는 지점 번호를 나타냅니다.\n",
    "   - 지점이 n개일 때, 지점 번호는 1부터 n까지 사용됩니다.\n",
    "- 지점 간에 택시가 이동할 수 있는 경로를 간선이라 하며, 간선에 표시된 숫자는 두 지점 사이의 예상 택시요금을 나타냅니다.\n",
    "   - 간선은 편의 상 직선으로 표시되어 있습니다.\n",
    "   - 위 그림 예시에서, 4번 지점에서 1번 지점으로(4→1) 가거나, 1번 지점에서 4번 지점으로(1→4) 갈 때 예상 택시요금은 `10`원으로 동일하며 이동 방향에 따라 달라지지 않습니다.\n",
    "- 예상되는 최저 택시요금은 다음과 같이 계산됩니다.\n",
    "   - 4→1→5 : `A`, `B`가 합승하여 택시를 이용합니다. 예상 택시요금은 `10 + 24 = 34`원 입니다.\n",
    "   - 5→6 : `A`가 혼자 택시를 이용합니다. 예상 택시요금은 `2`원 입니다.\n",
    "   - 5→3→2 : `B`가 혼자 택시를 이용합니다. 예상 택시요금은 `24 + 22 = 46`원 입니다.\n",
    "   - `A`, `B` 모두 귀가 완료까지 예상되는 최저 택시요금은 `34 + 2 + 46 = 82`원 입니다.\n",
    "\n",
    "\n",
    "<br>\n",
    "\n",
    "### **[문제]**\n",
    "\n",
    "지점의 개수 n, 출발지점을 나타내는 s, `A`의 도착지점을 나타내는 a, `B`의 도착지점을 나타내는 b, 지점 사이의 예상 택시요금을 나타내는 fares가 매개변수로 주어집니다. 이때, `A`, `B` 두 사람이 s에서 출발해서 각각의 도착 지점까지 택시를 타고 간다고 가정할 때, 최저 예상 택시요금을 계산해서 return 하도록 solution 함수를 완성해 주세요.\n",
    "만약, 아예 합승을 하지 않고 각자 이동하는 경우의 예상 택시요금이 더 낮다면, 합승을 하지 않아도 됩니다.\n",
    "\n",
    "<br>\n",
    "\n",
    "### **[제한사항]**\n",
    "\n",
    "- 지점갯수 n은 3 이상 200 이하인 자연수입니다.\n",
    "- 지점 s, a, b는 1 이상 n 이하인 자연수이며, 각기 서로 다른 값입니다.\n",
    "   - 즉, 출발지점, `A`의 도착지점, `B`의 도착지점은 서로 겹치지 않습니다.\n",
    "- fares는 2차원 정수 배열입니다.\n",
    "- fares 배열의 크기는 2 이상 `n x (n-1) / 2` 이하입니다.\n",
    "   - 예를들어, n = 6이라면 fares 배열의 크기는 2 이상 15 이하입니다. (`6 x 5 / 2 = 15`)\n",
    "   - fares 배열의 각 행은 [c, d, f] 형태입니다.\n",
    "   - c지점과 d지점 사이의 예상 택시요금이 `f`원이라는 뜻입니다.\n",
    "   - 지점 c, d는 1 이상 n 이하인 자연수이며, 각기 서로 다른 값입니다.\n",
    "   - 요금 f는 1 이상 100,000 이하인 자연수입니다.\n",
    "   - fares 배열에 두 지점 간 예상 택시요금은 1개만 주어집니다. 즉, [c, d, f]가 있다면 [d, c, f]는 주어지지 않습니다.\n",
    "- 출발지점 s에서 도착지점 a와 b로 가는 경로가 존재하는 경우만 입력으로 주어집니다.\n",
    "\n",
    "<br>\n",
    "\n",
    "#### **입출력 예**\n",
    "\n",
    "n | s | a | b | fares | result\n",
    "-- | -- | -- | -- | -- | --\n",
    "6 | 4 | 6 | 2 | [[4, 1, 10], [3, 5, 24], [5, 6, 2], [3, 1, 41], [5, 1, 24], [4, 6, 50], [2, 4, 66], [2, 3, 22], [1, 6, 25]] | 82\n",
    "7 | 3 | 4 | 1 | [[5, 7, 9], [4, 6, 4], [3, 6, 1], [3, 2, 3], [2, 1, 6]] | 14\n",
    "6 | 4 | 5 | 6 | [[2,6,6], [6,3,7], [4,6,7], [6,5,11], [2,5,12], [5,3,20], [2,4,8], [4,3,9]] | 18\n",
    "\n",
    "<br>\n",
    "\n",
    "#### **입출력 예에 대한 설명**\n",
    "\n",
    "##### **입출력 예#1**\n",
    "문제 예시와 같습니다.\n",
    "\n",
    "\n",
    "##### **입출력 예#2**\n",
    "\n",
    "<img width=\"400\" src=\"https://grepp-programmers.s3.ap-northeast-2.amazonaws.com/files/production/934fcb5a-f844-4b02-b7fa-46198123be05/2021_kakao_taxi_02.png\">\n",
    "\n",
    "- 합승을 하지 않고, `B`는 `3→2→1`, `A`는 `3→6→4` 경로로 각자 택시를 타고 가는 것이 최저 예상 택시요금입니다.\n",
    "- 따라서 최저 예상 택시요금은 `(3 + 6) + (1 + 4) = 14`원 입니다.\n",
    "\n",
    "##### **입출력 예#3**\n",
    "\n",
    "<img width=\"400\" src=\"https://grepp-programmers.s3.ap-northeast-2.amazonaws.com/files/production/179cc8ad-73d2-46c9-95e9-2363f3cb345d/2021_kakao_taxi_03.png\">\n",
    "\n",
    "- `A`와 `B`가 `4→6` 구간을 합승하고 `B`가 6번 지점에서 내린 후, `A`가 `6→5` 구간을 혼자 타고 가는 것이 최저 예상 택시요금입니다.\n",
    "- 따라서 최저 예상 택시요금은 `7 + 11 = 18`원 입니다."
   ]
  },
  {
   "cell_type": "markdown",
   "id": "fae8366b-759a-4cfd-bff3-5072d7dae16c",
   "metadata": {},
   "source": [
    "---\n",
    "## **Solution.py** \n",
    "### **#1 DFS 사용**"
   ]
  },
  {
   "cell_type": "code",
   "execution_count": 1,
   "id": "c77197fd-1fb2-4300-ba88-454dade16be7",
   "metadata": {},
   "outputs": [],
   "source": [
    "from collections import defaultdict\n",
    "from copy import deepcopy\n",
    "\n",
    "\n",
    "def dfs_alone(cur_node, graph, visited, goal, cur_fare, min_fare):\n",
    "    if cur_node == goal:\n",
    "        return cur_fare\n",
    "    \n",
    "    nearby_nodes = set(graph[cur_node].keys()) - visited\n",
    "    if not nearby_nodes:\n",
    "        return -1\n",
    "    \n",
    "    for new_node in sorted(nearby_nodes, key=lambda x: graph[cur_node][x]):\n",
    "        new_fare = cur_fare + graph[cur_node][new_node]\n",
    "        if new_fare > min_fare:\n",
    "            continue\n",
    "        fare = dfs_alone(new_node, graph, visited|{new_node}, goal, new_fare, min_fare)\n",
    "        min_fare = min(fare, min_fare) if fare > 0 else min_fare\n",
    "    return min_fare\n",
    "\n",
    "\n",
    "def dfs_both(cur_node, graph, visited, goals, share_fare, total_min_fare):\n",
    "    # each\n",
    "    fare_ab = [0, 0]\n",
    "    for i in range(2):\n",
    "        if cur_node == goals[i]:\n",
    "            fare_ab[i] = 0\n",
    "        else:\n",
    "            fare_ab[i] = dfs_alone(cur_node, graph, deepcopy(visited), goal=goals[i], cur_fare=0, min_fare=total_min_fare)\n",
    "        if fare_ab[i] == -1:\n",
    "            return -1\n",
    "    total_min_fare = min(sum([share_fare]+fare_ab), total_min_fare)\n",
    "    \n",
    "    # both\n",
    "    nearby_nodes = set(graph[cur_node].keys()) - visited\n",
    "    for new_node in sorted(nearby_nodes, key=lambda x: graph[cur_node][x]):\n",
    "        new_fare = share_fare + graph[cur_node][new_node]\n",
    "        if new_fare > total_min_fare:\n",
    "            continue\n",
    "        total_fare = dfs_both(new_node, graph, visited|{new_node}, goals, new_fare, total_min_fare)\n",
    "        total_min_fare = min(total_fare, total_min_fare) if total_fare > 0 else total_min_fare\n",
    "    \n",
    "    return total_min_fare\n",
    "\n",
    "\n",
    "def solution(n, s, a, b, fares):\n",
    "    graph = defaultdict(dict)\n",
    "    for x, y, fare in fares:\n",
    "        graph[x][y] = graph[y][x] = fare\n",
    "    return dfs_both(s, graph, visited={s}, goals=[a, b], share_fare=0, total_min_fare=(10**5)*len(fares))"
   ]
  },
  {
   "cell_type": "code",
   "execution_count": 2,
   "id": "dfc685ec-66ed-49a7-a766-f63899b3828b",
   "metadata": {},
   "outputs": [
    {
     "data": {
      "text/plain": [
       "defaultdict(dict,\n",
       "            {4: {1: 10, 6: 50, 2: 66},\n",
       "             1: {4: 10, 3: 41, 5: 24, 6: 25},\n",
       "             3: {5: 24, 1: 41, 2: 22},\n",
       "             5: {3: 24, 6: 2, 1: 24},\n",
       "             6: {5: 2, 4: 50, 1: 25},\n",
       "             2: {4: 66, 3: 22}})"
      ]
     },
     "execution_count": 2,
     "metadata": {},
     "output_type": "execute_result"
    }
   ],
   "source": [
    "# mk graph\n",
    "n, s, a, b, fares = 6, 4, 6, 2, [[4, 1, 10], [3, 5, 24], [5, 6, 2], [3, 1, 41], [5, 1, 24], [4, 6, 50], [2, 4, 66], [2, 3, 22], [1, 6, 25]]\n",
    "\n",
    "graph = defaultdict(dict)\n",
    "for x, y, fare in fares:\n",
    "    graph[x][y] = graph[y][x] = fare\n",
    "\n",
    "graph"
   ]
  },
  {
   "cell_type": "code",
   "execution_count": 3,
   "id": "e0b5750c-7404-433a-9a3c-5e1ab370b918",
   "metadata": {},
   "outputs": [],
   "source": [
    "inputs = [\n",
    "    (6,4,6,2,[[4, 1, 10], [3, 5, 24], [5, 6, 2], [3, 1, 41], [5, 1, 24], [4, 6, 50], [2, 4, 66], [2, 3, 22], [1, 6, 25]]),\n",
    "    (7,3,4,1,[[5, 7, 9], [4, 6, 4], [3, 6, 1], [3, 2, 3], [2, 1, 6]]),\n",
    "    (6,4,5,6,[[2,6,6], [6,3,7], [4,6,7], [6,5,11], [2,5,12], [5,3,20], [2,4,8], [4,3,9]])\n",
    "]\n",
    "outputs = [\n",
    "    82,\n",
    "    14,\n",
    "    18\n",
    "]"
   ]
  },
  {
   "cell_type": "code",
   "execution_count": 4,
   "id": "a8f6e1ff-cd66-4ea6-affc-be87b5c0541c",
   "metadata": {},
   "outputs": [
    {
     "name": "stdout",
     "output_type": "stream",
     "text": [
      "True 82 82\n",
      "True 14 14\n",
      "True 18 18\n"
     ]
    }
   ],
   "source": [
    "for idx, (i, o) in enumerate(zip(inputs, outputs)):\n",
    "    print(solution(*i)==o, solution(*i), o)"
   ]
  },
  {
   "cell_type": "markdown",
   "id": "7ab87884-f54b-45ee-bf62-e699e8a8199f",
   "metadata": {},
   "source": [
    "<img width=\"600\" src=\"https://user-images.githubusercontent.com/42428487/148119584-34eb32bb-5564-451a-93b3-ba6cfddd2435.png\">"
   ]
  },
  {
   "cell_type": "markdown",
   "id": "9b5bc58b-dda1-4785-bfd6-904b6166e8fa",
   "metadata": {},
   "source": [
    "<br>\n",
    "\n",
    "---\n",
    "\n",
    "### **#2 플로이드 와샬(Floyd Warshall) 사용**"
   ]
  },
  {
   "cell_type": "code",
   "execution_count": 5,
   "id": "19f43bef-a158-4c74-bde6-7e64c5703795",
   "metadata": {},
   "outputs": [],
   "source": [
    "from pprint import pprint"
   ]
  },
  {
   "cell_type": "code",
   "execution_count": 6,
   "id": "ec1be4ad-09e7-416b-b824-64097b03418f",
   "metadata": {},
   "outputs": [],
   "source": [
    "from math import inf\n",
    "\n",
    "def solution(n, s, a, b, fares):\n",
    "    # Floyd Warshall\n",
    "    w_arr = [[inf]*(n+1) for _ in range(n+1)]\n",
    "    for fare in fares:\n",
    "        n1, n2, w = fare\n",
    "        w_arr[n1][n2] = w_arr[n2][n1] = w\n",
    "\n",
    "    for i in range(1, n+1):\n",
    "        w_arr[i][i] = 0\n",
    "        for start in range(1, n+1):\n",
    "            for end in range(1, n+1):\n",
    "                w_arr[start][end] = min(w_arr[start][end], w_arr[start][i]+w_arr[i][end])\n",
    "    \n",
    "    # clac taxi-fare\n",
    "    fare_min = inf\n",
    "    for i in range(1, n+1):\n",
    "        share = w_arr[s][i]\n",
    "        a_fare = w_arr[i][a]\n",
    "        b_fare = w_arr[i][b]\n",
    "        fare_min = min(fare_min, share+a_fare+b_fare)\n",
    "    return fare_min"
   ]
  },
  {
   "cell_type": "code",
   "execution_count": 7,
   "id": "4f84cf04-1494-4a9f-b622-c234ffe55330",
   "metadata": {},
   "outputs": [
    {
     "name": "stdout",
     "output_type": "stream",
     "text": [
      "[[inf, inf, inf, inf, inf, inf, inf],\n",
      " [inf, inf, inf, 41, 10, 24, 25],\n",
      " [inf, inf, inf, 22, 66, inf, inf],\n",
      " [inf, 41, 22, inf, inf, 24, inf],\n",
      " [inf, 10, 66, inf, inf, inf, 50],\n",
      " [inf, 24, inf, 24, inf, inf, 2],\n",
      " [inf, 25, inf, inf, 50, 2, inf]]\n",
      "\n",
      "[[inf, inf, inf, inf, inf, inf, inf],\n",
      " [inf, 0, 63, 41, 10, 24, 25],\n",
      " [inf, 63, 0, 22, 66, 46, 48],\n",
      " [inf, 41, 22, 0, 51, 24, 26],\n",
      " [inf, 10, 66, 51, 0, 34, 35],\n",
      " [inf, 24, 46, 24, 34, 0, 2],\n",
      " [inf, 25, 48, 26, 35, 2, 0]]\n"
     ]
    }
   ],
   "source": [
    "# mk graph\n",
    "n, s, a, b, fares = 6, 4, 6, 2, [[4, 1, 10], [3, 5, 24], [5, 6, 2], [3, 1, 41], [5, 1, 24], [4, 6, 50], [2, 4, 66], [2, 3, 22], [1, 6, 25]]\n",
    "w_arr = [[inf]*(n+1) for _ in range(n+1)]\n",
    "for fare in fares:\n",
    "    n1, n2, w = fare\n",
    "    w_arr[n1][n2] = w_arr[n2][n1] = w\n",
    "pprint(w_arr)\n",
    "\n",
    "for i in range(1, n+1):\n",
    "    w_arr[i][i] = 0\n",
    "    for start in range(1, n+1):\n",
    "        for end in range(1, n+1):\n",
    "            w_arr[start][end] = min(w_arr[start][end], w_arr[start][i]+w_arr[i][end])\n",
    "print()\n",
    "pprint(w_arr)"
   ]
  },
  {
   "cell_type": "code",
   "execution_count": 8,
   "id": "301508c7-8941-4c30-8c48-5b38cc6ffa11",
   "metadata": {},
   "outputs": [],
   "source": [
    "inputs = [\n",
    "    (6,4,6,2,[[4, 1, 10], [3, 5, 24], [5, 6, 2], [3, 1, 41], [5, 1, 24], [4, 6, 50], [2, 4, 66], [2, 3, 22], [1, 6, 25]]),\n",
    "    (7,3,4,1,[[5, 7, 9], [4, 6, 4], [3, 6, 1], [3, 2, 3], [2, 1, 6]]),\n",
    "    (6,4,5,6,[[2,6,6], [6,3,7], [4,6,7], [6,5,11], [2,5,12], [5,3,20], [2,4,8], [4,3,9]])\n",
    "]\n",
    "outputs = [\n",
    "    82,\n",
    "    14,\n",
    "    18\n",
    "]"
   ]
  },
  {
   "cell_type": "code",
   "execution_count": 9,
   "id": "e4589383-2c82-4463-9efc-f8ef540ced48",
   "metadata": {},
   "outputs": [
    {
     "name": "stdout",
     "output_type": "stream",
     "text": [
      "True 82 82\n",
      "True 14 14\n",
      "True 18 18\n"
     ]
    }
   ],
   "source": [
    "for idx, (i, o) in enumerate(zip(inputs, outputs)):\n",
    "    print(solution(*i)==o, solution(*i), o)"
   ]
  },
  {
   "cell_type": "markdown",
   "id": "dc990e6f-b873-472a-9a6c-d175ded2dd93",
   "metadata": {},
   "source": [
    "<img width=\"600\" src=\"https://user-images.githubusercontent.com/42428487/148736488-0f593c8e-e112-4465-b9c8-576bc619acef.png\">"
   ]
  }
 ],
 "metadata": {
  "kernelspec": {
   "display_name": "Python 3 (ipykernel)",
   "language": "python",
   "name": "python3"
  },
  "language_info": {
   "codemirror_mode": {
    "name": "ipython",
    "version": 3
   },
   "file_extension": ".py",
   "mimetype": "text/x-python",
   "name": "python",
   "nbconvert_exporter": "python",
   "pygments_lexer": "ipython3",
   "version": "3.7.0"
  }
 },
 "nbformat": 4,
 "nbformat_minor": 5
}
