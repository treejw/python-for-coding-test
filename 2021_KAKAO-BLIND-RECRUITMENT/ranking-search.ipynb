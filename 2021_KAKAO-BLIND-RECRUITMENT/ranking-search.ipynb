{
 "cells": [
  {
   "cell_type": "markdown",
   "id": "df5f6a66",
   "metadata": {},
   "source": [
    "# [**순위 검색**](https://programmers.co.kr/learn/courses/30/lessons/72412)\n",
    "\n",
    "### **문제 설명**\n",
    "\n",
    "**[본 문제는 정확성과 효율성 테스트 각각 점수가 있는 문제입니다.]**\n",
    "\n",
    "카카오는 하반기 경력 개발자 공개채용을 진행 중에 있으며 현재 지원서 접수와 코딩테스트가 종료되었습니다. 이번 채용에서 지원자는 지원서 작성 시 아래와 같이 4가지 항목을 반드시 선택하도록 하였습니다.\n",
    "\n",
    "- 코딩테스트 참여 개발언어 항목에 cpp, java, python 중 하나를 선택해야 합니다.\n",
    "- 지원 직군 항목에 backend와 frontend 중 하나를 선택해야 합니다.\n",
    "- 지원 경력구분 항목에 junior와 senior 중 하나를 선택해야 합니다.\n",
    "- 선호하는 소울푸드로 chicken과 pizza 중 하나를 선택해야 합니다.\n",
    "\n",
    "인재영입팀에 근무하고 있는 `니니즈`는 코딩테스트 결과를 분석하여 채용에 참여한 개발팀들에 제공하기 위해 지원자들의 지원 조건을 선택하면 해당 조건에 맞는 지원자가 몇 명인 지 쉽게 알 수 있는 도구를 만들고 있습니다.\n",
    "\n",
    "예를 들어, 개발팀에서 궁금해하는 문의사항은 다음과 같은 형태가 될 수 있습니다.\n",
    "\n",
    "`코딩테스트에 java로 참여했으며, backend 직군을 선택했고, junior 경력이면서, 소울푸드로 pizza를 선택한 사람 중 코딩테스트 점수를 50점 이상 받은 지원자는 몇 명인가?`\n",
    "\n",
    "물론 이 외에도 각 개발팀의 상황에 따라 아래와 같이 다양한 형태의 문의가 있을 수 있습니다.\n",
    "\n",
    "- 코딩테스트에 python으로 참여했으며, frontend 직군을 선택했고, senior 경력이면서, 소울푸드로 chicken을 선택한 사람 중 코딩테스트 점수를 100점 이상 받은 사람은 모두 몇 명인가?\n",
    "- 코딩테스트에 cpp로 참여했으며, senior 경력이면서, 소울푸드로 pizza를 선택한 사람 중 코딩테스트 점수를 100점 이상 받은 사람은 모두 몇 명인가?\n",
    "- backend 직군을 선택했고, senior 경력이면서 코딩테스트 점수를 200점 이상 받은 사람은 모두 몇 명인가?\n",
    "- 소울푸드로 chicken을 선택한 사람 중 코딩테스트 점수를 250점 이상 받은 사람은 모두 몇 명인가?\n",
    "- 코딩테스트 점수를 150점 이상 받은 사람은 모두 몇 명인가?\n",
    "\n",
    "즉, 개발팀에서 궁금해하는 내용은 다음과 같은 형태를 갖습니다.\n",
    "```\n",
    "*  [조건]을 만족하는 사람 중 코딩테스트 점수를 X점 이상 받은 사람은 모두 몇 명인가?\n",
    "```\n",
    "\n",
    "<br>\n",
    "\n",
    "### **[문제]**\n",
    "\n",
    "지원자가 지원서에 입력한 4가지의 정보와 획득한 코딩테스트 점수를 하나의 문자열로 구성한 값의 배열 info, 개발팀이 궁금해하는 문의조건이 문자열 형태로 담긴 배열 query가 매개변수로 주어질 때,\n",
    "각 문의조건에 해당하는 사람들의 숫자를 순서대로 배열에 담아 return 하도록 solution 함수를 완성해 주세요.\n",
    "\n",
    "<br>\n",
    "\n",
    "### **[제한사항]**\n",
    "\n",
    "- info 배열의 크기는 1 이상 50,000 이하입니다.\n",
    "- info 배열 각 원소의 값은 지원자가 지원서에 입력한 4가지 값과 코딩테스트 점수를 합친 \"개발언어 직군 경력 소울푸드 점수\" 형식입니다.\n",
    "   - 개발언어는 cpp, java, python 중 하나입니다.\n",
    "   - 직군은 backend, frontend 중 하나입니다.\n",
    "   - 경력은 junior, senior 중 하나입니다.\n",
    "   - 소울푸드는 chicken, pizza 중 하나입니다.\n",
    "   - 점수는 코딩테스트 점수를 의미하며, 1 이상 100,000 이하인 자연수입니다.\n",
    "   - 각 단어는 공백문자(스페이스 바) 하나로 구분되어 있습니다.\n",
    "- query 배열의 크기는 1 이상 100,000 이하입니다.\n",
    "- query의 각 문자열은 \"[조건] X\" 형식입니다.\n",
    "   - [조건]은 \"개발언어 and 직군 and 경력 and 소울푸드\" 형식의 문자열입니다.\n",
    "   - 언어는 cpp, java, python, - 중 하나입니다.\n",
    "   - 직군은 backend, frontend, - 중 하나입니다.\n",
    "   - 경력은 junior, senior, - 중 하나입니다.\n",
    "   - 소울푸드는 chicken, pizza, - 중 하나입니다.\n",
    "   - '-' 표시는 해당 조건을 고려하지 않겠다는 의미입니다.\n",
    "   - X는 코딩테스트 점수를 의미하며 조건을 만족하는 사람 중 X점 이상 받은 사람은 모두 몇 명인 지를 의미합니다.\n",
    "   - 각 단어는 공백문자(스페이스 바) 하나로 구분되어 있습니다.\n",
    "   - 예를 들면, \"cpp and - and senior and pizza 500\"은 \"cpp로 코딩테스트를 봤으며, 경력은 senior 이면서 소울푸드로 pizza를 선택한 지원자 중 코딩테스트 점수를 500점 이상 받은 사람은 모두 몇 명인가?\"를 의미합니다.\n",
    "\n",
    "<br>\n",
    "\n",
    "#### **입출력 예**\n",
    "\n",
    "info | query | result\n",
    "-- | -- | --\n",
    "[ <br> \"java backend junior pizza 150\", <br> \"python frontend senior chicken 210\", <br> \"python frontend senior chicken 150\", <br> \"cpp backend senior pizza 260\", <br> \"java backend junior chicken 80\", <br> \"python backend senior chicken 50\" <br> ] | [ <br> \"java and backend and junior and pizza 100\", <br> \"python and frontend and senior and chicken 200\", <br> \"cpp and - and senior and pizza 250\", <br> \"- and backend and senior and - 150\", <br> \"- and - and - and chicken 100\", <br> \"- and - and - and - 150\" <br> ] | [1,1,1,1,2,4]\n",
    "\n",
    "<br>\n",
    "\n",
    "#### **입출력 예에 대한 설명**\n",
    "\n",
    "지원자 정보를 표로 나타내면 다음과 같습니다.\n",
    "\n",
    "언어 | 직군 | 경력 | 소울 푸드 | 점수\n",
    "-- | -- | -- | -- | --\n",
    "java | backend | junior | pizza | 150\n",
    "python | frontend | senior | chicken | 210\n",
    "python | frontend | senior | chicken | 150\n",
    "cpp | backend | senior | pizza | 260\n",
    "java | backend | junior | chicken | 80\n",
    "python | backend | senior | chicken | 50\n",
    "\n",
    "- `\"java and backend and junior and pizza 100\"` : java로 코딩테스트를 봤으며, backend 직군을 선택했고 junior 경력이면서 소울푸드로 pizza를 선택한 지원자 중 코딩테스트 점수를 100점 이상 받은 지원자는 1명 입니다.\n",
    "- `\"python and frontend and senior and chicken 200\"` : python으로 코딩테스트를 봤으며, frontend 직군을 선택했고, senior 경력이면서 소울 푸드로 chicken을 선택한 지원자 중 코딩테스트 점수를 200점 이상 받은 지원자는 1명 입니다.\n",
    "- `\"cpp and - and senior and pizza 250\"` : cpp로 코딩테스트를 봤으며, senior 경력이면서 소울푸드로 pizza를 선택한 지원자 중 코딩테스트 점수를 250점 이상 받은 지원자는 1명 입니다.\n",
    "- `\"- and backend and senior and - 150\"` : backend 직군을 선택했고, senior 경력인 지원자 중 코딩테스트 점수를 150점 이상 받은 지원자는 1명 입니다.\n",
    "- `\"- and - and - and chicken 100\"` : 소울푸드로 chicken을 선택한 지원자 중 코딩테스트 점수를 100점 이상을 받은 지원자는 2명 입니다.\n",
    "- `\"- and - and - and - 150\"` : 코딩테스트 점수를 150점 이상 받은 지원자는 4명 입니다."
   ]
  },
  {
   "cell_type": "markdown",
   "id": "7e2011b9-072b-4732-8a9f-aa8cb80160e3",
   "metadata": {},
   "source": [
    "---\n",
    "## **Solution.py**"
   ]
  },
  {
   "cell_type": "code",
   "execution_count": 1,
   "id": "290dfb34-c6a6-4c36-a410-7845f1909a25",
   "metadata": {},
   "outputs": [],
   "source": [
    "from pprint import pprint"
   ]
  },
  {
   "cell_type": "code",
   "execution_count": 2,
   "id": "f2b5accc-d2f2-4464-9ba7-6ddb1c0f022d",
   "metadata": {},
   "outputs": [],
   "source": [
    "from collections import defaultdict\n",
    "from itertools import product\n",
    "\n",
    "def bin_search(target, arr):\n",
    "    if len(arr) == 0:\n",
    "        return 0\n",
    "    low, high = 0, len(arr)-1\n",
    "    while (low < high):\n",
    "        mid = (low+high)//2\n",
    "        if arr[mid] >= target:\n",
    "            high = mid\n",
    "        else:\n",
    "            low = mid + 1\n",
    "    return len(arr)-low if arr[low] >= target else 0\n",
    "    \n",
    "\n",
    "def solution(info, query):\n",
    "    applicant_idxs = range(len(info))\n",
    "    \n",
    "    data = defaultdict(list)\n",
    "    \n",
    "    for idx in applicant_idxs:\n",
    "        l, j, c, sf, score = info[idx].split()\n",
    "        for x in [''.join(p) for p in product(*[[l,'-'], [j,'-'], [c,'-'], [sf,'-']])]:\n",
    "            data[x].append(int(score))\n",
    "        \n",
    "    for k, v in data.items():\n",
    "        data[k] = sorted(v)\n",
    "    # pprint(list(data.keys()))\n",
    "    answer = []\n",
    "    for q in query:\n",
    "        l, j, c, sf_X = q.split(' and ')\n",
    "        sf, X = sf_X.split()\n",
    "        X = int(X)\n",
    "        key = ''.join([l, j, c, sf])\n",
    "        matched_scores = data[key]\n",
    "        ans = bin_search(X, matched_scores)\n",
    "        answer.append(ans)\n",
    "    return answer"
   ]
  },
  {
   "cell_type": "code",
   "execution_count": 3,
   "id": "72ede3f3-fb13-4bb7-9d64-64d936a15c97",
   "metadata": {},
   "outputs": [],
   "source": [
    "inputs = [\n",
    "    (\n",
    "        [\"java backend junior pizza 150\",\"python frontend senior chicken 210\",\"python frontend senior chicken 150\",\"cpp backend senior pizza 260\",\"java backend junior chicken 80\",\"python backend senior chicken 50\"],\n",
    "        [\"java and backend and junior and pizza 100\",\"python and frontend and senior and chicken 200\",\"cpp and - and senior and pizza 250\",\"- and backend and senior and - 150\",\"- and - and - and chicken 100\",\"- and - and - and - 150\"]\n",
    "    )\n",
    "]\n",
    "outputs = [\n",
    "    [1,1,1,1,2,4]\n",
    "]"
   ]
  },
  {
   "cell_type": "code",
   "execution_count": 4,
   "id": "d9a7d5c0-fe3b-48d6-b54b-e9e1c6668bf7",
   "metadata": {},
   "outputs": [
    {
     "name": "stdout",
     "output_type": "stream",
     "text": [
      "True [1, 1, 1, 1, 2, 4] [1, 1, 1, 1, 2, 4]\n"
     ]
    }
   ],
   "source": [
    "for idx, (i, o) in enumerate(zip(inputs, outputs)):\n",
    "    sol_ = solution(*i)\n",
    "    print(sol_==o, sol_, o)"
   ]
  },
  {
   "cell_type": "markdown",
   "id": "9d1db16b-f582-4e94-8495-17fcc96e70e2",
   "metadata": {},
   "source": [
    "<img width=\"400\" src=\"https://user-images.githubusercontent.com/42428487/154426217-f7fd5dba-8125-42e4-85b3-b586becd20e3.png\">"
   ]
  }
 ],
 "metadata": {
  "kernelspec": {
   "display_name": "Python 3 (ipykernel)",
   "language": "python",
   "name": "python3"
  },
  "language_info": {
   "codemirror_mode": {
    "name": "ipython",
    "version": 3
   },
   "file_extension": ".py",
   "mimetype": "text/x-python",
   "name": "python",
   "nbconvert_exporter": "python",
   "pygments_lexer": "ipython3",
   "version": "3.7.0"
  }
 },
 "nbformat": 4,
 "nbformat_minor": 5
}
