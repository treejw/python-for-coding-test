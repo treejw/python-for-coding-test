{
 "cells": [
  {
   "cell_type": "markdown",
   "id": "e2529c81-85da-4f54-84c3-ddf7334c2c6f",
   "metadata": {},
   "source": [
    "# [**카펫**](https://programmers.co.kr/learn/courses/30/lessons/42842)\n",
    "\n",
    "#### **문제 설명**\n",
    "Leo는 카펫을 사러 갔다가 아래 그림과 같이 중앙에는 노란색으로 칠해져 있고 테두리 1줄은 갈색으로 칠해져 있는 격자 모양 카펫을 봤습니다.\n",
    "\n",
    "<img src=\"https://grepp-programmers.s3.ap-northeast-2.amazonaws.com/files/production/b1ebb809-f333-4df2-bc81-02682900dc2d/carpet.png\" width=\"400\">\n",
    "\n",
    "Leo는 집으로 돌아와서 아까 본 카펫의 노란색과 갈색으로 색칠된 격자의 개수는 기억했지만, 전체 카펫의 크기는 기억하지 못했습니다.\n",
    "\n",
    "Leo가 본 카펫에서 갈색 격자의 수 brown, 노란색 격자의 수 yellow가 매개변수로 주어질 때 카펫의 가로, 세로 크기를 순서대로 배열에 담아 return 하도록 solution 함수를 작성해주세요.\n",
    "\n",
    "<br>\n",
    "\n",
    "#### **제한사항**\n",
    "\n",
    "- 갈색 격자의 수 brown은 8 이상 5,000 이하인 자연수입니다.\n",
    "- 노란색 격자의 수 yellow는 1 이상 2,000,000 이하인 자연수입니다.\n",
    "- 카펫의 가로 길이는 세로 길이와 같거나, 세로 길이보다 깁니다.\n",
    "\n",
    "<br>\n",
    "\n",
    "#### **입출력 예**\n",
    "| brown |\tyellow |\treturn |\n",
    "|:-:|:-:|:-:|\n",
    "| 10 |\t2 |\t[4, 3] |\n",
    "| 8 |\t1 |\t[3, 3] |\n",
    "| 24 |\t24 |\t[8, 6] |\n"
   ]
  },
  {
   "cell_type": "markdown",
   "id": "cbf1a074-d38d-41b9-ad3f-7e2785a87e4d",
   "metadata": {},
   "source": [
    "---\n",
    "## **Solution.py**"
   ]
  },
  {
   "cell_type": "code",
   "execution_count": 1,
   "id": "290dfb34-c6a6-4c36-a410-7845f1909a25",
   "metadata": {},
   "outputs": [],
   "source": [
    "from pprint import pprint"
   ]
  },
  {
   "cell_type": "code",
   "execution_count": 2,
   "id": "7207a775-b05b-401b-82e4-f331b5dfb6c1",
   "metadata": {},
   "outputs": [],
   "source": [
    "def getFactors(n):\n",
    "    res = list()\n",
    "    for x in range(3, int(n**0.5)+1):\n",
    "        if n % x == 0:\n",
    "            res.append((int(n/x), x))\n",
    "    return res\n",
    "            \n",
    "\n",
    "def solution(brown, yellow):            # brown=24, yellow=24\n",
    "    cases = getFactors(brown + yellow)  # [(16, 3), (12, 4), (8, 6)]\n",
    "    \n",
    "    for w, h in cases:\n",
    "        if ( (w-2)*(h-2) == yellow ) and (2*w + 2*h - 4) == brown: \n",
    "            return [w, h]"
   ]
  },
  {
   "cell_type": "code",
   "execution_count": 3,
   "id": "9978a789-1595-4f2d-8f59-a02f10ac323f",
   "metadata": {},
   "outputs": [],
   "source": [
    "inputs = [\n",
    "    (10, 2),\n",
    "    (8, 1),\n",
    "    (24, 24)\n",
    "]\n",
    "outputs = [\n",
    "    [4, 3],\n",
    "    [3, 3],\n",
    "    [8, 6]\n",
    "]"
   ]
  },
  {
   "cell_type": "code",
   "execution_count": 4,
   "id": "130d4ac4-e5ae-414f-9f19-90e29a023c61",
   "metadata": {},
   "outputs": [
    {
     "name": "stdout",
     "output_type": "stream",
     "text": [
      "[4, 3] [4, 3]\n",
      "[3, 3] [3, 3]\n",
      "[8, 6] [8, 6]\n"
     ]
    }
   ],
   "source": [
    "for idx, (i, o) in enumerate(zip(inputs, outputs)):\n",
    "    print(solution(*i), o)"
   ]
  },
  {
   "cell_type": "markdown",
   "id": "4303ebb7-2542-4a54-9bfe-08dab686ec34",
   "metadata": {},
   "source": [
    "<img src=\"https://user-images.githubusercontent.com/42428487/144821507-59f5c365-e9d6-49b7-a840-630a539bd16f.png\" width=\"600;\">"
   ]
  }
 ],
 "metadata": {
  "kernelspec": {
   "display_name": "Python 3 (ipykernel)",
   "language": "python",
   "name": "python3"
  },
  "language_info": {
   "codemirror_mode": {
    "name": "ipython",
    "version": 3
   },
   "file_extension": ".py",
   "mimetype": "text/x-python",
   "name": "python",
   "nbconvert_exporter": "python",
   "pygments_lexer": "ipython3",
   "version": "3.7.0"
  }
 },
 "nbformat": 4,
 "nbformat_minor": 5
}
